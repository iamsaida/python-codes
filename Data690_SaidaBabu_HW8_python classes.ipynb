{
 "cells": [
  {
   "cell_type": "markdown",
   "metadata": {},
   "source": [
    "# Lecture - 8 Assignment"
   ]
  },
  {
   "cell_type": "code",
   "execution_count": 1,
   "metadata": {},
   "outputs": [],
   "source": [
    "class FlightItem(object):\n",
    "    def __init__(self, name, dptr, dstn,tvl_dst,tvl_tm,ar_fr):\n",
    "        self.name = name\n",
    "        self.departure = dptr\n",
    "        self.destination = dstn\n",
    "        self.travel_distance = tvl_dst\n",
    "        self.travel_time = tvl_tm\n",
    "        self.air_fare = ar_fr\n",
    "        \n",
    "    def get_name(self):\n",
    "        return self.name\n",
    "    \n",
    "    def get_departure(self):\n",
    "        return self.departure\n",
    "    \n",
    "    def get_destination(self):\n",
    "        return self.destination\n",
    "    \n",
    "    def get_travel_distance(self):\n",
    "        return self.travel_distance\n",
    "    \n",
    "    def get_travel_time(self):\n",
    "        return self.travel_time\n",
    "    \n",
    "    def get_air_fare(self):\n",
    "        return self.air_fare\n",
    "    \n",
    "    def __str__(self):\n",
    "        result = '<' + self.name + ', ' + str(self.departure) + ' , ' + str(self.destination)+ ' , ' + str(self.travel_distance)+ ', ' + str(self.travel_time) + ', '+ str(self.air_fare)+ '>'\n",
    "        return result\n",
    "\n",
    "def travel_distance(item):\n",
    "    return item.get_travel_distance()\n",
    "\n",
    "def travel_time(item):\n",
    "    return item.get_travel_time()\n",
    "\n",
    "def air_fare(item):\n",
    "    return item.get_air_fare()\n",
    "\n",
    "def distance_per_doller(item):\n",
    "    return item.get_travel_distance() / item.get_air_fare()"
   ]
  },
  {
   "cell_type": "code",
   "execution_count": 2,
   "metadata": {},
   "outputs": [],
   "source": [
    "def greedy(items, max_time, key_function):\n",
    "    items_copy = sorted(items, key=key_function)\n",
    "    result = []\n",
    "    total_distance, total_time = 0.0, 0.0\n",
    "    for i in range(len(items_copy)):\n",
    "        if (total_time + items_copy[i].get_travel_time()) <= max_time:\n",
    "            result.append(items_copy[i])\n",
    "            total_time += items_copy[i].get_travel_time()\n",
    "            total_distance += items_copy[i].get_travel_distance()\n",
    "    return (result, total_distance)"
   ]
  },
  {
   "cell_type": "code",
   "execution_count": 3,
   "metadata": {},
   "outputs": [],
   "source": [
    "def build_items():\n",
    "    names = ['flight 111', 'flight 222', 'flight 333', 'flight 444', 'flight 555', 'flight 656', 'flight 777']\n",
    "    departure = ['ALB', 'BWI', 'BOS', 'DEN', 'DFW', 'LAX', 'SFO' ]\n",
    "    destination = ['DFW', 'SFO', 'SFO', ' LAX ', 'BWI', 'DFW', 'DEN' ]\n",
    "    travel_distance = [1650, 2825, 3106, 1056, 1381, 1443, 1258]\n",
    "    travel_time = [120, 300, 360, 180, 150, 90, 110]\n",
    "    air_fare = [200.00, 300.00, 650.00, 150.00, 220.00, 315.00, 300.00]\n",
    "    items = []\n",
    "    for i in range(len(travel_distance)):\n",
    "        items.append(FlightItem(names[i], departure[i], destination[i],travel_distance[i],travel_time[i],air_fare[i]))\n",
    "    return items\n",
    "\n",
    "def test_greedy(items, max_time, key_function):\n",
    "    taken, val = greedy(items, max_time, key_function)\n",
    "    print('Total value of items taken is', val)\n",
    "    for item in taken:\n",
    "        print('   ', item)"
   ]
  },
  {
   "cell_type": "code",
   "execution_count": 4,
   "metadata": {},
   "outputs": [],
   "source": [
    "def test_greedys(max_time = 100):\n",
    "    items = build_items()\n",
    "    print('Use greedy by distance to fill knapsack of size', max_time)\n",
    "    test_greedy(items, max_time, travel_distance)\n",
    "    print('\\nUse greedy by fare to fill knapsack of size', max_time)\n",
    "    test_greedy(items, max_time, air_fare)\n",
    "    print('\\nUse greedy by distance per dollor to fill knapsack of size', max_time)\n",
    "    test_greedy(items, max_time, distance_per_doller)"
   ]
  },
  {
   "cell_type": "code",
   "execution_count": 5,
   "metadata": {},
   "outputs": [
    {
     "name": "stdout",
     "output_type": "stream",
     "text": [
      "Use greedy by distance to fill knapsack of size 100\n",
      "Total value of items taken is 1443.0\n",
      "    <flight 656, LAX , DFW , 1443, 90, 315.0>\n",
      "\n",
      "Use greedy by fare to fill knapsack of size 100\n",
      "Total value of items taken is 1443.0\n",
      "    <flight 656, LAX , DFW , 1443, 90, 315.0>\n",
      "\n",
      "Use greedy by distance per dollor to fill knapsack of size 100\n",
      "Total value of items taken is 1443.0\n",
      "    <flight 656, LAX , DFW , 1443, 90, 315.0>\n"
     ]
    }
   ],
   "source": [
    "test_greedys()"
   ]
  },
  {
   "cell_type": "code",
   "execution_count": 6,
   "metadata": {},
   "outputs": [
    {
     "name": "stdout",
     "output_type": "stream",
     "text": [
      "Use greedy by distance to fill knapsack of size 100\n",
      "Total value of items taken is 1443.0\n",
      "    <flight 656, LAX , DFW , 1443, 90, 315.0>\n",
      "\n",
      "Use greedy by fare to fill knapsack of size 100\n",
      "Total value of items taken is 1443.0\n",
      "    <flight 656, LAX , DFW , 1443, 90, 315.0>\n",
      "\n",
      "Use greedy by distance per dollor to fill knapsack of size 100\n",
      "Total value of items taken is 1443.0\n",
      "    <flight 656, LAX , DFW , 1443, 90, 315.0>\n"
     ]
    }
   ],
   "source": [
    "test_greedys(100)"
   ]
  },
  {
   "cell_type": "code",
   "execution_count": 7,
   "metadata": {},
   "outputs": [
    {
     "name": "stdout",
     "output_type": "stream",
     "text": [
      "Use greedy by distance to fill knapsack of size 200\n",
      "Total value of items taken is 1056.0\n",
      "    <flight 444, DEN ,  LAX  , 1056, 180, 150.0>\n",
      "\n",
      "Use greedy by fare to fill knapsack of size 200\n",
      "Total value of items taken is 1056.0\n",
      "    <flight 444, DEN ,  LAX  , 1056, 180, 150.0>\n",
      "\n",
      "Use greedy by distance per dollor to fill knapsack of size 200\n",
      "Total value of items taken is 2701.0\n",
      "    <flight 777, SFO , DEN , 1258, 110, 300.0>\n",
      "    <flight 656, LAX , DFW , 1443, 90, 315.0>\n"
     ]
    }
   ],
   "source": [
    "test_greedys(200)"
   ]
  },
  {
   "cell_type": "code",
   "execution_count": 8,
   "metadata": {},
   "outputs": [
    {
     "name": "stdout",
     "output_type": "stream",
     "text": [
      "Use greedy by distance to fill knapsack of size 300\n",
      "Total value of items taken is 2314.0\n",
      "    <flight 444, DEN ,  LAX  , 1056, 180, 150.0>\n",
      "    <flight 777, SFO , DEN , 1258, 110, 300.0>\n",
      "\n",
      "Use greedy by fare to fill knapsack of size 300\n",
      "Total value of items taken is 2706.0\n",
      "    <flight 444, DEN ,  LAX  , 1056, 180, 150.0>\n",
      "    <flight 111, ALB , DFW , 1650, 120, 200.0>\n",
      "\n",
      "Use greedy by distance per dollor to fill knapsack of size 300\n",
      "Total value of items taken is 2701.0\n",
      "    <flight 777, SFO , DEN , 1258, 110, 300.0>\n",
      "    <flight 656, LAX , DFW , 1443, 90, 315.0>\n"
     ]
    }
   ],
   "source": [
    "test_greedys(300)"
   ]
  },
  {
   "cell_type": "code",
   "execution_count": null,
   "metadata": {},
   "outputs": [],
   "source": []
  }
 ],
 "metadata": {
  "kernelspec": {
   "display_name": "Python 3",
   "language": "python",
   "name": "python3"
  },
  "language_info": {
   "codemirror_mode": {
    "name": "ipython",
    "version": 3
   },
   "file_extension": ".py",
   "mimetype": "text/x-python",
   "name": "python",
   "nbconvert_exporter": "python",
   "pygments_lexer": "ipython3",
   "version": "3.8.5"
  }
 },
 "nbformat": 4,
 "nbformat_minor": 4
}
