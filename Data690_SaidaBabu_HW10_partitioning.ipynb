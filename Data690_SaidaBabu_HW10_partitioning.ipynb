{
 "cells": [
  {
   "cell_type": "markdown",
   "metadata": {},
   "source": [
    "# DATA  690 - Lecture 10 Assignment"
   ]
  },
  {
   "cell_type": "markdown",
   "metadata": {},
   "source": [
    "## Creating a sample code of partitioning. Use 5 as k argumemnt."
   ]
  },
  {
   "cell_type": "code",
   "execution_count": 117,
   "metadata": {},
   "outputs": [],
   "source": [
    "import numpy as np"
   ]
  },
  {
   "cell_type": "code",
   "execution_count": 118,
   "metadata": {},
   "outputs": [
    {
     "name": "stdout",
     "output_type": "stream",
     "text": [
      "\n",
      "Given Array is :  [17  2 18 14 16  6 12 19  8 12]\n",
      "\n",
      "Partitioned Array is :  [ 2  6  8 12 12 14 16 19 18 17]\n"
     ]
    }
   ],
   "source": [
    "x=np.random.randint(low=1, high=20, size=10)\n",
    "print('\\nGiven Array is : ', x)\n",
    "print('\\nPartitioned Array is : ', np.partition(x,5))"
   ]
  },
  {
   "cell_type": "markdown",
   "metadata": {},
   "source": [
    "## Sample Structure Array "
   ]
  },
  {
   "cell_type": "code",
   "execution_count": 119,
   "metadata": {},
   "outputs": [],
   "source": [
    "data = np.zeros(10, dtype={'names':('orderdate', 'orderamount', 'ordernumber', 'ordername'),\n",
    "                          'formats':('U8', 'f8', 'i4',  'U20')})"
   ]
  },
  {
   "cell_type": "code",
   "execution_count": 123,
   "metadata": {},
   "outputs": [],
   "source": [
    "OrderDate = [\"1/2/2021\", \"4/3/2021\",\"2/2/2021\" ,\"3/3/2021\", \"8/4/2021\",\"6/3/2021\", \"2/5/2021\", \"6/2/2021\", \"1/5/2021\",\"8/2/2021\"]\n",
    "OrderAmount = np.random.randint(low=50, high=100, size=10)\n",
    "OrderNumber = [101,102,103,104,105,106,107,108,109,110]\n",
    "OrderName = [\"Mike\",\"John\",\"Rick\",\"Milton\",\"Juce\",\"Jally\",\"Cosher\",\"Pary\",\"Nelson\",\"Miroz\"]\n"
   ]
  },
  {
   "cell_type": "code",
   "execution_count": 124,
   "metadata": {},
   "outputs": [],
   "source": [
    "data [\"orderdate\"]=OrderDate\n",
    "data[\"orderamount\"]= OrderAmount\n",
    "data[\"ordernumber\"]= OrderNumber\n",
    "data[\"ordername\"] = OrderName"
   ]
  },
  {
   "cell_type": "code",
   "execution_count": 125,
   "metadata": {
    "scrolled": true
   },
   "outputs": [
    {
     "name": "stdout",
     "output_type": "stream",
     "text": [
      "[('1/2/2021', 91., 101, 'Mike') ('4/3/2021', 63., 102, 'John')\n",
      " ('2/2/2021', 97., 103, 'Rick') ('3/3/2021', 75., 104, 'Milton')\n",
      " ('8/4/2021', 90., 105, 'Juce') ('6/3/2021', 88., 106, 'Jally')\n",
      " ('2/5/2021', 82., 107, 'Cosher') ('6/2/2021', 51., 108, 'Pary')\n",
      " ('1/5/2021', 72., 109, 'Nelson') ('8/2/2021', 55., 110, 'Miroz')]\n"
     ]
    }
   ],
   "source": [
    "print(data)"
   ]
  },
  {
   "cell_type": "code",
   "execution_count": 126,
   "metadata": {},
   "outputs": [
    {
     "data": {
      "text/plain": [
       "array([('1/2/2021', 91., 101, 'Mike'), ('4/3/2021', 63., 102, 'John'),\n",
       "       ('2/2/2021', 97., 103, 'Rick'), ('3/3/2021', 75., 104, 'Milton')],\n",
       "      dtype=[('orderdate', '<U8'), ('orderamount', '<f8'), ('ordernumber', '<i4'), ('ordername', '<U20')])"
      ]
     },
     "execution_count": 126,
     "metadata": {},
     "output_type": "execute_result"
    }
   ],
   "source": [
    "data[data['ordernumber'] < 105]"
   ]
  },
  {
   "cell_type": "markdown",
   "metadata": {},
   "source": [
    "## Generating the array"
   ]
  },
  {
   "cell_type": "code",
   "execution_count": 127,
   "metadata": {},
   "outputs": [],
   "source": [
    "rng = np.random.RandomState(0)\n",
    "x = rng.randint(10, size=(10, 10))"
   ]
  },
  {
   "cell_type": "code",
   "execution_count": 128,
   "metadata": {},
   "outputs": [
    {
     "name": "stdout",
     "output_type": "stream",
     "text": [
      "[[5 0 3 3 7 9 3 5 2 4]\n",
      " [7 6 8 8 1 6 7 7 8 1]\n",
      " [5 9 8 9 4 3 0 3 5 0]\n",
      " [2 3 8 1 3 3 3 7 0 1]\n",
      " [9 9 0 4 7 3 2 7 2 0]\n",
      " [0 4 5 5 6 8 4 1 4 9]\n",
      " [8 1 1 7 9 9 3 6 7 2]\n",
      " [0 3 5 9 4 4 6 4 4 3]\n",
      " [4 4 8 4 3 7 5 5 0 1]\n",
      " [5 9 3 0 5 0 1 2 4 2]]\n"
     ]
    }
   ],
   "source": [
    "print(x)"
   ]
  },
  {
   "cell_type": "code",
   "execution_count": 129,
   "metadata": {},
   "outputs": [
    {
     "data": {
      "text/plain": [
       "array([[5, 3, 7, 3, 5],\n",
       "       [5, 9, 4, 0, 3],\n",
       "       [9, 4, 7, 2, 7],\n",
       "       [8, 7, 9, 3, 6],\n",
       "       [4, 4, 3, 5, 5]])"
      ]
     },
     "execution_count": 129,
     "metadata": {},
     "output_type": "execute_result"
    }
   ],
   "source": [
    "a1 = np.array([0, 2, 4,6,8])\n",
    "a2 = np.array([0,3, 4, 6, 7])\n",
    "x[a1[:, np.newaxis], a2]"
   ]
  },
  {
   "cell_type": "code",
   "execution_count": null,
   "metadata": {},
   "outputs": [],
   "source": []
  }
 ],
 "metadata": {
  "kernelspec": {
   "display_name": "Python 3",
   "language": "python",
   "name": "python3"
  },
  "language_info": {
   "codemirror_mode": {
    "name": "ipython",
    "version": 3
   },
   "file_extension": ".py",
   "mimetype": "text/x-python",
   "name": "python",
   "nbconvert_exporter": "python",
   "pygments_lexer": "ipython3",
   "version": "3.8.5"
  }
 },
 "nbformat": 4,
 "nbformat_minor": 4
}
