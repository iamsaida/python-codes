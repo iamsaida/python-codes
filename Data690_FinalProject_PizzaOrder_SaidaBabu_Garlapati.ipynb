{
  "nbformat": 4,
  "nbformat_minor": 0,
  "metadata": {
    "colab": {
      "name": "Data690_FinalProject_PizzaOrder_SaidaBabu_Garlapati.ipynb",
      "provenance": [],
      "collapsed_sections": []
    },
    "kernelspec": {
      "display_name": "Python 3",
      "language": "python",
      "name": "python3"
    },
    "language_info": {
      "codemirror_mode": {
        "name": "ipython",
        "version": 3
      },
      "file_extension": ".py",
      "mimetype": "text/x-python",
      "name": "python",
      "nbconvert_exporter": "python",
      "pygments_lexer": "ipython3",
      "version": "3.8.5"
    }
  },
  "cells": [
    {
      "cell_type": "markdown",
      "metadata": {
        "id": "9OX2Qimxx6yQ"
      },
      "source": [
        "##DATA 690 Final Project - Saida Babu Garlapati (gc10652)"
      ]
    },
    {
      "cell_type": "markdown",
      "metadata": {
        "id": "57K8i23LyIhx"
      },
      "source": [
        "Importing all required elements"
      ]
    },
    {
      "cell_type": "code",
      "metadata": {
        "id": "o6MYBtuvLGSG",
        "colab": {
          "base_uri": "https://localhost:8080/"
        },
        "outputId": "ca5e776f-f8b0-4345-ba5b-adf69813ad99"
      },
      "source": [
        "!pip install names\n",
        "import names\n",
        "import random\n",
        "from random import randint\n",
        "import datetime \n",
        "from datetime import date\n",
        "import csv"
      ],
      "execution_count": null,
      "outputs": [
        {
          "output_type": "stream",
          "text": [
            "Collecting names\n",
            "\u001b[?25l  Downloading https://files.pythonhosted.org/packages/44/4e/f9cb7ef2df0250f4ba3334fbdabaa94f9c88097089763d8e85ada8092f84/names-0.3.0.tar.gz (789kB)\n",
            "\u001b[K     |████████████████████████████████| 798kB 5.2MB/s \n",
            "\u001b[?25hBuilding wheels for collected packages: names\n",
            "  Building wheel for names (setup.py) ... \u001b[?25l\u001b[?25hdone\n",
            "  Created wheel for names: filename=names-0.3.0-cp37-none-any.whl size=803689 sha256=e00a9e22149cd8321366f365476dbbc9b53b885769df754fe2e1b83ac5454a12\n",
            "  Stored in directory: /root/.cache/pip/wheels/f9/a5/e1/be3e0aaa6fa285575078fa2aafd9959b45bdbc8de8a6803aeb\n",
            "Successfully built names\n",
            "Installing collected packages: names\n",
            "Successfully installed names-0.3.0\n"
          ],
          "name": "stdout"
        }
      ]
    },
    {
      "cell_type": "markdown",
      "metadata": {
        "id": "U4k4FfNbyRjN"
      },
      "source": [
        "Lists and Dictionaries used"
      ]
    },
    {
      "cell_type": "code",
      "metadata": {
        "id": "Uho-AyTeKxjb"
      },
      "source": [
        "pizzas = [\"Vegetable Pizza\", \"Chicken Pizza\", \"Cheese Pizza\", \"Double Cheese Pizza\", \"Corn Pizza\", \"Cheese Corn Pizza\",\"Pepperoni Pizza\", \"Margherita Pizza\"]\n",
        "pizza_list = {\"Vegetable Pizza\" : 12, \"Chicken Pizza\" : 14, \"Cheese Pizza\" : 12, \"Double Cheese Pizza\" : 14, \"Corn Pizza\" : 12, \"Cheese Corn Pizza\" : 14,\"Pepperoni Pizza\" : 14, \"Margherita Pizza\" : 14}\n",
        "pizza_price = [\"Vegetable Pizza : $12 \", \"Chicken Pizza : $14 \",\"Cheese Pizza : $12 \", \"Double Cheese Pizza : $14 \", \"Corn Pizza : $12 \", \"Cheese Corn Pizza : $14 \", \"Pepperoni Pizza : $14\", \"Margherita Pizza : $14 \"]\n",
        "toppings_used = ['Tomato Sauce', 'Mozzarella cheese', 'Parmesan cheese',\n",
        "                         'Pecorino cheese', 'Garlic', 'Mushrooms', 'Proscuitto']\n",
        "toppings = {'Tomato Sauce' : 2, 'Mozzarella cheese' : 3, 'Parmesan cheese' : 2,\n",
        "                         'Pecorino cheese' : 3, 'Garlic' : 2, 'Mushrooms' : 2, 'Proscuitto' : 3}\n",
        "toppings_price = ['Tomato Sauce : $2', 'Mozzarella cheese : $3', 'Parmesan cheese : $2', 'Pecorino cheese : $3', 'Garlic : $2', 'Mushrooms : $2', 'Proscuitto : $3']\n",
        "crust_used = ['Thin Crust', 'Medium Crust', 'Thick Crust']\n",
        "crust_type = {'Thin Crust' : 3, 'Medium Crust' : 4, 'Thick Crust' : 5}\n",
        "crust_price = ['Thin Crust : $3', 'Medium Crust : $4', 'Thick Crust : $5']\n",
        "pizza_stores = [['21227', '21228', '21234', '21087', '21221'],['Arbutus','Catonsville','Parkville', 'Kingsville', 'Essex']]"
      ],
      "execution_count": null,
      "outputs": []
    },
    {
      "cell_type": "markdown",
      "metadata": {
        "id": "enGhd0gKyZad"
      },
      "source": [
        "Class Pizza\n",
        "\n",
        "● Ability to specify toppings\n",
        "\n",
        "○ Ability to add/remove toppings\n",
        "\n",
        "● Ability to specify price\n",
        "\n",
        "● Ability to specify crust type (thin/medium/thick)"
      ]
    },
    {
      "cell_type": "code",
      "metadata": {
        "id": "CBTQyblxstei"
      },
      "source": [
        "\n",
        "class pizza(object):\n",
        "    \n",
        "    def __init__(self):\n",
        "        \n",
        "        self.pizza_list = pizza_list\n",
        "        self.pizza_price = pizza_price\n",
        "        self.toppings_used = toppings_used\n",
        "        self.toppings = toppings\n",
        "        self.toppings_price = toppings_price\n",
        "        self.crust_used = crust_used\n",
        "        self.crust_type = crust_type\n",
        "        self.crust_price = crust_price\n",
        "        self.cl = []\n",
        "                    \n",
        "    def add_topping(self):\n",
        "        \n",
        "        self.tl = []\n",
        "        self.tpng_quant=int(input(\"\\nNumber of toppings you would like to add : \"))\n",
        "        \n",
        "        print(\"\\nToppings available presently are : \\n\")\n",
        "        \n",
        "        for i in range(len(toppings_used)):\n",
        "            print('\\n',toppings_price[i])\n",
        "            \n",
        "        for i in range (self.tpng_quant):\n",
        "            ta = input(\"\\nChoose from above toppings : \")\n",
        "            self.ta = ta\n",
        "            self.tl.append(ta)  \n",
        "            if ta not in toppings_used:\n",
        "                print(\"Error input\")\n",
        "                self.add_topping()\n",
        "                      \n",
        "        print(\"\\n\\nPizza toppings selected are : \",self.tl)\n",
        "        self.modified_list = self.drop_topping()\n",
        "        return self.modified_list    \n",
        "    \n",
        "    def drop_topping(self):\n",
        "        \n",
        "        print(\"\\n\\nAdd Topping\\n\\nDrop Topping \\n\\nConfirm Topping\")\n",
        "        self.e=str(input(\"\\nEnter your command\"))\n",
        "        \n",
        "        if self.e == \"Add Topping\":\n",
        "            pizza.add_topping(self)\n",
        "        \n",
        "        if self.e == \"Drop Topping\": \n",
        "            self.td=int(input(\"\\nNumber of toppings to be deleted\\n\"))\n",
        "            if self.td == 0: \n",
        "                return self.tl\n",
        "            elif self.td <= (len(self.tl)):  \n",
        "                for i in range(0,(self.td)):\n",
        "                    for j in range(len(self.tl)):\n",
        "                        print(\"\\ntoppings selected : \",j+1,\"-\", self.tl[j])\n",
        "                    self.td1 = int(input(\"\\nTopping to be deleted\\n\"))\n",
        "                    self.tl.pop(self.td1-1)\n",
        "                print(\"Your Modified toppings are\\n\",self.tl)\n",
        "                return self.tl\n",
        "                self.drop_topping()\n",
        "            elif self.td==len(self.tl):\n",
        "                print(\"\\nChoose the toppings again\")\n",
        "                self.add_topping()\n",
        "            else:\n",
        "                print(\"\\nEnter a valid choice\")\n",
        "                self.drop_topping()\n",
        "                \n",
        "        elif self.e == \"Confirm Topping\":\n",
        "            return self.tl  \n",
        "        \n",
        "    def crust(self):\n",
        "        crust_list = ['Thin Crust', 'Medium Crust', 'Thick Crust']\n",
        "        print(\"\\nThin Crust: $3\\n\\nMedium Crust: $4\\n\\nThick Crust: $5\")\n",
        "        self.crust_type = {'Thin crust' : 3, 'Medium crust' : 4, 'Thick crust' : 5}\n",
        "        req_crust = input(\"\\nEnter your command\")\n",
        "        self.req_crust = req_crust\n",
        "        \n",
        "        for item in crust_used:\n",
        "            if item == req_crust:\n",
        "                self.crust = req_crust\n",
        "                self.cl.append(self.crust)\n",
        "                \n",
        "        if req_crust not in crust_used:   \n",
        "            print(\"Error command\")\n",
        "            self.crust()\n",
        "        print(\"\\n\\nSelected Crust is : \",self.cl)\n",
        "        return self.cl   "
      ],
      "execution_count": null,
      "outputs": []
    },
    {
      "cell_type": "markdown",
      "metadata": {
        "id": "PCMUER-WylxP"
      },
      "source": [
        "Class PizzaOrder\n",
        "\n",
        "● Ability to add/remove pizza(s)\n",
        "\n",
        "○ An order can have more than one pizza.\n",
        "\n",
        "● Ability to specify the store for which the order is made\n",
        "\n",
        "● Ability to apply special promotion code\n",
        "\n",
        "● Ability to check the order status\n",
        "\n",
        "○ Possible statuses are ORDER_CREATED, ORDER_CANCELED, ORDER_READY, ORDER_ON_DELIVERY, ORDER_COMPLETE\n",
        "\n",
        "● Has customer information"
      ]
    },
    {
      "cell_type": "code",
      "metadata": {
        "id": "SRfpOxCuLB7j"
      },
      "source": [
        "order_list = []\n",
        "class PizzaOrder(pizza):\n",
        "    \n",
        "    def __init__(self):\n",
        "        self.pizzas = pizzas\n",
        "        self.pizza_list = pizza_list\n",
        "        self.pizza_price = pizza_price \n",
        "        self.toppings = toppings\n",
        "        self.toppings_price = toppings_price\n",
        "        self.crust_used = crust_used\n",
        "        self.crust_type = crust_type\n",
        "        self.crust_price = crust_price\n",
        "        self.pizza_stores = pizza_stores\n",
        "        self.nl=[]\n",
        "        self.el = [[],[],[]]\n",
        "        self.order_list = [[]]\n",
        "        self.pl= ['New10']\n",
        "        \n",
        "    def add_pizza(self):\n",
        "        \n",
        "        self.tt=[]\n",
        "        self.tc=[]\n",
        "        subtotal_pizza = 0.00\n",
        "        self.add = int(input(\"\\nNumber of pizzas to be ordered : \"))\n",
        "        pizzas = [\"Vegetable Pizza\", \"Chicken Pizza\", \"Cheese Pizza\", \"Double Cheese Pizza\", \"Corn Pizza\", \"Cheese Corn Pizza\",\"Pepperoni Pizza\", \"Margherita Pizza\"]\n",
        "        \n",
        "        for item in range(self.add):\n",
        "            for item in range (len(self.pizza_price)):\n",
        "                print('\\n',self.pizza_price[item] )\n",
        "            ps=input(\"\\nChoose the Pizza \\n\")\n",
        "            self.ps = ps\n",
        "            self.nl.append(ps)\n",
        "            print('\\nSelected Pizza is : ', self.nl) \n",
        "            print(\"\\nPlease select your toppings \\n\")                 \n",
        "            qs=pizza().add_topping()\n",
        "            rs=pizza().crust()\n",
        "            self.el[0].append(ps)  \n",
        "            self.el[1].append(qs)\n",
        "            self.el[2].append(rs)         \n",
        "        \n",
        "    def drop_pizza(self):\n",
        "        \n",
        "        if len(self.el[0]) == 0:\n",
        "            print(\"You have not selected any pizzas\")\n",
        "            self.add_pizza()\n",
        "            \n",
        "        else:\n",
        "            print(\"The list of pizzas in your ordered list are\") \n",
        "            for i in range(len(self.el[0])):\n",
        "                print(i+1, \"-\", self.el[0][i])\n",
        "            print(\" Please select the pizza number you want to drop\")\n",
        "            self.dropp = int(input(\"Enter Your Number\"))\n",
        "            self.el[0].pop(self.dropp-1)\n",
        "            self.el[1].pop(self.dropp-1)\n",
        "            self.el[2].pop(self.dropp-1)    \n",
        "            \n",
        "    def order(self):\n",
        "        \n",
        "        print(\"\\nChoose from the options below\\n\\nAdd Pizza\\n\\nDrop Pizza\\n\\nOrder Finished\\n\")\n",
        "        command=['Add Pizza', 'Drop Pizza', 'Order Finished']\n",
        "        self.n = input(\"\\nType your command\")\n",
        "        \n",
        "        if (self.n == command[0]):\n",
        "            self.add_pizza()\n",
        "            self.order()\n",
        "        elif (self.n== command[1]):\n",
        "            self.drop_pizza()\n",
        "            self.order()\n",
        "        elif (self.n== command[2]):\n",
        "            print(self.el)\n",
        "            self.sn=store().storeinfo()    \n",
        "            \n",
        "        else:\n",
        "            print(\"\\nEnter a Valid Input\")\n",
        "            self.order()\n",
        "            \n",
        "    def bill(self):\n",
        "        \n",
        "        Total = 0\n",
        "        self.PizzaPrice = 0\n",
        "        self.ToppingPrice = 0\n",
        "        self.CrustPrice = 0 \n",
        "        \n",
        "        for i in range(len(self.el[0])):\n",
        "            self.PizzaPrice += pizza_list[self.el[0][i]]\n",
        "        \n",
        "        for j in range(len(self.el[1])):\n",
        "            for k in range(len(self.el[1][j])):\n",
        "                self.ToppingPrice += toppings[self.el[1][j][k]]\n",
        "            \n",
        "        for m in range(len(self.el[2])): \n",
        "            for n in range(len(self.el[2][m])):\n",
        "                self.CrustPrice += crust_type[self.el[2][m][n]]\n",
        "                                           \n",
        "        self.Total = self.PizzaPrice + self.ToppingPrice + self.CrustPrice\n",
        "        print(\"\\nYour order cost is\", self.Total)        \n",
        "    \n",
        "    def promocode(self):\n",
        "        \n",
        "        print('\\nAvailable promocodes are : ', self.pl,'\\n(Applies only if you are a First time Customer)')\n",
        "        self.c=str(input(\"\\nType Promocode or else Enter\"))\n",
        "        \n",
        "        if (self.c in self.pl):\n",
        "            print(\"\\nPromocode applied sucessfully\\n\")\n",
        "            self.Total -= self.Total/10\n",
        "            print(\"\\nCost of your order after applying the promocode is\",self.Total,'\\n')\n",
        "        elif (self.c== \"\"):\n",
        "            print(\"\\nNo Promocode is applied\\n\")\n",
        "        else:\n",
        "            print(\"\\nPlease enter a valid proomocode\\n\")\n",
        "            self.promotioncode() \n",
        "            \n",
        "    def customerinfo(self):\n",
        "        self.firstname = customer().firstname()\n",
        "        self.lastname = customer().lastname()\n",
        "        self.date_ordered = customer().order_date()\n",
        "        self.phone_number = customer().phone_number()   \n",
        "        \n",
        "    def final_order(self):\n",
        "        order_confirmation_number = random.randint(0,1000000)\n",
        "        self.order_placed = {'Store Address' : self.sn, 'Ordered Date' : self.date_ordered, 'Customer Firstname' : self.firstname, 'Customer Lastname' : self.lastname, 'Customer Contact Number' : self.phone_number,'Order Confirmation Number': order_confirmation_number,'Pizza Ordered' : self.el[0],'Toppings Choosen' : self.el[1],'Choosen Crust Type' : self.el[2],\n",
        "                     'Order Bill' : self.Total}       \n",
        "        self.req_order_list = [self.sn, self.date_ordered, self.firstname, self.lastname, self.phone_number, order_confirmation_number, self.el[0], self.el[1], self.el[2],\n",
        "                      self.Total]\n",
        "        order_list.append(self.req_order_list)\n",
        "        self.order_list = order_list\n",
        "        self.final_order = self.order_placed\n",
        "        file = open(\"final_order.csv\",\"w+\", newline = \"\")\n",
        "        with file:\n",
        "            write = csv.writer(file)\n",
        "            write.writerows(order_list)\n",
        "        return self.order_placed\n",
        "        "
      ],
      "execution_count": null,
      "outputs": []
    },
    {
      "cell_type": "markdown",
      "metadata": {
        "id": "fLMPG_3Dy3j5"
      },
      "source": [
        "Class Employee\n",
        "\n",
        "● Has first name, last name"
      ]
    },
    {
      "cell_type": "code",
      "metadata": {
        "id": "Wptt-QdDLLIG"
      },
      "source": [
        "class employee(object):\n",
        "    \n",
        "    def firstname(self):\n",
        "         return names.get_first_name()\n",
        "    def lastname(self):\n",
        "        return names.get_last_name()"
      ],
      "execution_count": null,
      "outputs": []
    },
    {
      "cell_type": "markdown",
      "metadata": {
        "id": "SiUhGYl8y9fv"
      },
      "source": [
        "Class Customer\n",
        "\n",
        "● Has first name, last name, phone number, zip code"
      ]
    },
    {
      "cell_type": "code",
      "metadata": {
        "id": "KyFflCgdLOtO"
      },
      "source": [
        "class customer(object):\n",
        "    \n",
        "    def firstname(self):\n",
        "        return names.get_first_name()\n",
        "    def lastname(self):\n",
        "        return names.get_last_name()\n",
        "    def order_date(self):\n",
        "        start_dt = date.today().replace(day=1, month=1).toordinal()\n",
        "        end_dt = date.today().toordinal()\n",
        "        rnd_dt = date.fromordinal(random.randint(start_dt, end_dt))\n",
        "        return rnd_dt\n",
        "    def phone_number(self):\n",
        "        o=\"+1 \"\n",
        "        return (str('+1') + str(randint(0,9999999999)))"
      ],
      "execution_count": null,
      "outputs": []
    },
    {
      "cell_type": "markdown",
      "metadata": {
        "id": "v6upjvjTzEey"
      },
      "source": [
        "Class Store\n",
        "\n",
        "● Ability to hold a list of employees\n",
        "\n",
        "○ Ability to add/remove employees\n",
        "\n",
        "● Needs to have address including zip code\n",
        "\n",
        "● Needs to have phone number\n",
        "\n",
        "● Needs to be able to show monthly pizza sales"
      ]
    },
    {
      "cell_type": "code",
      "metadata": {
        "id": "KPXD4g34LW1G"
      },
      "source": [
        "store1 = [[],[]]\n",
        "store2 = [[],[]]\n",
        "store3 = [[],[]]\n",
        "store4 = [[],[]]\n",
        "store5 = [[],[]]\n",
        "store = [store1, store2, store3, store4, store5]\n",
        "store_tobe_changed=[]\n",
        "\n",
        "class store(object):\n",
        "    \n",
        "    def __init__(self):\n",
        "        self.pizza_stores = [['21227', '21228', '21234', '21087', '21221'],['Arbutus','Catonsville','Parkville', 'Kingsville', 'Essex']]\n",
        "        \n",
        "    def storeinfo(self):\n",
        "        \n",
        "        for i in range(len(self.pizza_stores[0])):\n",
        "            print(\"\\nLocation : \", self.pizza_stores[1][i] , \"  ZipCode : \", self.pizza_stores[0][i])   \n",
        "        self.zipcode=str(input(\"\\nEnter the ZipCode\"))\n",
        "        \n",
        "        for i in range(len(self.pizza_stores[0])):\n",
        "            if (self.pizza_stores[0][i] == self.zipcode):\n",
        "                print('\\nYou have ordered from ',  self.pizza_stores[1][i], 'Pizza store.\\n')\n",
        "                return self.zipcode\n",
        "                            \n",
        "        for i in range(len(self.pizza_stores[0])):\n",
        "            if (self.pizza_stores[0][i] != self.zipcode):\n",
        "                print(\"\\n\\nNo Pizza store in given zipode\\n\")\n",
        "                for i in range (len(self.pizza_stores[0])):\n",
        "                        print('Location : ',self.pizza_stores[1][i], \"ZipCode : \",self.pizza_stores[0][i])\n",
        "                self.storeinfo()\n",
        "                \n",
        "    def contact_number(self):\n",
        "        o=\"+1 \"\n",
        "        return (str('+1') + str(randint(0,9999999999)))            \n",
        "    \n",
        "    def employees_list(self):\n",
        "        \n",
        "        print(\"\\n\\nAdd Employee\\n\\nRemove Employee\\n\\nFinished\\n\")\n",
        "        self.command = str(input(\"\\nEnter your command\"))\n",
        "        store = [store1, store2, store3, store4, store5]\n",
        "       \n",
        "        if self.command == \"Add Employee\":\n",
        "            print(\"\\nList of stores are\\n\")\n",
        "            for i in range(len(self.pizza_stores[1])):\n",
        "                print(self.pizza_stores[1][i],'\\n')\n",
        "            s = input(\"\\nStore to be added with an employee\\n\")\n",
        "            self.s = s\n",
        "            for i in range(len(pizza_stores[1])):\n",
        "                if (s == pizza_stores[1][i]):\n",
        "                    self.numofemps = int(input(\"\\nEnter number of employees you want to add to the store\"))\n",
        "                    for j in range (self.numofemps):\n",
        "                        a2 = employee()\n",
        "                        b2 = a2.firstname()\n",
        "                        c2 = a2.lastname()\n",
        "                        stre=store[i]\n",
        "                        stre[0].append(b2)\n",
        "                        stre[1].append(c2)\n",
        "                    self.employees_list()\n",
        "            if s not in pizza_stores[1]:\n",
        "                print('\\nChoose choices correctly')\n",
        "                self.employees_list()\n",
        "                   \n",
        "        elif  (self.command == \"Remove Employee\"):\n",
        "            print(\"\\nList of stores are\\n\")\n",
        "            for i in range(len(self.pizza_stores[1])):\n",
        "                print(self.pizza_stores[1][i],'\\n')\n",
        "            num = input(\"\\nEnter the store for which you want to drop an employee\\n\\n\")\n",
        "            self.num=num\n",
        "            for i in range(len(pizza_stores[1])):\n",
        "                if (num == pizza_stores[1][i]):\n",
        "                    stre=store[i]\n",
        "                    self.p = int(input(\"\\nEnter number of employees you want to delete from the store\\n\"))\n",
        "                    if self.p < len(stre[0]):\n",
        "                        print(\"\\nThe employess first and last names are\")\n",
        "                        for i in range (self.p):\n",
        "                            for j in range(len(stre[0])):\n",
        "                                print(j+1,\") \",stre[0][j],stre[1][j])\n",
        "                            self.q=int(input(\"Please select the corresponding number of employee you want to delete\"))\n",
        "                            stre[0].pop(self.q-1)\n",
        "                            stre[1].pop(self.q-1)\n",
        "                        self.employees_list()\n",
        "                    elif(self.p > 4) :\n",
        "                        print(\"The number of employees you want to delete exceeds the number of employees you have\")\n",
        "                        self.employees_list()\n",
        "                    else:\n",
        "                        i+=1        \n",
        "        elif(self.command == \"Finished\"):\n",
        "            for i in range(len(self.pizza_stores[1])):\n",
        "                print(self.pizza_stores[1][i],'\\n')\n",
        "            s = input('\\nConfirm store from above\\n')\n",
        "            for i in range(len(pizza_stores[1])):\n",
        "                if (s == pizza_stores[1][i]):\n",
        "                    print(\"\\nEmployees in \",self.pizza_stores[1][i],\"store are\\n\")\n",
        "                    stre=store[i]\n",
        "                    for j in range(len(stre[0])):\n",
        "                        print(j+1,') ', stre[0][j], stre[1][j],\"\\n\\n\")               \n",
        "        else :\n",
        "            print(\"\\nEnter a valid choice\")\n",
        "            self.employees_list()      \n",
        "            \n",
        "    def MonthlySales(self):\n",
        "        \n",
        "        Year={1:'January', 2:'February', 3:'March', 4:'April', 5:'May', 6:'June', 7:'July', 8:'August', 9:'September', 10:'October', 11:'November', 12:'December'}\n",
        "    \n",
        "        for i in range(len(pizza_stores[1])):\n",
        "            print(pizza_stores[1][i])\n",
        "        stenum = input('\\nEnter the store for monthly sales report')      \n",
        "    \n",
        "        for i in range(len(pizza_stores[0])):\n",
        "            if stenum == pizza_stores[1][i]:\n",
        "                mnt= int(input(\"Choose month\"))\n",
        "                print(\"Sales in \",pizza_stores[1][i],\" store in the month  of \",Year[mnt], \"are:-\")\n",
        "                for j in range(len(self.pizza_stores[0])):\n",
        "                    if (self.pizza_stores[1][j] == stenum):\n",
        "                        start_date = datetime.date(2021, mnt, 1)\n",
        "                        end_date = datetime.date(2021, mnt+1, 1)\n",
        "                        if (new_list[0][1] >= str(start_date)) and (new_list[0][1] < str(end_date)):\n",
        "                            req = new_list[0][9]\n",
        "                        \n",
        "        if stenum not in pizza_stores[1]:\n",
        "            store().MonthlySales()\n",
        "        return req            "
      ],
      "execution_count": null,
      "outputs": []
    },
    {
      "cell_type": "markdown",
      "metadata": {
        "id": "JbsTkz9WzM6A"
      },
      "source": [
        "Taking Pizza Orders"
      ]
    },
    {
      "cell_type": "code",
      "metadata": {
        "colab": {
          "base_uri": "https://localhost:8080/"
        },
        "id": "k-R9c6Jdstek",
        "outputId": "27808084-2c6e-451a-f4b1-9afb60455b3c"
      },
      "source": [
        "\n",
        "print('\\nHello !')\n",
        "print(\"\\nWelcome to Papa Tony's Pizza Store\")\n",
        "pizza_order = PizzaOrder()\n",
        "pizza_order.order()\n",
        "pizza_order.bill()\n",
        "pizza_order.promocode() \n",
        "pizza_order.customerinfo()\n",
        "pizza_order.final_order()"
      ],
      "execution_count": null,
      "outputs": [
        {
          "output_type": "stream",
          "text": [
            "\n",
            "Hello !\n",
            "\n",
            "Welcome to Papa Tony's Pizza Store\n",
            "\n",
            "Choose from the options below\n",
            "\n",
            "Add Pizza\n",
            "\n",
            "Drop Pizza\n",
            "\n",
            "Order Finished\n",
            "\n",
            "\n",
            "Type your commandAdd Pizza\n",
            "\n",
            "Number of pizzas to be ordered : 2\n",
            "\n",
            " Vegetable Pizza : $12 \n",
            "\n",
            " Chicken Pizza : $14 \n",
            "\n",
            " Cheese Pizza : $12 \n",
            "\n",
            " Double Cheese Pizza : $14 \n",
            "\n",
            " Corn Pizza : $12 \n",
            "\n",
            " Cheese Corn Pizza : $14 \n",
            "\n",
            " Pepperoni Pizza : $14\n",
            "\n",
            " Margherita Pizza : $14 \n",
            "\n",
            "Choose the Pizza \n",
            "Cheese Corn Pizza\n",
            "\n",
            "Selected Pizza is :  ['Cheese Corn Pizza']\n",
            "\n",
            "Please select your toppings \n",
            "\n",
            "\n",
            "Number of toppings you would like to add : 2\n",
            "\n",
            "Toppings available presently are : \n",
            "\n",
            "\n",
            " Tomato Sauce : $2\n",
            "\n",
            " Mozzarella cheese : $3\n",
            "\n",
            " Parmesan cheese : $2\n",
            "\n",
            " Pecorino cheese : $3\n",
            "\n",
            " Garlic : $2\n",
            "\n",
            " Mushrooms : $2\n",
            "\n",
            " Proscuitto : $3\n",
            "\n",
            "Choose from above toppings : Tomato Sauce\n",
            "\n",
            "Choose from above toppings : Garlic\n",
            "\n",
            "\n",
            "Pizza toppings selected are :  ['Tomato Sauce', 'Garlic']\n",
            "\n",
            "\n",
            "Add Topping\n",
            "\n",
            "Drop Topping \n",
            "\n",
            "Confirm Topping\n",
            "\n",
            "Enter your commandDrop Topping\n",
            "\n",
            "Number of toppings to be deleted\n",
            "1\n",
            "\n",
            "toppings selected :  1 - Tomato Sauce\n",
            "\n",
            "toppings selected :  2 - Garlic\n",
            "\n",
            "Topping to be deleted\n",
            "2\n",
            "Your Modified toppings are\n",
            " ['Tomato Sauce']\n",
            "\n",
            "Thin Crust: $3\n",
            "\n",
            "Medium Crust: $4\n",
            "\n",
            "Thick Crust: $5\n",
            "\n",
            "Enter your commandThin Crust\n",
            "\n",
            "\n",
            "Selected Crust is :  ['Thin Crust']\n",
            "\n",
            " Vegetable Pizza : $12 \n",
            "\n",
            " Chicken Pizza : $14 \n",
            "\n",
            " Cheese Pizza : $12 \n",
            "\n",
            " Double Cheese Pizza : $14 \n",
            "\n",
            " Corn Pizza : $12 \n",
            "\n",
            " Cheese Corn Pizza : $14 \n",
            "\n",
            " Pepperoni Pizza : $14\n",
            "\n",
            " Margherita Pizza : $14 \n",
            "\n",
            "Choose the Pizza \n",
            "Corn Pizza\n",
            "\n",
            "Selected Pizza is :  ['Cheese Corn Pizza', 'Corn Pizza']\n",
            "\n",
            "Please select your toppings \n",
            "\n",
            "\n",
            "Number of toppings you would like to add : 1\n",
            "\n",
            "Toppings available presently are : \n",
            "\n",
            "\n",
            " Tomato Sauce : $2\n",
            "\n",
            " Mozzarella cheese : $3\n",
            "\n",
            " Parmesan cheese : $2\n",
            "\n",
            " Pecorino cheese : $3\n",
            "\n",
            " Garlic : $2\n",
            "\n",
            " Mushrooms : $2\n",
            "\n",
            " Proscuitto : $3\n",
            "\n",
            "Choose from above toppings : Proscuitto\n",
            "\n",
            "\n",
            "Pizza toppings selected are :  ['Proscuitto']\n",
            "\n",
            "\n",
            "Add Topping\n",
            "\n",
            "Drop Topping \n",
            "\n",
            "Confirm Topping\n",
            "\n",
            "Enter your commandConfirm Topping\n",
            "\n",
            "Thin Crust: $3\n",
            "\n",
            "Medium Crust: $4\n",
            "\n",
            "Thick Crust: $5\n",
            "\n",
            "Enter your commandThick Crust\n",
            "\n",
            "\n",
            "Selected Crust is :  ['Thick Crust']\n",
            "\n",
            "Choose from the options below\n",
            "\n",
            "Add Pizza\n",
            "\n",
            "Drop Pizza\n",
            "\n",
            "Order Finished\n",
            "\n",
            "\n",
            "Type your commandDrop Pizza\n",
            "The list of pizzas in your ordered list are\n",
            "1 - Cheese Corn Pizza\n",
            "2 - Corn Pizza\n",
            " Please select the pizza number you want to drop\n",
            "Enter Your Number2\n",
            "\n",
            "Choose from the options below\n",
            "\n",
            "Add Pizza\n",
            "\n",
            "Drop Pizza\n",
            "\n",
            "Order Finished\n",
            "\n",
            "\n",
            "Type your commandOrder Finished\n",
            "[['Cheese Corn Pizza'], [['Tomato Sauce']], [['Thin Crust']]]\n",
            "\n",
            "Location :  Arbutus   ZipCode :  21227\n",
            "\n",
            "Location :  Catonsville   ZipCode :  21228\n",
            "\n",
            "Location :  Parkville   ZipCode :  21234\n",
            "\n",
            "Location :  Kingsville   ZipCode :  21087\n",
            "\n",
            "Location :  Essex   ZipCode :  21221\n",
            "\n",
            "Enter the ZipCode21227\n",
            "\n",
            "You have ordered from  Arbutus Pizza store.\n",
            "\n",
            "\n",
            "Your order cost is 19\n",
            "\n",
            "Available promocodes are :  ['New10'] \n",
            "(Applies only if you are a First time Customer)\n",
            "\n",
            "Type Promocode or else EnterNew10\n",
            "\n",
            "Promocode applied sucessfully\n",
            "\n",
            "\n",
            "Cost of your order after applying the promocode is 17.1 \n",
            "\n"
          ],
          "name": "stdout"
        },
        {
          "output_type": "execute_result",
          "data": {
            "text/plain": [
              "{'Choosen Crust Type': [['Thin Crust']],\n",
              " 'Customer Contact Number': '+13992897645',\n",
              " 'Customer Firstname': 'Sarah',\n",
              " 'Customer Lastname': 'Cooper',\n",
              " 'Order Bill': 17.1,\n",
              " 'Order Confirmation Number': 134422,\n",
              " 'Ordered Date': datetime.date(2021, 4, 14),\n",
              " 'Pizza Ordered': ['Cheese Corn Pizza'],\n",
              " 'Store Address': '21227',\n",
              " 'Toppings Choosen': [['Tomato Sauce']]}"
            ]
          },
          "metadata": {
            "tags": []
          },
          "execution_count": 28
        }
      ]
    },
    {
      "cell_type": "code",
      "metadata": {
        "colab": {
          "base_uri": "https://localhost:8080/"
        },
        "id": "nxjjXaJTstek",
        "outputId": "5bf52711-71f6-42a8-af34-0cd8be2c5541"
      },
      "source": [
        "store().employees_list()"
      ],
      "execution_count": null,
      "outputs": [
        {
          "output_type": "stream",
          "text": [
            "\n",
            "\n",
            "Add Employee\n",
            "\n",
            "Remove Employee\n",
            "\n",
            "Finished\n",
            "\n",
            "\n",
            "Enter your commandAdd Employee\n",
            "\n",
            "List of stores are\n",
            "\n",
            "Arbutus \n",
            "\n",
            "Catonsville \n",
            "\n",
            "Parkville \n",
            "\n",
            "Kingsville \n",
            "\n",
            "Essex \n",
            "\n",
            "\n",
            "Store to be added with an employee\n",
            "Arbutus\n",
            "\n",
            "Enter number of employees you want to add to the store3\n",
            "\n",
            "\n",
            "Add Employee\n",
            "\n",
            "Remove Employee\n",
            "\n",
            "Finished\n",
            "\n",
            "\n",
            "Enter your commandRemove Employee\n",
            "\n",
            "List of stores are\n",
            "\n",
            "Arbutus \n",
            "\n",
            "Catonsville \n",
            "\n",
            "Parkville \n",
            "\n",
            "Kingsville \n",
            "\n",
            "Essex \n",
            "\n",
            "\n",
            "Enter the store for which you want to drop an employee\n",
            "\n",
            "Arbutus\n",
            "\n",
            "Enter number of employees you want to delete from the store\n",
            "1\n",
            "\n",
            "The employess first and last names are\n",
            "1 )  Jamal Hickman\n",
            "2 )  Greg Williams\n",
            "3 )  Rebbeca Zeller\n",
            "Please select the corresponding number of employee you want to delete2\n",
            "\n",
            "\n",
            "Add Employee\n",
            "\n",
            "Remove Employee\n",
            "\n",
            "Finished\n",
            "\n",
            "\n",
            "Enter your commandFinished\n",
            "Arbutus \n",
            "\n",
            "Catonsville \n",
            "\n",
            "Parkville \n",
            "\n",
            "Kingsville \n",
            "\n",
            "Essex \n",
            "\n",
            "\n",
            "Confirm store from above\n",
            "Arbutus\n",
            "\n",
            "Employees in  Arbutus store are\n",
            "\n",
            "1 )  Jamal Hickman \n",
            "\n",
            "\n",
            "2 )  Rebbeca Zeller \n",
            "\n",
            "\n"
          ],
          "name": "stdout"
        }
      ]
    },
    {
      "cell_type": "markdown",
      "metadata": {
        "id": "-wdjBilszT8I"
      },
      "source": [
        "Final list of orders received"
      ]
    },
    {
      "cell_type": "code",
      "metadata": {
        "colab": {
          "base_uri": "https://localhost:8080/"
        },
        "id": "ZYPZtvGostek",
        "outputId": "e26f1367-2b76-44e6-e711-b777cec246c4"
      },
      "source": [
        "new_list=[]\n",
        "with open('final_order.csv', 'r') as file:\n",
        "    reader = csv.reader(file)\n",
        "    for item in reader:\n",
        "        new_list.append(item)\n",
        "new_list        "
      ],
      "execution_count": null,
      "outputs": [
        {
          "output_type": "execute_result",
          "data": {
            "text/plain": [
              "[['21227',\n",
              "  '2021-04-28',\n",
              "  'Laura',\n",
              "  'Vega',\n",
              "  '+17794793389',\n",
              "  '409022',\n",
              "  \"['Chicken Pizza', 'Pepperoni Pizza']\",\n",
              "  \"[['Proscuitto'], ['Pecorino cheese']]\",\n",
              "  \"[['Medium Crust'], ['Thin Crust']]\",\n",
              "  '36.9'],\n",
              " ['21227',\n",
              "  '2021-02-24',\n",
              "  'James',\n",
              "  'Kantrowitz',\n",
              "  '+1602019410',\n",
              "  '160857',\n",
              "  \"['Chicken Pizza']\",\n",
              "  \"[['Tomato Sauce']]\",\n",
              "  \"[['Thin Crust']]\",\n",
              "  '19'],\n",
              " ['21227',\n",
              "  '2021-04-14',\n",
              "  'Sarah',\n",
              "  'Cooper',\n",
              "  '+13992897645',\n",
              "  '134422',\n",
              "  \"['Cheese Corn Pizza']\",\n",
              "  \"[['Tomato Sauce']]\",\n",
              "  \"[['Thin Crust']]\",\n",
              "  '17.1']]"
            ]
          },
          "metadata": {
            "tags": []
          },
          "execution_count": 29
        }
      ]
    },
    {
      "cell_type": "markdown",
      "metadata": {
        "id": "_I-EeQITzZ_i"
      },
      "source": [
        "Monthly Sales of the Given Store"
      ]
    },
    {
      "cell_type": "code",
      "metadata": {
        "colab": {
          "base_uri": "https://localhost:8080/",
          "height": 188
        },
        "id": "sSZ3N4EZstel",
        "outputId": "f14c8f2d-bb88-484a-9f66-464f8ba22133"
      },
      "source": [
        "store().MonthlySales()"
      ],
      "execution_count": null,
      "outputs": [
        {
          "output_type": "stream",
          "text": [
            "Arbutus\n",
            "Catonsville\n",
            "Parkville\n",
            "Kingsville\n",
            "Essex\n",
            "\n",
            "Enter the store for monthly sales reportArbutus\n",
            "Choose month4\n",
            "Sales in  Arbutus  store in the month  of  April are:-\n"
          ],
          "name": "stdout"
        },
        {
          "output_type": "execute_result",
          "data": {
            "application/vnd.google.colaboratory.intrinsic+json": {
              "type": "string"
            },
            "text/plain": [
              "'36.9'"
            ]
          },
          "metadata": {
            "tags": []
          },
          "execution_count": 19
        }
      ]
    },
    {
      "cell_type": "markdown",
      "metadata": {
        "id": "hwqjLL-Pzioz"
      },
      "source": [
        "Sorting PizzaOrder by total order amount in descending order"
      ]
    },
    {
      "cell_type": "code",
      "metadata": {
        "colab": {
          "base_uri": "https://localhost:8080/"
        },
        "id": "qRP6_Elfstel",
        "outputId": "72aeb3fe-d496-4433-a96a-ac2e78f7c5ec"
      },
      "source": [
        "##Sorting PizzaOrder by total order amount\n",
        "x=[]\n",
        "sorted_list = []\n",
        "def bubble_sort(new_list):\n",
        "    for i in range(len(new_list)):\n",
        "        x.append(new_list[i][9])\n",
        "    for j in range(len(x) - 1):\n",
        "        if str(x[j]) < str( x[j+1]):\n",
        "            x[j], x[j+1] = x[j+1], x[j]\n",
        "            \n",
        "    for num in x:\n",
        "        for k in range(len(new_list)):\n",
        "            if new_list[k][9] == num:\n",
        "                sorted_list.append(new_list[k])\n",
        "    return sorted_list\n",
        "bubble_sort(new_list)"
      ],
      "execution_count": null,
      "outputs": [
        {
          "output_type": "execute_result",
          "data": {
            "text/plain": [
              "[['21227',\n",
              "  '2021-04-28',\n",
              "  'Laura',\n",
              "  'Vega',\n",
              "  '+17794793389',\n",
              "  '409022',\n",
              "  \"['Chicken Pizza', 'Pepperoni Pizza']\",\n",
              "  \"[['Proscuitto'], ['Pecorino cheese']]\",\n",
              "  \"[['Medium Crust'], ['Thin Crust']]\",\n",
              "  '36.9'],\n",
              " ['21227',\n",
              "  '2021-02-24',\n",
              "  'James',\n",
              "  'Kantrowitz',\n",
              "  '+1602019410',\n",
              "  '160857',\n",
              "  \"['Chicken Pizza']\",\n",
              "  \"[['Tomato Sauce']]\",\n",
              "  \"[['Thin Crust']]\",\n",
              "  '19'],\n",
              " ['21227',\n",
              "  '2021-04-14',\n",
              "  'Sarah',\n",
              "  'Cooper',\n",
              "  '+13992897645',\n",
              "  '134422',\n",
              "  \"['Cheese Corn Pizza']\",\n",
              "  \"[['Tomato Sauce']]\",\n",
              "  \"[['Thin Crust']]\",\n",
              "  '17.1']]"
            ]
          },
          "metadata": {
            "tags": []
          },
          "execution_count": 50
        }
      ]
    },
    {
      "cell_type": "markdown",
      "metadata": {
        "id": "Sl2Jj4Lfzkm6"
      },
      "source": [
        "Sorting PizzaOrder by Order Date in ascending order"
      ]
    },
    {
      "cell_type": "code",
      "metadata": {
        "colab": {
          "base_uri": "https://localhost:8080/"
        },
        "id": "aLTywX48stel",
        "outputId": "81fb09f9-4894-49f5-b901-e201108259c9"
      },
      "source": [
        "##Sorting PizzaOrder by Order Date\n",
        "x=[]\n",
        "sorted_list = []\n",
        "def bubble_sort(new_list):\n",
        "    for i in range(len(new_list)):\n",
        "        x.append(new_list[i][1])\n",
        "        for j in range(len(x) - 1):\n",
        "            if str(x[j]) > str( x[j+1]):\n",
        "                x[j], x[j+1] = x[j+1], x[j]\n",
        "    for num in x:\n",
        "        for k in range(len(new_list)):\n",
        "            if new_list[k][1] == num:\n",
        "                sorted_list.append(new_list[k])\n",
        "    return sorted_list\n",
        "bubble_sort(new_list)"
      ],
      "execution_count": null,
      "outputs": [
        {
          "output_type": "execute_result",
          "data": {
            "text/plain": [
              "[['21227',\n",
              "  '2021-02-24',\n",
              "  'James',\n",
              "  'Kantrowitz',\n",
              "  '+1602019410',\n",
              "  '160857',\n",
              "  \"['Chicken Pizza']\",\n",
              "  \"[['Tomato Sauce']]\",\n",
              "  \"[['Thin Crust']]\",\n",
              "  '19'],\n",
              " ['21227',\n",
              "  '2021-04-14',\n",
              "  'Sarah',\n",
              "  'Cooper',\n",
              "  '+13992897645',\n",
              "  '134422',\n",
              "  \"['Cheese Corn Pizza']\",\n",
              "  \"[['Tomato Sauce']]\",\n",
              "  \"[['Thin Crust']]\",\n",
              "  '17.1'],\n",
              " ['21227',\n",
              "  '2021-04-28',\n",
              "  'Laura',\n",
              "  'Vega',\n",
              "  '+17794793389',\n",
              "  '409022',\n",
              "  \"['Chicken Pizza', 'Pepperoni Pizza']\",\n",
              "  \"[['Proscuitto'], ['Pecorino cheese']]\",\n",
              "  \"[['Medium Crust'], ['Thin Crust']]\",\n",
              "  '36.9']]"
            ]
          },
          "metadata": {
            "tags": []
          },
          "execution_count": 51
        }
      ]
    },
    {
      "cell_type": "markdown",
      "metadata": {
        "id": "HwGgNbhYzoEM"
      },
      "source": [
        "Searching PizzaOrder by Customer"
      ]
    },
    {
      "cell_type": "code",
      "metadata": {
        "colab": {
          "base_uri": "https://localhost:8080/"
        },
        "id": "Qyyn37Fgstel",
        "outputId": "27532b14-fd4f-48bc-b1a9-0b3576a46b9f"
      },
      "source": [
        "##Searching PizzaOrder by Customer\n",
        "some_list = []\n",
        "cust_fn=input('Enter firstname of customer')\n",
        "for i in range(len(new_list)):\n",
        "        if new_list[i][2] == cust_fn :\n",
        "            some_list.append(new_list[i])\n",
        "print(some_list)\n",
        "if some_list == []:\n",
        "    print([])        "
      ],
      "execution_count": null,
      "outputs": [
        {
          "output_type": "stream",
          "text": [
            "Enter firstname of customerLaura\n",
            "[['21227', '2021-04-28', 'Laura', 'Vega', '+17794793389', '409022', \"['Chicken Pizza', 'Pepperoni Pizza']\", \"[['Proscuitto'], ['Pecorino cheese']]\", \"[['Medium Crust'], ['Thin Crust']]\", '36.9']]\n"
          ],
          "name": "stdout"
        }
      ]
    },
    {
      "cell_type": "markdown",
      "metadata": {
        "id": "1LVh0P6bzuQY"
      },
      "source": [
        "Searching PizzaOrder by order date"
      ]
    },
    {
      "cell_type": "code",
      "metadata": {
        "colab": {
          "base_uri": "https://localhost:8080/"
        },
        "id": "YAy4Fp3ostel",
        "outputId": "fcaca3ba-187c-4342-a903-8cf6d8accd67"
      },
      "source": [
        "##Searching PizzaOrder by order date\n",
        "some_list2 = []\n",
        "year = int(input('Enter Year'))\n",
        "month = int(input('Enter Month'))\n",
        "day = int(input('Enter Day'))\n",
        "req_date = datetime.date(year, month, day)\n",
        "\n",
        "for i in range(len(new_list)):\n",
        "        if new_list[i][1] == str(req_date) :\n",
        "            some_list2.append(new_list[i])\n",
        "print(some_list2)\n",
        "if some_list2 == []:\n",
        "    print([]) "
      ],
      "execution_count": null,
      "outputs": [
        {
          "output_type": "stream",
          "text": [
            "Enter Year2021\n",
            "Enter Month4\n",
            "Enter Day14\n",
            "[['21227', '2021-04-14', 'Sarah', 'Cooper', '+13992897645', '134422', \"['Cheese Corn Pizza']\", \"[['Tomato Sauce']]\", \"[['Thin Crust']]\", '17.1']]\n"
          ],
          "name": "stdout"
        }
      ]
    },
    {
      "cell_type": "markdown",
      "metadata": {
        "id": "HkeIoLJ8zyIr"
      },
      "source": [
        "Pulling a order list after certain date"
      ]
    },
    {
      "cell_type": "code",
      "metadata": {
        "colab": {
          "base_uri": "https://localhost:8080/"
        },
        "id": "wbpyjdJ9stel",
        "outputId": "0fc29cd4-c17d-4d28-fc1c-9233432297b2"
      },
      "source": [
        "## Pulling a list after certain date\n",
        "some_list3 = []\n",
        "year = int(input('Enter Year'))\n",
        "month = int(input('Enter Month'))\n",
        "day = int(input('Enter Day'))\n",
        "req_date = datetime.date(year, month, day)\n",
        "for i in range(len(new_list)):\n",
        "        if new_list[i][1] > str(req_date) :\n",
        "            some_list3.append(new_list[i])\n",
        "print(some_list3)\n",
        "if some_list3 == []:\n",
        "    print([]) "
      ],
      "execution_count": null,
      "outputs": [
        {
          "output_type": "stream",
          "text": [
            "Enter Year2021\n",
            "Enter Month3\n",
            "Enter Day12\n",
            "[['21227', '2021-04-28', 'Laura', 'Vega', '+17794793389', '409022', \"['Chicken Pizza', 'Pepperoni Pizza']\", \"[['Proscuitto'], ['Pecorino cheese']]\", \"[['Medium Crust'], ['Thin Crust']]\", '36.9'], ['21227', '2021-04-14', 'Sarah', 'Cooper', '+13992897645', '134422', \"['Cheese Corn Pizza']\", \"[['Tomato Sauce']]\", \"[['Thin Crust']]\", '17.1']]\n"
          ],
          "name": "stdout"
        }
      ]
    },
    {
      "cell_type": "markdown",
      "metadata": {
        "id": "IwhCCAY8z4rF"
      },
      "source": [
        "Pulling a order list prior certain date"
      ]
    },
    {
      "cell_type": "code",
      "metadata": {
        "colab": {
          "base_uri": "https://localhost:8080/"
        },
        "id": "5XCCED7qstel",
        "outputId": "3a1551d1-5b3c-4d8c-95a9-6c907e326b7b"
      },
      "source": [
        "## Pulling a list prior certain date\n",
        "some_list4 = []\n",
        "year = int(input('Enter Year'))\n",
        "month = int(input('Enter Month'))\n",
        "day = int(input('Enter Day'))\n",
        "req_date = datetime.date(year, month, day)\n",
        "for i in range(len(new_list)):\n",
        "        if new_list[i][1] < str(req_date) :\n",
        "            some_list4.append(new_list[i])\n",
        "print(some_list4)\n",
        "if some_list4 == []:\n",
        "    print([]) "
      ],
      "execution_count": null,
      "outputs": [
        {
          "output_type": "stream",
          "text": [
            "Enter Year2021\n",
            "Enter Month3\n",
            "Enter Day12\n",
            "[['21227', '2021-02-24', 'James', 'Kantrowitz', '+1602019410', '160857', \"['Chicken Pizza']\", \"[['Tomato Sauce']]\", \"[['Thin Crust']]\", '19']]\n"
          ],
          "name": "stdout"
        }
      ]
    },
    {
      "cell_type": "markdown",
      "metadata": {
        "id": "akdLlfpTz-0T"
      },
      "source": [
        "finding pizza store by zipcode"
      ]
    },
    {
      "cell_type": "code",
      "metadata": {
        "colab": {
          "base_uri": "https://localhost:8080/"
        },
        "id": "NSWu2rN6stel",
        "outputId": "a2dca25d-1d10-4d28-c1af-0843f382cf81"
      },
      "source": [
        "#finding pizza store by zipcode\n",
        "z=str(input('\\nEnter Zipcode'))\n",
        "for i in range(len(pizza_stores[0])):\n",
        "    if z in pizza_stores[0][i]:\n",
        "        print(\"\\nYes we have a store in\",pizza_stores[1][i])     \n",
        "if z not in pizza_stores[0]:\n",
        "    print('\\nNo stores present in given zipcode')"
      ],
      "execution_count": null,
      "outputs": [
        {
          "output_type": "stream",
          "text": [
            "\n",
            "Enter Zipcode21227\n",
            "\n",
            "Yes we have a store in Arbutus\n"
          ],
          "name": "stdout"
        }
      ]
    },
    {
      "cell_type": "markdown",
      "metadata": {
        "id": "gcYGVUWwLAY-"
      },
      "source": [
        "Time/Space Complexity for Searching Algorithm :"
      ]
    },
    {
      "cell_type": "markdown",
      "metadata": {
        "id": "2p8ZRVxzK6jg"
      },
      "source": [
        "The  searching  is  made  based  on  Customer  name  and  Order  Date.  The  final \n",
        " \n",
        "order  list  i.e  new_ list  consists  of  both  customer  name  and  ordered  date.  The \n",
        "\n",
        "searching  is  made  on  customer’s  firstname.  As  we  have  given  the  location  of \n",
        "\n",
        "customer  date  and  ordered  date  from  the  list  in  searching  function,  it  directly  \n",
        "\n",
        "goes  to  all  the  locations  of  the  list  and  compares  the  value  with  the  given  input  \n",
        "\n",
        "value.  This  is  a  linear  type  of  search  as  it  involves  searching  one  by  one. \n",
        "\n",
        "Time  Complexity  of  searching  used  here  is  O(n),  where n  is  the  length  of  order  list,  as  it  involves  in  linear  \n",
        "\n",
        "searching.\n",
        "\n",
        "Space  complexity  of  the  searching  used  here  is  O(1)  as  we  are  not  storing  any \n",
        "\n",
        "values  but  only  comparing  the  order  list  elements  with  the  given  input."
      ]
    },
    {
      "cell_type": "markdown",
      "metadata": {
        "id": "u-gtpo9RLU47"
      },
      "source": [
        "Time/Space Complexity for Sorting Algorithm :"
      ]
    },
    {
      "cell_type": "markdown",
      "metadata": {
        "id": "_AtOmPZsLLCN"
      },
      "source": [
        "We  have  used  Bubble  Sort  here  because  of  it’s  simplicity  of  the  algorithm.  In  \n",
        "\n",
        "This  (n-1)  comparisons  will  be  done  in  first case,  (n-2)  in  second  case,  (n-2)  in  \n",
        "\n",
        "Third  case  and  so  on.  So  the  total  number  of  comparisons  will  be  (n-1)  +  (n-2)  \n",
        "\n",
        "+  (n-3)  +  .....  +  3  +  2  +  1 =  n(n-1)/2  =  O(n2) (Square  to  n)  Here  n  is  the  length  of  order  \n",
        "\n",
        "list.\n",
        "\n",
        "Hence  the  time  complexity  of  Bubble  Sort  is  O(n2). Worst  Case  Time  Complexity  \n",
        "\n",
        "Is  O(n2),  Best  Case  Time  Complexity  is  O(n),  Average Time Complexity is O(n2)\n",
        "\n",
        "Space  complexity  of  the  sorting  used  here  is  O(1)  as  we  are  not  storing  any \n",
        "\n",
        "values  but just adjusting the positions."
      ]
    }
  ]
}