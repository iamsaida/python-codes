{
 "cells": [
  {
   "cell_type": "code",
   "execution_count": 3,
   "metadata": {
    "id": "twjkUc1hHcjb"
   },
   "outputs": [],
   "source": [
    "def merge(L, left, middle, right):\n",
    "    p = middle - left + 1\n",
    "    q = right - middle\n",
    "    X = [0] * p\n",
    "    Y = [0] * q\n",
    "    for i in range(0, p):\n",
    "        X[i] = L[left + i]\n",
    "    for i in range(0, q):\n",
    "        Y[i] = L[middle + i + 1]\n",
    "    i, j, k = 0, 0, left\n",
    "    while i < p and j < q:\n",
    "        if X[i] > Y[j]:\n",
    "          L[k] = Y[j]\n",
    "          j += 1\n",
    "        else:\n",
    "            L[k] = X[i]\n",
    "            i += 1\n",
    "        k += 1\n",
    "    while i < p:\n",
    "        L[k] = X[i]\n",
    "        i += 1\n",
    "        k += 1\n",
    "    while j < q:\n",
    "        L[k] = Y[j]\n",
    "        j += 1\n",
    "        k += 1\n",
    " \n",
    "def merge_sort(L):\n",
    "    list_size = 1\n",
    "    while list_size < (len(L) - 1):\n",
    "        left = 0\n",
    "        while left < (len(L)-1):\n",
    "            middle = min((left + list_size - 1),(len(L)-1))\n",
    "            right = ((2 * list_size + left - 1, len(L) - 1)[2 * list_size + left - 1 > len(L)-1])\n",
    "            merge(a, left, middle, right)\n",
    "            left += 2*list_size\n",
    "        list_size = 2*list_size"
   ]
  },
  {
   "cell_type": "code",
   "execution_count": 5,
   "metadata": {
    "colab": {
     "base_uri": "https://localhost:8080/"
    },
    "id": "WhgdPzdUHg_8",
    "outputId": "02031257-a556-4b04-b335-420da1950614"
   },
   "outputs": [
    {
     "name": "stdout",
     "output_type": "stream",
     "text": [
      "Given array is : [23, 15, 36, 42, 17, 19, 3, 67]\n",
      "Sorted array is : [3, 15, 17, 19, 23, 36, 42, 67]\n"
     ]
    }
   ],
   "source": [
    "a = [23, 15, 36, 42, 17, 19, 3, 67]\n",
    "print(\"Given array is :\", a)\n",
    "merge_sort(a)\n",
    "print(\"Sorted array is :\", a)"
   ]
  },
  {
   "cell_type": "code",
   "execution_count": 4,
   "metadata": {
    "id": "uXVcCOaSMX6d"
   },
   "outputs": [],
   "source": []
  }
 ],
 "metadata": {
  "colab": {
   "collapsed_sections": [],
   "name": "data690_assignment7.ipynb",
   "provenance": []
  },
  "kernelspec": {
   "display_name": "Python 3",
   "language": "python",
   "name": "python3"
  },
  "language_info": {
   "codemirror_mode": {
    "name": "ipython",
    "version": 3
   },
   "file_extension": ".py",
   "mimetype": "text/x-python",
   "name": "python",
   "nbconvert_exporter": "python",
   "pygments_lexer": "ipython3",
   "version": "3.8.5"
  }
 },
 "nbformat": 4,
 "nbformat_minor": 4
}
