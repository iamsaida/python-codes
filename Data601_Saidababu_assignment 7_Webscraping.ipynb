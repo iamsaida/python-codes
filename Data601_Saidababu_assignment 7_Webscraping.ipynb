{
  "nbformat": 4,
  "nbformat_minor": 0,
  "metadata": {
    "colab": {
      "name": "Data601_Webscraping HW_Saidababu.ipynb",
      "provenance": [],
      "collapsed_sections": []
    },
    "kernelspec": {
      "name": "python3",
      "display_name": "Python 3"
    },
    "language_info": {
      "name": "python"
    }
  },
  "cells": [
    {
      "cell_type": "markdown",
      "metadata": {
        "id": "J9d8-i9zk7J9"
      },
      "source": [
        "# Agenda\n",
        "\n",
        "- Part-I\n",
        "\n",
        "  - Introduction of the tast\n",
        "\n",
        "  - Scraping [Transfermarkt with BeautifulSoup](https://www.transfermarkt.com/)\n",
        "\n",
        "- Part-II: Lab\n",
        "\n",
        "  - Finishing the remaining part of the task. \n",
        "  - Creating the dataset and saving it."
      ]
    },
    {
      "cell_type": "markdown",
      "metadata": {
        "id": "ruxqiUsVlQ9q"
      },
      "source": [
        "# Part-I"
      ]
    },
    {
      "cell_type": "markdown",
      "metadata": {
        "id": "Ohf3g_GKlYpA"
      },
      "source": [
        "## Introduction to the task"
      ]
    },
    {
      "cell_type": "markdown",
      "metadata": {
        "id": "bAHjdgBOle6J"
      },
      "source": [
        "Today we will write some part of the code that can create Premier League Player's transfer record dataset. \n",
        "\n",
        "\n",
        "[Transfermarkt](https://www.transfermarkt.com/)"
      ]
    },
    {
      "cell_type": "markdown",
      "metadata": {
        "id": "PBz7EaRplmB1"
      },
      "source": [
        "## Coding"
      ]
    },
    {
      "cell_type": "code",
      "metadata": {
        "id": "4scHxO6utH-Y"
      },
      "source": [
        "## Recall that we used requests library and beautifulsoup library before \n",
        "import requests\n",
        "from bs4 import BeautifulSoup"
      ],
      "execution_count": 5,
      "outputs": []
    },
    {
      "cell_type": "markdown",
      "metadata": {
        "id": "jhBoAoeBnbRw"
      },
      "source": [
        "[User-Agents](https://www.whoishostingthis.com/tools/user-agent/)"
      ]
    },
    {
      "cell_type": "markdown",
      "metadata": {
        "id": "hBWwsf3fn8Ll"
      },
      "source": [
        "- Getting TransferMarkt's main page\n",
        "\n"
      ]
    },
    {
      "cell_type": "code",
      "metadata": {
        "colab": {
          "base_uri": "https://localhost:8080/"
        },
        "id": "AjUNeIgPlqdt",
        "outputId": "4a239675-ff9b-4af8-d15c-62c4f2cae268"
      },
      "source": [
        "### This part will be done in class:\n",
        "\n",
        "url = \"https://www.transfermarkt.com/\"\n",
        "\n",
        "headers = {'User-Agent':'Mozilla/5.0 (X11; Linux x86_64) AppleWebKit/537.36 (KHTML, like Gecko) Chrome/47.0.2526.106 Safari/537.36'}\n",
        "\n",
        "response = requests.get(url, headers = headers, timeout = 5 )\n",
        "\n",
        "print(response.status_code)\n",
        "\n",
        "soup = BeautifulSoup(response.content, 'html.parser')\n",
        "\n"
      ],
      "execution_count": 6,
      "outputs": [
        {
          "output_type": "stream",
          "text": [
            "200\n"
          ],
          "name": "stdout"
        }
      ]
    },
    {
      "cell_type": "code",
      "metadata": {
        "colab": {
          "base_uri": "https://localhost:8080/"
        },
        "id": "hBzFJnBvISXg",
        "outputId": "3dbb1dd6-48b3-4f4b-e8a4-93f57eaf3f5d"
      },
      "source": [
        "type(soup)"
      ],
      "execution_count": 7,
      "outputs": [
        {
          "output_type": "execute_result",
          "data": {
            "text/plain": [
              "bs4.BeautifulSoup"
            ]
          },
          "metadata": {
            "tags": []
          },
          "execution_count": 7
        }
      ]
    },
    {
      "cell_type": "code",
      "metadata": {
        "colab": {
          "base_uri": "https://localhost:8080/"
        },
        "id": "BGHLdPBCIZrx",
        "outputId": "3a5a4f60-5d41-4c01-f401-3c6df72bd1f2"
      },
      "source": [
        "dir(soup)"
      ],
      "execution_count": 8,
      "outputs": [
        {
          "output_type": "execute_result",
          "data": {
            "text/plain": [
              "['ASCII_SPACES',\n",
              " 'DEFAULT_BUILDER_FEATURES',\n",
              " 'HTML_FORMATTERS',\n",
              " 'NO_PARSER_SPECIFIED_WARNING',\n",
              " 'ROOT_TAG_NAME',\n",
              " 'XML_FORMATTERS',\n",
              " '__bool__',\n",
              " '__call__',\n",
              " '__class__',\n",
              " '__contains__',\n",
              " '__copy__',\n",
              " '__delattr__',\n",
              " '__delitem__',\n",
              " '__dict__',\n",
              " '__dir__',\n",
              " '__doc__',\n",
              " '__eq__',\n",
              " '__format__',\n",
              " '__ge__',\n",
              " '__getattr__',\n",
              " '__getattribute__',\n",
              " '__getitem__',\n",
              " '__getstate__',\n",
              " '__gt__',\n",
              " '__hash__',\n",
              " '__init__',\n",
              " '__init_subclass__',\n",
              " '__iter__',\n",
              " '__le__',\n",
              " '__len__',\n",
              " '__lt__',\n",
              " '__module__',\n",
              " '__ne__',\n",
              " '__new__',\n",
              " '__reduce__',\n",
              " '__reduce_ex__',\n",
              " '__repr__',\n",
              " '__setattr__',\n",
              " '__setitem__',\n",
              " '__sizeof__',\n",
              " '__str__',\n",
              " '__subclasshook__',\n",
              " '__unicode__',\n",
              " '__weakref__',\n",
              " '_all_strings',\n",
              " '_attr_value_as_string',\n",
              " '_attribute_checker',\n",
              " '_check_markup_is_url',\n",
              " '_feed',\n",
              " '_find_all',\n",
              " '_find_one',\n",
              " '_formatter_for_name',\n",
              " '_is_xml',\n",
              " '_lastRecursiveChild',\n",
              " '_last_descendant',\n",
              " '_most_recent_element',\n",
              " '_popToTag',\n",
              " '_select_debug',\n",
              " '_selector_combinators',\n",
              " '_should_pretty_print',\n",
              " '_tag_name_matches_and',\n",
              " 'append',\n",
              " 'attribselect_re',\n",
              " 'attrs',\n",
              " 'builder',\n",
              " 'can_be_empty_element',\n",
              " 'childGenerator',\n",
              " 'children',\n",
              " 'clear',\n",
              " 'contains_replacement_characters',\n",
              " 'contents',\n",
              " 'currentTag',\n",
              " 'current_data',\n",
              " 'declared_html_encoding',\n",
              " 'decode',\n",
              " 'decode_contents',\n",
              " 'decompose',\n",
              " 'descendants',\n",
              " 'encode',\n",
              " 'encode_contents',\n",
              " 'endData',\n",
              " 'extract',\n",
              " 'fetchNextSiblings',\n",
              " 'fetchParents',\n",
              " 'fetchPrevious',\n",
              " 'fetchPreviousSiblings',\n",
              " 'find',\n",
              " 'findAll',\n",
              " 'findAllNext',\n",
              " 'findAllPrevious',\n",
              " 'findChild',\n",
              " 'findChildren',\n",
              " 'findNext',\n",
              " 'findNextSibling',\n",
              " 'findNextSiblings',\n",
              " 'findParent',\n",
              " 'findParents',\n",
              " 'findPrevious',\n",
              " 'findPreviousSibling',\n",
              " 'findPreviousSiblings',\n",
              " 'find_all',\n",
              " 'find_all_next',\n",
              " 'find_all_previous',\n",
              " 'find_next',\n",
              " 'find_next_sibling',\n",
              " 'find_next_siblings',\n",
              " 'find_parent',\n",
              " 'find_parents',\n",
              " 'find_previous',\n",
              " 'find_previous_sibling',\n",
              " 'find_previous_siblings',\n",
              " 'format_string',\n",
              " 'get',\n",
              " 'getText',\n",
              " 'get_attribute_list',\n",
              " 'get_text',\n",
              " 'handle_data',\n",
              " 'handle_endtag',\n",
              " 'handle_starttag',\n",
              " 'has_attr',\n",
              " 'has_key',\n",
              " 'hidden',\n",
              " 'index',\n",
              " 'insert',\n",
              " 'insert_after',\n",
              " 'insert_before',\n",
              " 'isSelfClosing',\n",
              " 'is_empty_element',\n",
              " 'is_xml',\n",
              " 'known_xml',\n",
              " 'markup',\n",
              " 'name',\n",
              " 'namespace',\n",
              " 'new_string',\n",
              " 'new_tag',\n",
              " 'next',\n",
              " 'nextGenerator',\n",
              " 'nextSibling',\n",
              " 'nextSiblingGenerator',\n",
              " 'next_element',\n",
              " 'next_elements',\n",
              " 'next_sibling',\n",
              " 'next_siblings',\n",
              " 'object_was_parsed',\n",
              " 'original_encoding',\n",
              " 'parent',\n",
              " 'parentGenerator',\n",
              " 'parents',\n",
              " 'parse_only',\n",
              " 'parserClass',\n",
              " 'parser_class',\n",
              " 'popTag',\n",
              " 'prefix',\n",
              " 'preserve_whitespace_tag_stack',\n",
              " 'preserve_whitespace_tags',\n",
              " 'prettify',\n",
              " 'previous',\n",
              " 'previousGenerator',\n",
              " 'previousSibling',\n",
              " 'previousSiblingGenerator',\n",
              " 'previous_element',\n",
              " 'previous_elements',\n",
              " 'previous_sibling',\n",
              " 'previous_siblings',\n",
              " 'pushTag',\n",
              " 'quoted_colon',\n",
              " 'recursiveChildGenerator',\n",
              " 'renderContents',\n",
              " 'replaceWith',\n",
              " 'replaceWithChildren',\n",
              " 'replace_with',\n",
              " 'replace_with_children',\n",
              " 'reset',\n",
              " 'select',\n",
              " 'select_one',\n",
              " 'setup',\n",
              " 'string',\n",
              " 'strings',\n",
              " 'stripped_strings',\n",
              " 'tagStack',\n",
              " 'tag_name_re',\n",
              " 'text',\n",
              " 'unwrap',\n",
              " 'wrap']"
            ]
          },
          "metadata": {
            "tags": []
          },
          "execution_count": 8
        }
      ]
    },
    {
      "cell_type": "markdown",
      "metadata": {
        "id": "5nT1xdvuo5qG"
      },
      "source": [
        "- This time, let's try to get English Premier League's Page"
      ]
    },
    {
      "cell_type": "code",
      "metadata": {
        "colab": {
          "base_uri": "https://localhost:8080/"
        },
        "id": "sU0p8YsFnNuz",
        "outputId": "28aa74e8-664a-4fc1-a72b-2e16b6bb7224"
      },
      "source": [
        "## This part will be done in class\n",
        "\n",
        "\n",
        "url = 'https://www.transfermarkt.com/premier-league/startseite/wettbewerb/GB1'\n",
        "\n",
        "headers = {'User-Agent': \n",
        "        'Mozilla/5.0 (X11; Linux x86_64) AppleWebKit/537.36 (KHTML, like Gecko) Chrome/47.0.2526.106 Safari/537.36'}\n",
        "\n",
        "page = requests.get(url, headers = headers, timeout = 5)\n",
        "\n",
        "print(page.status_code)\n",
        "\n",
        "soup = BeautifulSoup(page.content, 'html.parser')"
      ],
      "execution_count": 9,
      "outputs": [
        {
          "output_type": "stream",
          "text": [
            "200\n"
          ],
          "name": "stdout"
        }
      ]
    },
    {
      "cell_type": "code",
      "metadata": {
        "colab": {
          "base_uri": "https://localhost:8080/"
        },
        "id": "R4z1zLQwJ4G1",
        "outputId": "483f7ba8-6146-45b0-ef74-4de816425d4c"
      },
      "source": [
        "soup.head"
      ],
      "execution_count": 10,
      "outputs": [
        {
          "output_type": "execute_result",
          "data": {
            "text/plain": [
              "<head>\n",
              "<script type=\"text/javascript\">\n",
              "    !function () { var e = function () { var e, t = \"__tcfapiLocator\", a = [], n = window; for (; n;) { try { if (n.frames[t]) { e = n; break } } catch (e) { } if (n === window.top) break; n = n.parent } e || (!function e() { var a = n.document, r = !!n.frames[t]; if (!r) if (a.body) { var i = a.createElement(\"iframe\"); i.style.cssText = \"display:none\", i.name = t, a.body.appendChild(i) } else setTimeout(e, 5); return !r }(), n.__tcfapi = function () { for (var e, t = arguments.length, n = new Array(t), r = 0; r < t; r++)n[r] = arguments[r]; if (!n.length) return a; if (\"setGdprApplies\" === n[0]) n.length > 3 && 2 === parseInt(n[1], 10) && \"boolean\" == typeof n[3] && (e = n[3], \"function\" == typeof n[2] && n[2](\"set\", !0)); else if (\"ping\" === n[0]) { var i = { gdprApplies: e, cmpLoaded: !1, cmpStatus: \"stub\" }; \"function\" == typeof n[2] && n[2](i) } else a.push(n) }, n.addEventListener(\"message\", (function (e) { var t = \"string\" == typeof e.data, a = {}; try { a = t ? JSON.parse(e.data) : e.data } catch (e) { } var n = a.__tcfapiCall; n && window.__tcfapi(n.command, n.version, (function (a, r) { var i = { __tcfapiReturn: { returnValue: a, success: r, callId: n.callId } }; t && (i = JSON.stringify(i)), e.source.postMessage(i, \"*\") }), n.parameter) }), !1)) }; \"undefined\" != typeof module ? module.exports = e : e() }();\n",
              "</script>\n",
              "<script>\n",
              "window._sp_ = {\n",
              "    config: {\"accountId\":1254,\"propertyId\":7427,\"baseEndpoint\":\"https://cdn.privacy-mgmt.com\"}}\n",
              "</script>\n",
              "<script src=\"https://cdn.privacy-mgmt.com/wrapperMessagingWithoutDetection.js\"></script>\n",
              "<meta charset=\"utf-8\"/>\n",
              "<meta content=\"IE=edge\" http-equiv=\"x-ua-compatible\"/>\n",
              "<meta content=\"telephone=no\" name=\"format-detection\"/>\n",
              "<meta content=\"#1a3151\" name=\"theme-color\">\n",
              "<link href=\"/favicon.ico\" rel=\"shortcut icon\" type=\"image/x-icon\"/>\n",
              "<link href=\"/favicon-16x16.png\" rel=\"shortcut icon\" sizes=\"16x16\"/>\n",
              "<link href=\"/android-chrome-192x192.png\" rel=\"shortcut icon\" sizes=\"192x192\"/>\n",
              "<link href=\"/apple-touch-icon-152x152.png\" rel=\"apple-touch-icon-precomposed\"/>\n",
              "<meta content=\"width=device-width, initial-scale=1.0, maximum-scale=2.0, user-scalable=no\" name=\"viewport\">\n",
              "<meta content=\"Premier League,England\" name=\"keywords\"/>\n",
              "<meta content=\"This is the page for the Premier League, with an overview of fixtures, tables, dates, squads, market values, statistics and history.\" name=\"description\"/>\n",
              "<meta content=\"article\" property=\"og:type\"/>\n",
              "<meta content=\"https://tmssl.akamaized.net/images/tm_logo.png\" property=\"og:image\"/>\n",
              "<meta content=\"\" property=\"og:description\"/>\n",
              "<meta content=\"Premier League 20/21\" property=\"og:title\"/>\n",
              "<meta content=\"https://www.transfermarkt.com/premier-league/startseite/wettbewerb/GB1\" property=\"og:url\"/>\n",
              "<link href=\"https://www.transfermarkt.de/premier-league/startseite/wettbewerb/GB1\" hreflang=\"de\" rel=\"alternate\">\n",
              "<link href=\"https://www.transfermarkt.de/premier-league/startseite/wettbewerb/GB1\" hreflang=\"de-LU\" rel=\"alternate\">\n",
              "<link href=\"https://www.transfermarkt.at/premier-league/startseite/wettbewerb/GB1\" hreflang=\"de-AT\" rel=\"alternate\">\n",
              "<link href=\"https://www.transfermarkt.ch/premier-league/startseite/wettbewerb/GB1\" hreflang=\"de-CH\" rel=\"alternate\"/>\n",
              "<link href=\"https://www.transfermarkt.com.tr/premier-league/startseite/wettbewerb/GB1\" hreflang=\"tr\" rel=\"alternate\"/>\n",
              "<link href=\"https://www.transfermarkt.it/premier-league/startseite/wettbewerb/GB1\" hreflang=\"it-CH\" rel=\"alternate\"/>\n",
              "<link href=\"https://www.transfermarkt.it/premier-league/startseite/wettbewerb/GB1\" hreflang=\"it\" rel=\"alternate\"/>\n",
              "<link href=\"https://www.transfermarkt.pl/premier-league/startseite/wettbewerb/GB1\" hreflang=\"pl\" rel=\"alternate\"/>\n",
              "<link href=\"https://www.transfermarkt.co.uk/premier-league/startseite/wettbewerb/GB1\" hreflang=\"en-GB\" rel=\"alternate\"/>\n",
              "<link href=\"https://www.transfermarkt.co.uk/premier-league/startseite/wettbewerb/GB1\" hreflang=\"en-IE\" rel=\"alternate\"/>\n",
              "<link href=\"https://www.transfermarkt.es/premier-league/startseite/wettbewerb/GB1\" hreflang=\"es\" rel=\"alternate\"/>\n",
              "<link href=\"https://www.transfermarkt.es/premier-league/startseite/wettbewerb/GB1\" hreflang=\"es-ES\" rel=\"alternate\"/>\n",
              "<link href=\"https://www.transfermarkt.es/premier-league/startseite/wettbewerb/GB1\" hreflang=\"es-CL\" rel=\"alternate\"/>\n",
              "<link href=\"https://www.transfermarkt.es/premier-league/startseite/wettbewerb/GB1\" hreflang=\"es-VE\" rel=\"alternate\"/>\n",
              "<link href=\"https://www.transfermarkt.es/premier-league/startseite/wettbewerb/GB1\" hreflang=\"es-PE\" rel=\"alternate\"/>\n",
              "<link href=\"https://www.transfermarkt.es/premier-league/startseite/wettbewerb/GB1\" hreflang=\"es-EC\" rel=\"alternate\"/>\n",
              "<link href=\"https://www.transfermarkt.es/premier-league/startseite/wettbewerb/GB1\" hreflang=\"es-CU\" rel=\"alternate\"/>\n",
              "<link href=\"https://www.transfermarkt.nl/premier-league/startseite/wettbewerb/GB1\" hreflang=\"nl\" rel=\"alternate\"/>\n",
              "<link href=\"https://www.transfermarkt.pt/premier-league/startseite/wettbewerb/GB1\" hreflang=\"pt\" rel=\"alternate\"/>\n",
              "<link href=\"https://www.transfermarkt.ru/premier-league/startseite/wettbewerb/GB1\" hreflang=\"ru\" rel=\"alternate\"/>\n",
              "<link href=\"https://www.transfermarkt.fr/premier-league/startseite/wettbewerb/GB1\" hreflang=\"fr-CH\" rel=\"alternate\"/>\n",
              "<link href=\"https://www.transfermarkt.fr/premier-league/startseite/wettbewerb/GB1\" hreflang=\"fr\" rel=\"alternate\"/>\n",
              "<link href=\"https://www.transfermarkt.fr/premier-league/startseite/wettbewerb/GB1\" hreflang=\"fr-CA\" rel=\"alternate\"/>\n",
              "<link href=\"https://www.transfermarkt.fr/premier-league/startseite/wettbewerb/GB1\" hreflang=\"fr-CI\" rel=\"alternate\"/>\n",
              "<link href=\"https://www.transfermarkt.fr/premier-league/startseite/wettbewerb/GB1\" hreflang=\"fr-LU\" rel=\"alternate\"/>\n",
              "<link href=\"https://www.transfermarkt.fr/premier-league/startseite/wettbewerb/GB1\" hreflang=\"fr-BE\" rel=\"alternate\"/>\n",
              "<link href=\"https://www.transfermarkt.com.br/premier-league/startseite/wettbewerb/GB1\" hreflang=\"pt-BR\" rel=\"alternate\"/>\n",
              "<link href=\"https://www.transfermarkt.us/premier-league/startseite/wettbewerb/GB1\" hreflang=\"en-US\" rel=\"alternate\"/>\n",
              "<link href=\"https://www.transfermarkt.us/premier-league/startseite/wettbewerb/GB1\" hreflang=\"en-CA\" rel=\"alternate\"/>\n",
              "<link href=\"https://www.transfermarkt.co.in/premier-league/startseite/wettbewerb/GB1\" hreflang=\"en-IN\" rel=\"alternate\"/>\n",
              "<link href=\"https://www.transfermarkt.co.za/premier-league/startseite/wettbewerb/GB1\" hreflang=\"en-ZA\" rel=\"alternate\"/>\n",
              "<link href=\"https://www.transfermarkt.com/premier-league/startseite/wettbewerb/GB1\" hreflang=\"x-default\" rel=\"alternate\"/>\n",
              "<link href=\"https://www.transfermarkt.com/premier-league/startseite/wettbewerb/GB1\" hreflang=\"en\" rel=\"alternate\"/>\n",
              "<link href=\"https://www.transfermarkt.be/premier-league/startseite/wettbewerb/GB1\" hreflang=\"nl-BE\" rel=\"alternate\"/>\n",
              "<link href=\"https://www.transfermarkt.com.ar/premier-league/startseite/wettbewerb/GB1\" hreflang=\"es-AR\" rel=\"alternate\"/>\n",
              "<link href=\"https://www.transfermarkt.mx/premier-league/startseite/wettbewerb/GB1\" hreflang=\"es-MX\" rel=\"alternate\"/>\n",
              "<link href=\"https://www.transfermarkt.co/premier-league/startseite/wettbewerb/GB1\" hreflang=\"es-CO\" rel=\"alternate\"/>\n",
              "<link href=\"https://www.transfermarkt.my/premier-league/startseite/wettbewerb/GB1\" hreflang=\"ms\" rel=\"alternate\"/>\n",
              "<link href=\"https://www.transfermarkt.jp/premier-league/startseite/wettbewerb/GB1\" hreflang=\"ja\" rel=\"alternate\"/>\n",
              "<link href=\"https://www.transfermarkt.co.id/premier-league/startseite/wettbewerb/GB1\" hreflang=\"id\" rel=\"alternate\"/>\n",
              "<link href=\"https://tmssl.akamaized.net/css/stylesheets/menue.css?lm=1620040217\" rel=\"stylesheet\" type=\"text/css\"/>\n",
              "<link href=\"https://tmssl.akamaized.net/css/stylesheets/tm-grid.css?lm=1620040217\" rel=\"stylesheet\" type=\"text/css\"/>\n",
              "<link href=\"https://tmssl.akamaized.net/css/stylesheets/main.css?lm=1620040217\" rel=\"stylesheet\" type=\"text/css\"/>\n",
              "<link href=\"https://tmssl.akamaized.net/css/foundation-icons.css?lm=1620040217\" rel=\"stylesheet\" type=\"text/css\"/>\n",
              "<link href=\"https://tmssl.akamaized.net/assets/b7c5571cf8957553f95f6d9069eaed67/jui/css/base/jquery-ui.css?lm=1620040218\" rel=\"stylesheet\" type=\"text/css\"/>\n",
              "<link href=\"https://tmssl.akamaized.net/css/stylesheets/main_desktop.css?lm=1620040217\" rel=\"stylesheet\" type=\"text/css\"/>\n",
              "<link href=\"https://tmssl.akamaized.net/css/sprite-main.css?lm=1620040217\" rel=\"stylesheet\" type=\"text/css\"/>\n",
              "<link href=\"https://tmssl.akamaized.net/css/chosen.css?lm=1620040217\" rel=\"stylesheet\" type=\"text/css\"/>\n",
              "<link href=\"https://tmssl.akamaized.net/css/jquery-ui-1.10.4.custom.css?lm=1620040217\" rel=\"stylesheet\" type=\"text/css\"/>\n",
              "<link href=\"https://tmssl.akamaized.net/css/jquery-ui-1.10.4.tm-theme.css?lm=1620040217\" rel=\"stylesheet\" type=\"text/css\"/>\n",
              "<link href=\"https://tmssl.akamaized.net/css/stylesheets/main_werbung.css?lm=1620040217\" rel=\"stylesheet\" type=\"text/css\"/>\n",
              "<link href=\"https://tmssl.akamaized.net/css/shortclasses.css?lm=1620040217\" rel=\"stylesheet\" type=\"text/css\"/>\n",
              "<link href=\"https://tmssl.akamaized.net/css/print.css?_sn=1?lm=1620040217\" media=\"print\" rel=\"stylesheet\" type=\"text/css\"/>\n",
              "<link href=\"https://tmssl.akamaized.net/css/wettbewerb.css?lm=1620040217\" rel=\"stylesheet\" type=\"text/css\"/>\n",
              "<link href=\"https://tmssl.akamaized.net/css/statistiken.css?lm=1620040217\" rel=\"stylesheet\" type=\"text/css\"/>\n",
              "<link href=\"https://tmssl.akamaized.net/css/desktop.css?lm=1620040217\" rel=\"stylesheet\" type=\"text/css\"/>\n",
              "<link href=\"https://tmssl.akamaized.net/css/domainspezifisch/desktop-com.css?lm=1620040217\" rel=\"stylesheet\" type=\"text/css\"/>\n",
              "<link href=\"https://tmssl.akamaized.net/css/stylesheets/wettbewerb.css?lm=1620040217\" rel=\"stylesheet\" type=\"text/css\"/>\n",
              "<link href=\"https://tmssl.akamaized.net/css/stylesheets/gridview.css?lm=1620040217\" rel=\"stylesheet\" type=\"text/css\"/>\n",
              "<link href=\"https://tmssl.akamaized.net/css/stylesheets/spieltagsbox.css?lm=1620040217\" rel=\"stylesheet\" type=\"text/css\"/>\n",
              "<link href=\"https://tmssl.akamaized.net/css/livespieltag.css?lm=1620040217\" rel=\"stylesheet\" type=\"text/css\"/>\n",
              "<link href=\"https://tmssl.akamaized.net/css/stylesheets/relevante_news.css?lm=1620040217\" rel=\"stylesheet\" type=\"text/css\"/>\n",
              "<link href=\"https://tmssl.akamaized.net/css/jquery.bxslider.min.css?lm=1620040217\" rel=\"stylesheet\" type=\"text/css\"/>\n",
              "<link href=\"https://tmssl.akamaized.net/css/jquery.custom.bxslider.css?lm=1620040217\" rel=\"stylesheet\" type=\"text/css\"/>\n",
              "<link href=\"https://tmssl.akamaized.net/css/beliebtheit.css?lm=1620040217\" rel=\"stylesheet\" type=\"text/css\"/>\n",
              "<link href=\"https://tmssl.akamaized.net/assets/bdb39bc7538f732f9833170435d23c28/css/tooltipster.css?lm=1620040218\" rel=\"stylesheet\" type=\"text/css\"/>\n",
              "<style type=\"text/css\">\n",
              "/*<![CDATA[*/\n",
              "@keyframes heim {\n",
              "    0%   {width: 0%;}\n",
              "    100% {width: 0%}\n",
              "}\n",
              "@keyframes gast {\n",
              "    0%   {width: 0%;}\n",
              "    100% {width: 0%}\n",
              "}\n",
              ".beliebtheit-vote-heim {\n",
              "    animation-name: heim;\n",
              "    animation-duration: 4s;\n",
              "}\n",
              ".beliebtheit-vote-gast {\n",
              "    animation-name: gast;\n",
              "    animation-duration: 4s;\n",
              "}\n",
              "/*]]>*/\n",
              "</style>\n",
              "<script src=\"https://tmssl.akamaized.net/js/vendor/jquery.min.js?lm=1620040213\" type=\"text/javascript\"></script>\n",
              "<script src=\"https://tmssl.akamaized.net/assets/b7c5571cf8957553f95f6d9069eaed67/jquery.ba-bbq.min.js?lm=1620040218\" type=\"text/javascript\"></script>\n",
              "<script src=\"https://tmssl.akamaized.net/js/jquery.bxslider.js?lm=1620040213\" type=\"text/javascript\"></script>\n",
              "<script src=\"https://tmssl.akamaized.net/js/wettbewerb.js?lm=1620040213\" type=\"text/javascript\"></script>\n",
              "<script src=\"https://tmssl.akamaized.net/js/wettbewerbGeruechte.js?lm=1620040213\" type=\"text/javascript\"></script>\n",
              "<script src=\"https://tmssl.akamaized.net/js/localStorage.js?lm=1620040213\" type=\"text/javascript\"></script>\n",
              "<script src=\"https://tmssl.akamaized.net/js/foundation.js?lm=1620040213\" type=\"text/javascript\"></script>\n",
              "<script src=\"https://tmssl.akamaized.net/js/main.js?lm=1620040213\" type=\"text/javascript\"></script>\n",
              "<script src=\"https://tmssl.akamaized.net/js/jquery-ui-1.10.4.custom.min.js?lm=1620040213\" type=\"text/javascript\"></script>\n",
              "<script src=\"https://tmssl.akamaized.net/js/clipboard.min.js?lm=1620040213\" type=\"text/javascript\"></script>\n",
              "<script src=\"https://tmssl.akamaized.net/js/chosen.ajaxaddition.jquery.js?lm=1620040213\" type=\"text/javascript\"></script>\n",
              "<script src=\"https://tmssl.akamaized.net/js/jquery.icheck.min.js?lm=1620040213\" type=\"text/javascript\"></script>\n",
              "<script src=\"https://tmssl.akamaized.net/js/functions.js?lm=1620040213\" type=\"text/javascript\"></script>\n",
              "<script src=\"https://tmssl.akamaized.net/js/main_desktop.js?lm=1620040213\" type=\"text/javascript\"></script>\n",
              "<script src=\"https://tmssl.akamaized.net/js/chosen.jquery.js?lm=1620040213\" type=\"text/javascript\"></script>\n",
              "<script src=\"https://tmssl.akamaized.net/assets/bdb39bc7538f732f9833170435d23c28/js/jquery.tooltipster.js?lm=1620040218\" type=\"text/javascript\"></script>\n",
              "<script type=\"text/javascript\">\n",
              "/*<![CDATA[*/\n",
              "<!-- DFPV2 --->\n",
              "\t\tvar gptscript = document.createElement(\"script\");\n",
              "\t\t\tgptscript.type = \"text/javascript\";\n",
              "\t\t\tgptscript.src = 'https://www.googletagservices.com/tag/js/gpt.js';\n",
              "\t\t\t//gptscript.charset = \"utf-8\";\n",
              "\t\t\tgptscript.async = true;\n",
              "\t\t\tvar gptfirstScript = document.getElementsByTagName(\"script\")[0];\n",
              "\t\t\tgptfirstScript.parentNode.insertBefore(gptscript, gptfirstScript);\n",
              "\n",
              "\t\tvar googletag = googletag || {};\n",
              "\t\t\tgoogletag.cmd = googletag.cmd || [];\n",
              "\t\t\tgoogletag.cmd.push(function() {\n",
              "var rectangle1_mapping = googletag.sizeMapping().\n",
              "\t\taddSize([0, 0], [[300, 250]]).\n",
              "\t\taddSize([640, 480], [[300, 250]]).\n",
              "\t\taddSize([980, 690], [[300, 250]]).\n",
              "\t\taddSize([1024, 768], [[300, 250]]).build();\n",
              "googletag.defineSlot('/58778164/TM_Desktop_TopRectangle_300x250', [[300, 250]], 'Rectangle1').defineSizeMapping(rectangle1_mapping).addService(googletag.pubads());\n",
              "var rectangle2_mapping = googletag.sizeMapping().\n",
              "\t\taddSize([0, 0], [[300, 250], 'fluid']).\n",
              "\t\taddSize([640, 480], [[300, 250], 'fluid']).\n",
              "\t\taddSize([980, 690], [[300, 250], 'fluid']).\n",
              "\t\taddSize([1024, 768], [[300, 250], [300, 600], 'fluid']).build();\n",
              "googletag.defineSlot('/58778164/TM_Desktop_BottomRectangle_300x250', [[300, 250], [300, 600], 'fluid'], 'Rectangle2').defineSizeMapping(rectangle2_mapping).addService(googletag.pubads());\n",
              "var skyscraper_mapping = googletag.sizeMapping().\n",
              "\t\taddSize([0, 0], [[160, 600], [120, 600]]).\n",
              "\t\taddSize([640, 480], [[160, 600], [120, 600]]).\n",
              "\t\taddSize([980, 690], [[160, 600], [120, 600]]).\n",
              "\t\taddSize([1024, 768], [[160, 600], [300, 600], [120, 600]]).build();\n",
              "googletag.defineSlot('/58778164/TM_Desktop_Skyscraper_300x600', [[160, 600], [120, 600], [300, 600]], 'Skyscraper').defineSizeMapping(skyscraper_mapping).addService(googletag.pubads());\n",
              "var billboard_mapping = googletag.sizeMapping().\n",
              "\t\taddSize([0, 0], [[468, 60], 'fluid']).\n",
              "\t\taddSize([640, 480], [[468, 60], 'fluid']).\n",
              "\t\taddSize([980, 690], [[970, 250], [970, 90], [970, 66], [728, 90]]).\n",
              "\t\taddSize([1024, 768], [[970, 250], [970, 90], [970, 66], [728, 90]]).build();\n",
              "googletag.defineSlot('/58778164/TM_Desktop_CenterLeaderboard_970x250', [[468, 60], [970, 90], [970, 250], [728, 90], 'fluid', [970, 66]], 'Billboard').defineSizeMapping(billboard_mapping).addService(googletag.pubads());\n",
              "var fullsize_contentad_mapping = googletag.sizeMapping().\n",
              "\t\taddSize([0, 0], [468, 60]).\n",
              "\t\taddSize([640, 480], [[728, 90], [468, 60]]).\n",
              "\t\taddSize([980, 690], [[728, 90], [970, 90], [970, 250]]).\n",
              "\t\taddSize([1024, 768], [[970, 250], [970, 90], [728, 90]]).build();\n",
              "googletag.defineSlot('/58778164/TM_Desktop_BottomLeaderboard_970x250', [[468, 60], [728, 90], [970, 90], [970, 250]], 'BillboardFooter').defineSizeMapping(fullsize_contentad_mapping).addService(googletag.pubads());\n",
              "googletag.defineOutOfPageSlot('/58778164/TM_Desktop_RichMedia_1x1', 'Richmedia').addService(googletag.pubads());\n",
              "googletag.pubads().setCentering(true);\n",
              "googletag.pubads().collapseEmptyDivs();\n",
              "googletag.pubads().enableSingleRequest();\n",
              "googletag.pubads().setTargeting(\"URL\",\"www.transfermarkt.com\")\n",
              "googletag.pubads().setTargeting(\"cg1\", [\"statistik\"]);\n",
              "googletag.pubads().setTargeting(\"cg2\", [\"wettbewerb\"]);\n",
              "googletag.pubads().setTargeting(\"cg3\", [\"startseite\"]);\n",
              "googletag.pubads().setTargeting(\"cg4\", [\"GB1\"]);\n",
              "googletag.enableServices();\n",
              "})\n",
              "<!-- DFPV2-ENDE -->\n",
              "var adition = adition || {};\n",
              "adition.srq = adition.srq || [];\n",
              "(function() {\n",
              "    var script = document.createElement(\"script\");\n",
              "    script.type = \"text/javascript\";\n",
              "    script.src = (document.location.protocol === \"https:\" ? \"https:\" : \"http:\") + \"//imagesrv.adition.com/js/srp.js\";\n",
              "    script.charset = \"utf-8\";\n",
              "    script.async = true;\n",
              "    var firstScript = document.getElementsByTagName(\"script\")[0];\n",
              "    firstScript.parentNode.insertBefore(script, firstScript);\n",
              "})()\n",
              "adition.srq.push(function(api) {\n",
              "    // Configure modules ...\n",
              "    api.modules.setLoadingTimeout(2000);\n",
              "    api.registerAdfarm(\"ad1.adfarm1.adition.com\");\n",
              "    api.configureRenderSlot(\"oddsServe\").setContentunitId(4382869);\n",
              "    api.configureRenderSlot(\"oddsServe\").setProfile(\"GB1\");\n",
              "    api.load().completeRendering();\n",
              "})\n",
              "\n",
              "/*]]>*/\n",
              "</script>\n",
              "<title>Premier League 20/21 | Transfermarkt</title>\n",
              "<script src=\"https://tmsi.akamaized.net/js/globals-dev/tm-global-elements.esm.js?v=4\" type=\"module\"></script>\n",
              "<script nomodule=\"\" src=\"https://tmsi.akamaized.net/js/globals-dev/tm-global-elements.js?v=4\"></script>\n",
              "<script type=\"text/javascript\">\n",
              "   tmData = {\n",
              "       loggedIn : \"0\",\n",
              "       tmTraffic: \"0\",\n",
              "   };\n",
              "</script>\n",
              "<script>// Set to the same value as the web property used on the site\n",
              "\t\tvar gaProperty = 'UA-3816204-13';\n",
              "\n",
              "\t\t// Disable tracking if the opt-out cookie exists.\n",
              "\t\tvar disableStr = 'ga-disable-' + gaProperty;\n",
              "\t\tif (document.cookie.indexOf(disableStr + '=true') > -1) {\n",
              "\t\t\twindow[disableStr] = true;\n",
              "\t\t}\n",
              "\n",
              "\t\t// Opt-out function\n",
              "\t\tfunction gaOptout() {\n",
              "\t\t\tdocument.cookie = disableStr + '=true; expires=Thu, 31 Dec 2099 23:59:59 UTC; path=/';\n",
              "\t\t\twindow[disableStr] = true;\n",
              "\t\t}</script>\n",
              "<script async=\"\" src=\"https://www.googletagmanager.com/gtag/js?id=UA-3816204-13\"></script>\n",
              "<script>\n",
              "\twindow.dataLayer = window.dataLayer || [];\n",
              "\tfunction gtag() { dataLayer.push(arguments); } \n",
              "   gtag('set', 'linker', { 'domains': [/^transfermarkt\\.(com|de|nl|it|at|ch|es|fr|com\\.tr|pt|tv|pl|co\\.uk)$/]});\n",
              "   gtag('js', new Date()); \n",
              "   gtag('set',\n",
              "  {\n",
              "    'custom_map': {\n",
              "                    'dimension1': 'loggedIn',\n",
              "                    'dimension2': 'tmTraffic'\n",
              "                }\n",
              "  });\n",
              "        gtag('config', 'UA-3816204-13', {\n",
              "                'anonymize_ip': true,\n",
              "                'transport_type': 'beacon',\n",
              "                'content_group1': 'statistik',\n",
              "                'content_group2': 'wettbewerb',\n",
              "                'content_group3': 'startseite',\n",
              "                'content_group4': 'GB1',\n",
              "                'loggedIn': tmData.loggedIn,\n",
              "                'tmTraffic': tmData.tmTraffic\n",
              "            }); \n",
              "   function tmEvent(category, action, label) {\n",
              "                gtag('event',\n",
              "                    action,\n",
              "                    {\n",
              "                        'event_category': category,\n",
              "                        'event_label': label\n",
              "                    }\n",
              "                );\n",
              "            }\n",
              "\n",
              "            function tmTiming(value, name, event_category, event_label) {\n",
              "                gtag('event', 'timing_complete', {\n",
              "                    name,\n",
              "                    value,\n",
              "                    event_category,\n",
              "                    event_label\n",
              "                });\n",
              "            }\n",
              "            \n",
              "\t</script><!--  SZM 2.0 (IVW/AGOF) -->\n",
              "<script src=\"https://script.ioam.de/iam.js\" type=\"text/javascript\"></script> <script src=\"https://tmssl.akamaized.net//ads/ads.js\" type=\"text/javascript\"></script>\n",
              "<script type=\"text/javascript\">\n",
              "        if (self == top) {\n",
              "            document.documentElement.style.display = 'block';\n",
              "        } else {\n",
              "            top.location = self.location;\n",
              "        }\n",
              "    </script>\n",
              "<noscript>\n",
              "<style>\n",
              "            html body *:not(.noscript) {\n",
              "                display: none;\n",
              "            }\n",
              "        </style>\n",
              "<div class=\"noscript\">\n",
              "            To use this site, please enable Javascript.        </div>\n",
              "</noscript>\n",
              "<!--[if lte IE 8]>\n",
              "    <link rel=\"stylesheet\" type=\"text/css\" href=\"/css/ie.css\"/><![endif]-->\n",
              "<link href=\"https://www.transfermarkt.com/premier-league/startseite/wettbewerb/GB1\" rel=\"canonical\"/>\n",
              "<!-- tisoomi check --><!--Tisoomi-->\n",
              "<script type=\"text/javascript\">\n",
              "/* 08043616 */ !function(t,e){function a(t,e){var a=lt(t);if(!a)return a;if(\"\"!=e)for(var r=0;r<e.length;r++){var n=d(e,r);\"^\"==n&&(a=a.parentNode),\"<\"==n&&(a=a.previousElementSibling),\">\"==n&&(a=a.nextElementSibling),\"y\"==n&&(a=a.firstChild)}return a}function r(t,e){var a=tt(e);return{x:t.clientX-a.left,y:t.clientY-a.top}}function n(t){for(var e=0,a=0;t;)e+=t.offsetLeft+t.clientLeft,a+=t.offsetTop+t.clientTop,t=t.offsetParent;return{x:e,y:a}}function i(t,e){var a=0,r=0,i=n(e);return(t.pageX||t.pageY)&&(a=t.pageX,r=t.pageY),(t.clientX||t.clientY)&&(a=t.clientX+document.body.scrollLeft+document.documentElement.scrollLeft,r=t.clientY+document.body.scrollTop+document.documentElement.scrollTop),a-=i.x,r-=i.y,{x:a,y:r}}function h(t,e){return $(e)?r(t,e):i(t,e)}function l(t,e){t.addEventListener?j(t,\"click\",e,!0):t.attachEvent&&t.attachEvent(\"onclick\",function(){return e.call(t,window.event)})}function u(e,a){return t[x(\"c2V0VGltZW91dA==\")](e,a)}function o(t){return parseInt(t.toString().split(\".\")[0],10)}function d(t,e){return t[e]}function f(){return Mt=(Xt*Mt+Nt)%wt}function k(){return f()/(wt-1)}function s(){return k()}function p(t,e){return t>e?t:e}function R(){for(var t=\"\",e=65;e<91;e++)t+=c(e);for(var e=97;e<123;e++)t+=c(e);return t}function c(t){return d(\" !\\\"#$%&'()*+,-./0123456789:;<=>?@ABCDEFGHIJKLMNOPQRSTUVWXYZ[\"+d(\"\\\\\\\\\",0)+\"]^_`abcdefghijklmnopqrstuvwxyz{|}\",t-32)}function x(t){var e,a,r,n,i,h,l,u=R()+\"0123456789+/=\",o=\"\",f=0;for(t=t.replace(/[^A-Za-z0-9\\+\\/\\=]/g,\"\");f<t.length;)n=u.indexOf(d(t,f++)),i=u.indexOf(d(t,f++)),h=u.indexOf(d(t,f++)),l=u.indexOf(d(t,f++)),e=n<<2|i>>4,a=(15&i)<<4|h>>2,r=(3&h)<<6|l,o+=c(e),64!=h&&(o+=c(a)),64!=l&&(o+=c(r));return o}function v(){try{return navigator.userAgent||navigator.vendor||window.opera}catch(t){return\"unknown\"}}function j(t,e,a,r){r=r||!1;try{t.addEventListener(e,a,r)}catch(r){t.attachEvent&&t.attachEvent(\"on\"+e,a)}}function g(t){if(!t)return\"\";for(var e=x(\"ISIjJCUmJygpKissLS4vOjs8PT4/QFtcXV5ge3x9\"),a=\"\",r=0;r<t.length;r++){a+=e.indexOf(t[r])>-1?x(\"XA==\")+t[r]:t[r]}return a}function m(t){if(!t)return\"\";var e=\"\";return t.id&&t.id.length>0&&(e+=\"#\"+g(t.id)),t.className&&t.className.length>0&&(e+=\".\"+g(t.className).split(\" \").filter(function(t){return t&&t.length>0}).join(\".\")),e}function Z(t){Ut[t]=!1}function W(t,e){var a=Ot++;Ut[a]=!0;var r=function(e){return function(){t.call(null),Ut[a]&&u(r,e)}}(e);return u(r,e),a}function E(t){var e=!1;return Object.keys(t).forEach(function(a){e=e||t[a]}),!e}function T(t,e){return t&&(t.consents&&t.consents[e]||t.legitimateInterests&&t.legitimateInterests[e])}function y(e){return!!t.urahkf33Flags.strictNCNA&&(T(e,2)&&T(e,7)&&T(e,9)&&T(e,10))}function G(t,e,a,r){var n=function(){return!!a()&&(r(),!0)};if(!n()){var i=W(function(){n()&&Z(i)},250);n()}}function F(t){b(t)}function b(t){if(t.urahk064sdl&&!t.urahk9b6Inject){t.urahk9b6Inject=!0,t.urahkadaPc={},t.urahk015Oc=[],t.urahk30bAm={},t.urahk9efAv={},t.urahkc80Aw={},t.urahk6f8Rqr={},t.urahkb5bRqq=[],t.urahk9efAvt={},t.urahk65bEv={};var a=[];if(function(){for(var t=['RWGzztV.\"superbanner\".','RWGzztV.\"skyscraper\".','RWGzztV.\"billboard\".','RWGzztV.\"WP\".','RWGzztV.\"rectangle1\".','RWGzztV.\"rectangle2\".'],e=0,a=document.scripts;e<a.length;e+=1)for(var r=0;r<t.length;r++){var n=new RegExp(\"//\"+t[r]);if(null!==(res=n.exec(a[e].innerHTML))){var i=document.createElement(\"div\");i.id=t[r].replace('.\"',\"\").replace('\".',\"\"),a[e].after(i)}}}(),!t.urahkf33Flags.welect.eenabled||TLXAZWelect()){if(urahkf33Flags.ptd46ls){var r=urahkf33Flags.baa3eit,n=urahkf33Flags.mb428el||10,i=urahkf33Flags.ig704BP,h=function(){var t=D(\"style\");t.type=\"text/css\";var a=!1,r=D(\"style\");r.type=\"text/css\";var n=!1;return function(h,l){if(l)if(\"b\"!==h||a){if(\"r\"===h)if(n){var u=r,o=u.sheet;o.insertRule(l,0)}else n=!0,C(r,l),_(e.body,r)}else{if(a=!0,i)for(var d=0;d<i.length;d++)l=l.replace(new RegExp(\"([;{])\"+i[d]+\": [^;]+;\",\"g\"),\"$1\");var u=\"[^:;{\",o=\"!important;\";l=l.replace(new RegExp(u+\"}]+: [^;]+\\\\s\"+o,\"g\"),\"\"),C(t,l),e.head.insertBefore(t,e.head.firstChild)}}}();if(r){if(r.length>n){for(var l=0,u=[0],d=[r[0]],f=1;f<n;f++){for(;u.indexOf(l)>-1;)l=o(s()*r.length);u.push(l),d[f]=r[l]}r=d,urahkf33Flags.baa3eit=d}for(var k={},p=0;p<r.length;p++){var R=\"string\"==typeof r[p]?lt(r[p]):r[p];if(R&&R instanceof Node){var c={element:R,co4beso:{},rc38dcls:Et(7),co7detx:\"\"};if(c.co7detx+=\".\"+c.rc38dcls+\"{\",!i||i&&-1===i.indexOf(\"cursor\")){var x=at(R,\"cursor\");c.co4beso.cursor=x,c.co7detx+=\"cursor:\"+x+\";\"}if(!i||i&&-1===i.indexOf(\"text-align\")){var x=at(R,\"text-align\");c.co4beso[\"text-align\"]=x,c.co7detx+=\"text-align:\"+x+\";\"}if(!i||i&&-1===i.indexOf(\"margin-top\")){var x=at(R,\"margin-top\");c.co4beso[\"margin-top\"]=x,c.co7detx+=\"margin-top:\"+x+\";\"}if(!i||i&&-1===i.indexOf(\"content\")){var x=at(R,\"content\");c.co4beso.content=x,c.co7detx+=\"content:\"+x+\";\"}if(!i||i&&-1===i.indexOf(\"color\")){var x=at(R,\"color\");c.co4beso.color=x,c.co7detx+=\"color:\"+x+\";\"}if(!i||i&&-1===i.indexOf(\"display\")){var x=at(R,\"display\");c.co4beso.display=x,c.co7detx+=\"display:\"+x+\";\"}if(!i||i&&-1===i.indexOf(\"font\")){var x=at(R,\"font\");c.co4beso.font=x,c.co7detx+=\"font:\"+x+\";\"}if(!i||i&&-1===i.indexOf(\"line-height\")){var x=at(R,\"line-height\");c.co4beso[\"line-height\"]=x,c.co7detx+=\"line-height:\"+x+\";\"}if(!i||i&&-1===i.indexOf(\"top\")){var x=at(R,\"top\");c.co4beso.top=x,c.co7detx+=\"top:\"+x+\";\"}if(!i||i&&-1===i.indexOf(\"margin-bottom\")){var x=at(R,\"margin-bottom\");c.co4beso[\"margin-bottom\"]=x,c.co7detx+=\"margin-bottom:\"+x+\";\"}if(!i||i&&-1===i.indexOf(\"position\")){var x=at(R,\"position\");c.co4beso.position=x,c.co7detx+=\"position:\"+x+\";\"}if(!i||i&&-1===i.indexOf(\"margin\")){var x=at(R,\"margin\");c.co4beso.margin=x,c.co7detx+=\"margin:\"+x+\";\"}if(!i||i&&-1===i.indexOf(\"left\")){var x=at(R,\"left\");c.co4beso.left=x,c.co7detx+=\"left:\"+x+\";\"}if(!i||i&&-1===i.indexOf(\"z-index\")){var x=at(R,\"z-index\");c.co4beso[\"z-index\"]=x,c.co7detx+=\"z-index:\"+x+\";\"}if(!i||i&&-1===i.indexOf(\"max-width\")){var x=at(R,\"max-width\");c.co4beso[\"max-width\"]=x,c.co7detx+=\"max-width:\"+x+\";\"}if(!i||i&&-1===i.indexOf(\"max-height\")){var x=at(R,\"max-height\");c.co4beso[\"max-height\"]=x,c.co7detx+=\"max-height:\"+x+\";\"}if(!i||i&&-1===i.indexOf(\"margin-left\")){var x=at(R,\"margin-left\");c.co4beso[\"margin-left\"]=x,c.co7detx+=\"margin-left:\"+x+\";\"}if(!i||i&&-1===i.indexOf(\"right\")){var x=at(R,\"right\");c.co4beso.right=x,c.co7detx+=\"right:\"+x+\";\"}if(!i||i&&-1===i.indexOf(\"bottom\")){var x=at(R,\"bottom\");c.co4beso.bottom=x,c.co7detx+=\"bottom:\"+x+\";\"}if(!i||i&&-1===i.indexOf(\"width\")){var x=at(R,\"width\");c.co4beso.width=x,c.co7detx+=\"width:\"+x+\";\"}if(!i||i&&-1===i.indexOf(\"height\")){var x=at(R,\"height\");c.co4beso.height=x,c.co7detx+=\"height:\"+x+\";\"}if(!i||i&&-1===i.indexOf(\"visibility\")){var x=at(R,\"visibility\");c.co4beso.visibility=x,c.co7detx+=\"visibility:\"+x+\";\"}if(!i||i&&-1===i.indexOf(\"direction\")){var x=at(R,\"direction\");c.co4beso.direction=x,c.co7detx+=\"direction:\"+x+\";\"}c.co7detx+=\"} \",k[r[p]]=c,h(\"b\",'.rismjgtwmo{cursor: pointer;text-align: center;margin-top: 20px;content: \"Ad\";color: #979797;display: block;font: bold 10px/10px \"Helvetica Neue Condensed\", Helvetica, sans-serif;line-height: 0;top: 6px;margin-bottom: 10px;position: relative;margin: 5px 0 15px;left: 100%;z-index: 999999;max-width: initial !important;max-height: 800px;margin-left: 10px;right: 0;bottom: 0;width: 100%;height: 100%;visibility: hidden;direction: rtl;} .gsztnqqym{text-align: right;position: absolute;top: 0;max-width: 300px;margin: 10px auto 0;left: 0;display: none;width: 2px;height: 2px;right: -7px;margin-bottom: 5px;} .mawxww{position: fixed;max-width: inherit;right: -5px;margin: 0 auto;} .copomo{max-width: 1034px;} '),h(\"r\",c.co7detx),R.className+=\" \"+c.rc38dcls,R.className+=\" rismjgtwmo\",R.className+=\" gsztnqqym\",R.className+=\" mawxww\",R.className+=\" copomo\"}}}}var v=D(\"style\");v.type=\"text/css\",C(v,'.hFhrmK img {cursor: pointer;}oGJTCnJZ img {cursor: pointer;}.kdzNLCFH {text-align: center;margin-top: 20px;} .kdzNLCFH img {cursor: pointer;}.kdzNLCFH:after {content: \"Ad\";color: #979797;display: block;font: bold 10px/10px \"Helvetica Neue Condensed\", Helvetica, sans-serif;text-align: right;line-height: 0;top: 6px;margin-bottom: 10px;position: relative;}.gGwxUn {margin: 5px 0 15px;text-align: center;} .gGwxUn img {cursor: pointer;}.gGwxUn:after {content: \"Ad\";color: #979797;display: block;font: bold 10px/10px \"Helvetica Neue Condensed\", Helvetica, sans-serif;text-align: right;line-height: 0;top: 6px;margin-bottom: 10px;position: relative;}.wlWMOykD {margin: 5px 0 15px;text-align: center;} .wlWMOykD img {cursor: pointer;}.wlWMOykD:after {content: \"Ad\";color: #979797;display: block;font: bold 10px/10px \"Helvetica Neue Condensed\", Helvetica, sans-serif;text-align: right;line-height: 0;top: 6px;margin-bottom: 10px;position: relative;}#AtCnvLC {margin: 5px 0 15px;text-align: center;} #AtCnvLC img {cursor: pointer;}#AtCnvLC:after {content: \"Ad\";color: #979797;display: block;font: bold 10px/10px \"Helvetica Neue Condensed\", Helvetica, sans-serif;text-align: right;line-height: 0;top: 6px;margin-bottom: 10px;position: relative;}#UVJYGq {position: absolute;top: 0;left: 100%;z-index: 999999;}#UVJYGq img {cursor: pointer;max-width: initial !important;}.oSfhkbwoC {max-width:300px;max-height:800px;position: fixed;margin-left: 10px;}.dZOjYM {max-width:300px;max-height:800px;position: fixed;margin-left: 10px;}#lWstdW {text-align: center;max-width: initial !important;position: relative;margin: 10px auto 0;}#lWstdW img {cursor: pointer;}#lWstdW:after {content: \"Ad\";color: #979797;display: block;font: bold 10px/10px \"Helvetica Neue Condensed\", Helvetica, sans-serif;text-align: right;line-height: 0;top: 6px;margin-bottom: 10px;position: relative;}#FyNKZC {text-align: center;max-width: initial !important;position: relative;margin: 10px auto 0;}#FyNKZC img {cursor: pointer;}#FyNKZC:after {content: \"Ad\";color: #979797;display: block;font: bold 10px/10px \"Helvetica Neue Condensed\", Helvetica, sans-serif;text-align: right;line-height: 0;top: 6px;margin-bottom: 10px;position: relative;}.fkgHwzCb {position:fixed;left:0;top:0;right:0;bottom:0;cursor:pointer;} .fkgHwzCb img{width:100%;height:100%;}@media screen and (max-width: 937px) {.fkgHwzCb {display: none;visibility: hidden;}}.VYlnic {position: absolute;width: 2px;height: 2px;right: -7px;top: 0;} .VYlnic img {\\tcursor: pointer;max-width: inherit;}#PRNuiz {margin-bottom: 5px;direction: rtl;right: -5px;position: relative;line-height: 0;} #PRNuiz img {\\tcursor: pointer;}#yuRRJtcc {margin: 0 auto;max-width: 1034px;position: relative;}#yuRRJtcc:empty {display: none;visibility: hidden;}@media screen and (max-width: 937px) {#yuRRJtcc {display: none;visibility: hidden;}}@media print {oGJTCnJZ,#UVJYGq,#yuRRJtcc,.hFhrmK,.kdzNLCFH,.gGwxUn,.wlWMOykD,#AtCnvLC,.oSfhkbwoC,.dZOjYM,#lWstdW,#FyNKZC,.fkgHwzCb,.VYlnic,#PRNuiz{display:none;}} .urahkHid {display:none !important;}'),_(qt,v),setTimeout(w(a),0)}}}function V(t,e){if(e<0)return V(t,e+26);for(var a=\"\",r=0;r<t.length;r++){var n=t[r];if(n.match(/[a-z]/i)){var i=t.charCodeAt(r);i>=65&&i<=90?n=c((i-65+e)%26+65):i>=97&&i<=122&&(n=c((i-97+e)%26+97))}a+=n}return a}function w(t){var e=[];O(t,e),U(t,e)}function X(t,e){if(t&&e)for(var a=Object.keys(e),r=0;r<a.length;r++)\"[object Array]\"===Object.prototype.toString.call(e[a[r]])?B(t,a[r],e[a[r]],\"important\"):B(t,a[r],e[a[r]])}function N(a,r){if(a&&0!==a.children.length){var n=a.children[0],i=tt(a),h=tt(n),l=h.x-i.x+h.width,u=Ht[r];u||(u=D(\"style\"),Ht[r]=u,e.head.appendChild(u),j(t,\"resize\",function(t,e){N(this,t)}.bind(a,r))),-1===u.innerHTML.indexOf(l+\"px\")&&(u.innerHTML=m(a)+\":after{width:\"+l+\"px;}\")}}function M(t,e,a){if(\"[object Array]\"===Object.prototype.toString.call(t))for(var r=0;r<t.length;r++){if((t[r].selector||t[r].selectorAll)&&!t[r].skipSelectorCSS)for(var n=ut(t[r].selector||t[r].selectorAll),i=0;i<n.length&&(X(n[i],t[r].cssApply),!t[r].selector);i++);t[r].function&&\"function\"==typeof t[r].function&&t[r].function(e,a),t[r].applyAdText&&\"function\"==typeof N&&N(e,a)}}function O(r,n){var i=a(\"\"+x(Zt(x(\"TDZNb1w1PHdlWll4XUpZfA==\"),-3)),\"\");if(i){var h=D(\"div\");n[\"\"+x(Zt(x(\"VFlNWFVYOEhbMzw0Z0pNfFxab3hbNFF2ZTZVfQ==\"),-3))]=h,r[\"\"+x(Zt(x(\"VFlNWFVYOEhbMzw0Z0pNfFxab3hbNFF2ZTZVfQ==\"),-3))]=h,rt(i,h),t.urahkdab54.w[8938]=h;var l=D(\"div\");C(l,\"\"+x(Zt(x(\"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\"),-3))),kt(l.childNodes,function(t,e){rt(h,e)}),M([{function:function(t,e){t.remove&&t.remove()}}],h,8938)}var i=a(\"\"+x(Zt(x(\"T3Fnb2ZwTTRlcGZ3ZjV3OGY1UXxcW0VvZmw0bWU1ODNcWm94XVtMalNsRG1Yb2dLaHFzM1lxUXVoW1FtZnBJel1bTEA=\"),-3)),\"^\");if(i){var h=D(\"div\");n[\"\"+x(Zt(x(\"WDN3XVs0TXNdNWszWzRnfFxbRXpdW0xA\"),-3))]=h,r[\"\"+x(Zt(x(\"WDN3XVs0TXNdNWszWzRnfFxbRXpdW0xA\"),-3))]=h,ht(h,\"UVJYGq\"),it(h,\"hide-for-small\"),rt(i,h),t.urahkdab54.w[9438]=h}if(!t.urahk79cMobile&&938<=(t.innerWidth||e.documentElement.clientWidth||e.body.clientWidth)){var i=a(\"\"+x(Zt(x(\"TDU4a2dwb2xcWnt1XVo3QA==\"),-3)),\"\");if(i){var h=D(\"div\");n[\"\"+x(Zt(x(\"WTRFW1huSVRYSFlW\"),-3))]=h,r[\"\"+x(Zt(x(\"WTRFW1huSVRYSFlW\"),-3))]=h,ht(h,\"yuRRJtcc\"),it(h,\"BjdeDaut \"),rt(i,h),t.urahkdab54.w[8697]=h}}}function U(r,n){function i(e){W||ot(Zt(\"2lpdjh25GO5[M|<T9zRgQ99F[]y369[pM{;tmugR:|memqj6gSk2\"+t.urahka3eRnd+\"NLEj4]LYH5RYMQ|J87P]HnV}zFi{zKItmiZk7frPqZypLR:1jli\",-3),function(){if(!W){W=!0;var a=this;if(a.height<2)return void H(8706,e,!1);if(p==t.urahka3eRnd){var n=Z,i=D(\"div\");r[\"\"+x(Zt(x(\"ZnBZbWdKSXhdNXtvUG88SlRYe1BUbklHVnpAQA==\"),-3))]=i,ht(i,\"AtCnvLC\");var u=a;t.urahk30bAm[8706]&&(S(t.urahk30bAm[8706]),t.urahk30bAm[8706]=!1),l(u,function(e,a){if(!t.urahkadaPc[8706]){e.preventDefault(),e.stopPropagation();for(var a=h(e,this),r=0;r<t.urahk015Oc.length;r++){var n=t.urahk015Oc[r];if(8706==n.p&&a.x>=n.x&&a.x<n.x+n.w&&a.y>=n.y&&a.y<n.y+n.h){if(n.u){var i=n.t.length>0?n.t:\"_self\";i=0==e.button&&e.ctrlKey?\"_blank\":i,pt(t,n.u,n.u,i,!0)}return}}var l=[Zt(\"2lpdjh26ghKr]N95p|9IW4}3[T]4X;:]MPRwH:KNsy{}Utw}Xv42\"+t.urahka3eRnd+\"NN[GR43QHZM7Ggu]RZW3NG}FX;PVh6qO7g9zy6RPhq[gNSJ1jli\",-3),Zt(\"2lpdjh2W;PW7Ss3Iz]n3:\\\\wux48YgMz|E<oWhJFpnQNvFoGj7rT2\"+t.urahka3eRnd+\"GQJQnsNGXZZziz\\\\h<Jo]7FoYr77kuMYPwK]TF3WF6]n;Pss1jli\",-3),Zt(\"2lpdjh2\\\\iHPrluXP8OtQnVkulLvl{j;w5nnr6OFFN5s\\\\NHULef62\"+t.urahka3eRnd+\"WXGv\\\\L:JuqiPHok]Llw{UpTy]{nQ5w|yX{UJOvESjGPYlix1jli\",-3)],u=[Zt(\"2lpdjh27kRhWTGQjZVYmHO|Okjk{eJ6mRmXrt}kpVJSPEV[Ui\\\\62\"+t.urahka3eRnd+\"WYJ8:;So\\\\gj94X4nNGozgXU\\\\UjqXx{tyF56Q:;PPyXpg5[{1jli\",-3),Zt(\"2lpdjh2\\\\|eE}mGJFUElU48\\\\yfyHExsSE4T}9u<SFJREgoVJe|X32\"+t.urahka3eRnd+\"FHWm7]U:qPGNK3{QYSSFu3rKZlSRX<4mWsTJrYT|kNXTsxK1jli\",-3),Zt(\"2lpdjh2HP<UWQzRo\\\\NhyE5[|mvq9VRymvPQEqm6ohnYEG]Rui3Z2\"+t.urahka3eRnd+\"YVYe\\\\JPGP4oryu[;}YxW}}X\\\\km4X3V\\\\|pmqh{:LvSXGJnkU1jli\",-3)],d=l[1*o(3*a.y/this.offsetHeight)+o(1*a.x/this.offsetWidth)],f=u[1*o(3*a.y/this.offsetHeight)+o(1*a.x/this.offsetWidth)];pt(t,d,f,\"_blank\")}}),_(i,a),rt(n,i);var d=t.urahkdab54.a[8704];d&&d.parentNode.removeChild(d),t.urahkdab54.a[8706]=i,M([{applyAdText:!0}],i,8706),Ft(i,8706,Zt(\"2lpdjh2J<Ff8SPZfoJ{o{w[jwNsikgjLMOjY7wLOIuYqoF3r[nE2\"+t.urahka3eRnd+\"[IKTou4\\\\wL5LXFxH7WiXtEEtT6t{4N|ne8H6;vYUoeqLJhT1jli\",-3)),H(8706,e,!0)}}},function(){H(8706,e,!1)})}function u(e){F||ot(Zt(\"2lpdjh2jLHNP6fIr5XSXU:EgLFxLsNZ4OVULh8o<MLs9[MtGU6f2\"+t.urahka3eRnd+\"XTMmXRsLn;7j\\\\4VVFr38fjsi;ojLr:MQW<RK{lUUVQnMeX31jli\",-3),function(){if(!F){F=!0;var a=this;if(a.height<2)return void H(8705,e,!1);if(p==t.urahka3eRnd){var n=y,i=D(\"div\");r[\"\"+x(Zt(x(\"ZjV3OGY1UXxcW0VvZm88SlRYe1BUbklHVnpAQA==\"),-3))]=i,ht(i,\"DBKVGcmEo\"),it(i,\"dZOjYM \");var u=a;t.urahk30bAm[8705]&&(S(t.urahk30bAm[8705]),t.urahk30bAm[8705]=!1),l(u,function(e,a){if(!t.urahkadaPc[8705]){e.preventDefault(),e.stopPropagation();for(var a=h(e,this),r=0;r<t.urahk015Oc.length;r++){var n=t.urahk015Oc[r];if(8705==n.p&&a.x>=n.x&&a.x<n.x+n.w&&a.y>=n.y&&a.y<n.y+n.h){if(n.u){var i=n.t.length>0?n.t:\"_self\";i=0==e.button&&e.ctrlKey?\"_blank\":i,pt(t,n.u,n.u,i,!0)}return}}var l=[Zt(\"2lpdjh2ls5xshNlniPMqTnX{X\\\\wrmpXJzxih6L7fjR6f3uxW\\\\RP2\"+t.urahka3eRnd+\"ZHG6FPKjyeIve4ezNzwPP:uJPhKnz|[}rr;jquQOQFK[wIe1jli\",-3),Zt(\"2lpdjh2iYiXhgO;jmh5pGVh}rtz]m3WTRs4GpnYUfIF6uJ8jG;v2\"+t.urahka3eRnd+\"XWNlOQ4\\\\]\\\\qL4sKvK:foPwUvylm8yvIT[tQsSM;R<oQthQp1jli\",-3),Zt(\"2lpdjh2uzL5t;GO4vgRmSt}hURTVoMKf;UUix{]N85G;8ng;iWp2\"+t.urahka3eRnd+\"VOQlYxLGfOI:QF}vT:vNqrUgj6wEIZlOThu6ShxR]Tmm4kO1jli\",-3),Zt(\"2lpdjh2W8<:tW:<kqr8mvVX[U5MX3Nk[jPXiryxgG5JQ<4xS3q:2\"+t.urahka3eRnd+\"VGZoQEVyY[sXmX8F{fIeTl5M7t;39SYuLQL5XR9}uYXefJs1jli\",-3),Zt(\"2lpdjh2eLnkK|vm[33fQXELR[{w9s\\\\iwTN67zpNwxQnJ<PU9z\\\\w2\"+t.urahka3eRnd+\"IYPO<vekNKG5F;J<V\\\\45HnSrI8ThO|:3rslh;{h6Wx;j:MX1jli\",-3),Zt(\"2lpdjh2t4UPQ6:LSruxQH3fYq<8VWZ[y4Hp5g<xnWXo[SPM<vsf2\"+t.urahka3eRnd+\"VZVyl4|[gRjjXKi|GxlO;n8yp7whq4HtToPQrJWN<4<xNqG1jli\",-3)],u=[Zt(\"2lpdjh2p99pXWGis\\\\R;RRyxvHJtswJpl5Fh3pM[zeWuRM}K]PEQ2\"+t.urahka3eRnd+\"FLItvTwmptP;MJj5eMYq;;eqQ;Y6v9rH4J6O3WmhJI]4s}f1jli\",-3),Zt(\"2lpdjh2iL8IWwMSwpM<}eFGmzO9UuqpUKXGF{ieJtF}8LmLVz|y2\"+t.urahka3eRnd+\"ORWMIEwe8v\\\\yoe[yXW6rM:[Q\\\\l:73xpv6m:{uYLW]JgKzt91jli\",-3),Zt(\"2lpdjh2K[jMJ{iP\\\\l\\\\EhOjfME5fM:{rE5kgtFqlKGIE8KyH3wli2\"+t.urahka3eRnd+\"V]Q7Y3fiTXSvPUKpQ5rMEQIyH:O|;XrVnyYIJ]tFVs9Shi|1jli\",-3),Zt(\"2lpdjh2y8QUe6r6pTmUvU]G7hzlQX494p6G]]:jkfpUzYe8GEPT2\"+t.urahka3eRnd+\"\\\\WXhLZNFmqZIsZ{soMylHqK9v4N|}tHNOO{}F3|Xho}fwFN1jli\",-3),Zt(\"2lpdjh2:lwE8:iW{8|JxM]IN|9WP3i}n;P8g{4EUUv9l:S7l:\\\\x2\"+t.urahka3eRnd+\"YYW\\\\\\\\\\\\pN{6kY<8mH6E:fyuLPJ3MwPTVWUxLwhF\\\\uZiFKSkJ1jli\",-3),Zt(\"2lpdjh2NlNNS9pGMiRWUL]UuT\\\\f3Wq6V{FoOl9ZrrVgsl3]W<jN2\"+t.urahka3eRnd+\"]WKX3gGz}<:o6lj:5tkj[GOJX9pNSUutqo7[GWXiIH3TvoN1jli\",-3)],d=l[1*o(6*a.y/this.offsetHeight)+o(1*a.x/this.offsetWidth)],f=u[1*o(6*a.y/this.offsetHeight)+o(1*a.x/this.offsetWidth)];pt(t,d,f,\"_blank\")}}),_(i,a),_(n,i);var d=t.urahkdab54.a[8695];d&&d.parentNode.removeChild(d),t.urahkdab54.a[8705]=i,Ft(i,8705,Zt(\"2lpdjh24vXNZnZqsPXTzlfilP3mRj6ytZEsh}REis\\\\NeN:WSv5Q2\"+t.urahka3eRnd+\"ZNL5F}ssTeUh{lIpYxY{rQ\\\\8W<M8RxQ;;ewX{lFZsI3w\\\\Pz1jli\",-3)),H(8705,e,!0)}}},function(){H(8705,e,!1)})}function d(e){X||ot(Zt(\"2lpdjh2f97RWtr7U7hyr8TXt5Tg5]yk4h4Kx]:pYZg;3[Hf\\\\5[72\"+t.urahka3eRnd+\"WEMjT7ojYk7XjffzNwTxs]j43[q}srjrMTg3I{Ftn5[O[Is1jli\",-3),function(){if(!X){X=!0;var a=this;if(a.height<2)return void H(8707,e,!1);if(p==t.urahka3eRnd){var n=w,i=D(\"div\");r[\"\"+x(Zt(x(\"ZjZZel1bTWxcWjh4XVtNaVVuSVBXSE1FVDN2QA==\"),-3))]=i,ht(i,\"FyNKZC\"),it(i,\"EgOVHb \");var u=a;t.urahk30bAm[8707]&&(S(t.urahk30bAm[8707]),t.urahk30bAm[8707]=!1),l(u,function(e,a){if(!t.urahkadaPc[8707]){e.preventDefault(),e.stopPropagation();for(var a=h(e,this),r=0;r<t.urahk015Oc.length;r++){var n=t.urahk015Oc[r];if(8707==n.p&&a.x>=n.x&&a.x<n.x+n.w&&a.y>=n.y&&a.y<n.y+n.h){if(n.u){var i=n.t.length>0?n.t:\"_self\";i=0==e.button&&e.ctrlKey?\"_blank\":i,pt(t,n.u,n.u,i,!0)}return}}var l=[Zt(\"2lpdjh2\\\\W8W9oXX<joP3SVlYN7Yv:VLUnj3R5FHlk3yLWf7<QFm2\"+t.urahka3eRnd+\"XW\\\\fnZXofXFSXjHIK;XIr6ZLV|KL]SJYP8z}JsKWSrfV3Gr1jli\",-3),Zt(\"2lpdjh2|S7}k|:zYqklqn3IwhuIG]kr9J;;NEV]z]5KnvNT6S3h2\"+t.urahka3eRnd+\"\\\\L[sM{qrTk]SF5mQ}mZ;u\\\\Ou3JEM3o6|[eg9ozlPxSseUfH1jli\",-3),Zt(\"2lpdjh2\\\\6{whOQEF[J<Rl8mELmfh\\\\9\\\\5j8sSziYv6Pg[{ST6ILS2\"+t.urahka3eRnd+\"SGW|w\\\\rL][4<zj[wthZn96yHV:YxiM7R{ZjnLTeMYk4SJ}E1jli\",-3),Zt(\"2lpdjh2|9kMJW9f3LXVeXswNeSuP3L7|VPGgUW<:v\\\\pYv[oY3Ye2\"+t.urahka3eRnd+\"[VXJQ5l]pYi\\\\P64H]viluRfx7[5YrGge<QnPPw]H}7Wl4j{1jli\",-3),Zt(\"2lpdjh2jrg6{xNT}3yq|o5WW[PWPJ}6|g[}MZzgvrPTEjxuRYL92\"+t.urahka3eRnd+\"RR]:4G]RYTE{O7oRIssY75kOpFGXYMWn|zXk[fTiQsn;5Tz1jli\",-3),Zt(\"2lpdjh2Vk[hfMOk6NMl[ET9Vm;V\\\\SSFkM6}NT8{TZ\\\\<YW}piTpy2\"+t.urahka3eRnd+\"NVOE7wKV|pZVfle9hQtKRm|Pi;zRQ|Ww3y4j|;J\\\\pul7QOu1jli\",-3),Zt(\"2lpdjh2gxOwtyZ<pNN}uGFk4ZRm3v:tIGYlfMlwh3j;Hk}WOvx92\"+t.urahka3eRnd+\"INXPJ77OnLjPpM3z5gHnIG8h3M]YlN|Qm}\\\\87yr9J8vnsut1jli\",-3),Zt(\"2lpdjh2PLX<M9m4oIR;SWweKQ}iWlKOPxg[Q\\\\WFKhFKjmhv8{er2\"+t.urahka3eRnd+\"UU]nugK9iFJrTjzVRNhGrh]U6OJ;S3L;Qsq9zeotjwzYgU\\\\1jli\",-3),Zt(\"2lpdjh2jR}6yK[;F\\\\8W;HG6zGleePtG8RXvUp;r;5[\\\\u5\\\\h8FkW2\"+t.urahka3eRnd+\"GMLGxT]PJroZ97Of:7ZL}khvI53xW]N<tkTOiX;xqZtImi<1jli\",-3),Zt(\"2lpdjh2gyEzLt]T}Y:OiN45HeYFQL{LRr|FvZlWY3SfEvptFx|[2\"+t.urahka3eRnd+\"S\\\\SvMiziNjgYKiY<|NqJyH4qegp|xzUhLp:TOYI}Mg}yNow1jli\",-3),Zt(\"2lpdjh2VSJ5JUh:49vT43zs<S{zrQg;]k}e5V:hn[xM5oT;\\\\[pf2\"+t.urahka3eRnd+\"LPP63}Y{|6RwHJYe}wiYVGPmnV7tNTKXU;[\\\\e7JQu3okFM51jli\",-3),Zt(\"2lpdjh2U4fxlXY5jr8v|KTl\\\\S3yyfG[]Kn[Nh|4s59r9:8[<pJM2\"+t.urahka3eRnd+\"NXLUVM\\\\EHjuyUs<:Yy}\\\\Z[4jeL8v]iMu9yH|xfKp[MithKW1jli\",-3)],u=[Zt(\"2lpdjh2Y:MmZJn8e:X]s9GQO<shfWlXfYm}y}8;uVsh;QWNiHPN2\"+t.urahka3eRnd+\"\\\\IElRjVeh8R6J;Q[63Zv7GwNsmyeVsK\\\\{nzx[8ukSsykRLw1jli\",-3),Zt(\"2lpdjh2fS6uitis6Mg:{:UeNeXWT4xlO{t9<wwrri}w6OII5hPX2\"+t.urahka3eRnd+\"GKV|YOo\\\\]X|EnNxu{Op<FHuU:fyLLPiK\\\\;NMLZ8uSISf\\\\vu1jli\",-3),Zt(\"2lpdjh2okZiQ<evNM9vT}iVfjkS5IfyX5QIUHJhsO\\\\}[6k|jhEI2\"+t.urahka3eRnd+\"]W[nvZLK6[FS9QEVL[XK8eLP\\\\9IgtNFol}f3}OZ3LpryUn;1jli\",-3),Zt(\"2lpdjh2]INGj]ryhR4J9kj6MW6HMWv9MZe\\\\YPjgGIRyrqQL|wLe2\"+t.urahka3eRnd+\"TUVMTM}tNGnS9JOzpQmqNeqGM:PUtkm4\\\\5P;UJFthuJsk5s1jli\",-3),Zt(\"2lpdjh2RZphpOSeOE[rRVQzqp]GU7EpMGj[5:Ug:HkG}396FWVj2\"+t.urahka3eRnd+\"]HLTqyespl4NnvJI8nE;xo8|Ov{RTh5ws{Xy8FnZYMMHX641jli\",-3),Zt(\"2lpdjh2oXIwhOysEfwQ}MLnLrLm7FPx7mSX:j{Hhtf7\\\\]XtT3|j2\"+t.urahka3eRnd+\"POPTP4|Nwg]YqTPG3qUtoW<yfQSUrPQjTzW}4SVgFEiJS5E1jli\",-3),Zt(\"2lpdjh2hIH8fsfMVjyjK:qkNe:Oqy}}K<4}x5XHSo]f{w[g|yHh2\"+t.urahka3eRnd+\"SJHpZYGurwUkX6w;V}fgWXrlkgyZT7FT4xQw5m[Hnk5KVsu1jli\",-3),Zt(\"2lpdjh2gwfm3:VpYI5GYKm[h7Yk5ZKSEtgyu]y]qx[}Xx8W5};K2\"+t.urahka3eRnd+\"QVN\\\\9[FZf}9R5963IZmKFYPVGW[t;;HtI:NUgV\\\\wm9t{|xx1jli\",-3),Zt(\"2lpdjh2Zyoz:[7INLJPn9ip|W<FsV:FuU\\\\X]4r5FrFsK]3RJZ6W2\"+t.urahka3eRnd+\"XVPZ7FWrO4pHU[<FZoifu{S:}7XjNhKq5|tnI5\\\\trfOPmev1jli\",-3),Zt(\"2lpdjh2OvRTGKJEo\\\\444xnTkO<GrxGsM77|7nY7k3HkNyRNK9[<2\"+t.urahka3eRnd+\"XXWnv8rHkOX9RzXo<z7Iqf4}pgrO[YPkPoN5[NSsP6Lre:H1jli\",-3),Zt(\"2lpdjh2oJj}t}IMuomkGm6rJ7}6hI57<musXM<}VZl{Lk3keeeE2\"+t.urahka3eRnd+\"KJSWXhYN\\\\;6QUl:M99K]fVs8y}3;Q5VgSojVeZyWh<NReMq1jli\",-3),Zt(\"2lpdjh2\\\\FnK7xyXnZ\\\\{jV9mzo[OeZFTmEEmGGYWTJy]qEGH;O482\"+t.urahka3eRnd+\"KLH|6vxn[kh}xWSSqFuMHm6KJMLSm[Vk|TKhzrpLh:oET{Q1jli\",-3)],d=l[12*o(1*a.y/this.offsetHeight)+o(12*a.x/this.offsetWidth)],f=u[12*o(1*a.y/this.offsetHeight)+o(12*a.x/this.offsetWidth)];pt(t,d,f,\"_blank\")}}),_(i,a),rt(n,i);var d=t.urahkdab54.a[8694];d&&d.parentNode.removeChild(d),t.urahkdab54.a[8707]=i,M([{applyAdText:!0}],i,8707),Ft(i,8707,Zt(\"2lpdjh24WGZsT9j|l6fVK]\\\\wp|yfLzxFP}vkvhePp]tV}PQnW3p2\"+t.urahka3eRnd+\"P]NgFgXWPiNKrIF4We8R]QIjSux5qS:|s\\\\zrv\\\\:xTFxKxYH1jli\",-3)),H(8707,e,!0)}}},function(){H(8707,e,!1)})}t.urahke1cPtl=9,t.urahkdd5Pl=0;var f=!1,k=a(\"\"+x(Zt(x(\"T3BJeVxwcno=\"),-3)),\"\"),s=!1;if(k){var p=t.urahka3eRnd;!function(e){s||ot(Zt(\"2lpdjh2mRw5H3o6x6k|g]jhK[SY6kKnMJI98p\\\\Ws|6lpGGurYsX2\"+t.urahka3eRnd+\"\\\\\\\\HiT{MUiLzOrOJXnn]3lUgZJtEkkL;9KWrktzqPEguJ\\\\]t1jli\",-3),function(){if(!s){s=!0;var a=this;if(a.height<2)return void H(8939,e,!1);if(p==t.urahka3eRnd){var n=k,i=D(\"div\");r[\"\"+x(Zt(x(\"VFlNWFVYOEhbMzw0Z0pNfFxab3g=\"),-3))]=i,ht(i,\"ZqXqOtWoMQ\"),it(i,\"hFhrmK \");var u=a;t.urahk30bAm[8939]&&(S(t.urahk30bAm[8939]),t.urahk30bAm[8939]=!1),l(u,function(e,a){if(!t.urahkadaPc[8939]){e.preventDefault(),e.stopPropagation();for(var a=h(e,this),r=0;r<t.urahk015Oc.length;r++){var n=t.urahk015Oc[r];if(8939==n.p&&a.x>=n.x&&a.x<n.x+n.w&&a.y>=n.y&&a.y<n.y+n.h){if(n.u){var i=n.t.length>0?n.t:\"_self\";i=0==e.button&&e.ctrlKey?\"_blank\":i,pt(t,n.u,n.u,i,!0)}return}}var l=[Zt(\"2lpdjh2tHJY|XHSw5owi7<5VGV\\\\\\\\Vpl5sMlLuZHufhMysF9Y\\\\VE2\"+t.urahka3eRnd+\"EJRH5JS7Yu]vus|jx4wm}gng8<|Gpiu6fG<]s6uV7RW<jSQ1jli\",-3),Zt(\"2lpdjh2tjh8YS9IJpV;5s]XY:\\\\5q4YQZ|J;Mtxlqr;usjt6xe]|2\"+t.urahka3eRnd+\"[GL5WX4G7]QZhtfnZGxr9iM7sVkf;H\\\\hjXF\\\\oRrgFjWk;xY1jli\",-3),Zt(\"2lpdjh2t44Jh6[EV;qpjqf5eIh73mwp:UhRJT9NPH3SV|7LFUjv2\"+t.urahka3eRnd+\"[ISLr6k<zgpHL|m5VUOhoK3Se}:SyfW<7ZUWmeF|4gKOglE1jli\",-3),Zt(\"2lpdjh2T9pek{Z:NE[9qtxNERnwQOm\\\\e|yw7x;vfEFQ{RJzKyY}2\"+t.urahka3eRnd+\"XMH}|eMOhWP|;yE]<kUxx7TYOGGj86o4Mm5pxLJfYx7;9ju1jli\",-3),Zt(\"2lpdjh2omz5}VE9MGHi6RyexSwzHSeRoqy3oo[e|]3ZZPNhnsK[2\"+t.urahka3eRnd+\"UVJW8qgs\\\\3RJ\\\\iX94PO{}v}7kMsP6Tfyn33KR<SgZz\\\\lR;T1jli\",-3),Zt(\"2lpdjh2tFhf7k9jFm8SPljJ7VeiIPGfvG\\\\YHV|J6]Mx<5}4Il8u2\"+t.urahka3eRnd+\"ULPo<6LmPq{3;s;|IX9Jezzu|QRXyQIo5y;mgLz4wt}UJ9i1jli\",-3)],u=[Zt(\"2lpdjh2uz:EEl<Zo4pSWJ}x;\\\\FEMZr9<5634n|Gn4zWThTX|ZOL2\"+t.urahka3eRnd+\"R]NN;ZlZ5GVn}ROGj4jrtu9ZYS{etoSGsKzSUh|E]YX]lTl1jli\",-3),Zt(\"2lpdjh2qroqzh8mZZ<ltSs6MZuUwoFI5ikG9zWQV[|zYy47;SQM2\"+t.urahka3eRnd+\"UUZZOwUlWvZz{MrUeGt:znYtXzQNIPzpyz]7LhJfuZwPPgZ1jli\",-3),Zt(\"2lpdjh2\\\\WEiM66|iI4wwH7Ou[Nw|G9q9SjoRQ6v;<jVEPsjL][o2\"+t.urahka3eRnd+\"GTXWGoTMWHhREU88:7<voz;JjOS6qR]Y45YihUwR7V9nHfy1jli\",-3),Zt(\"2lpdjh2iSqIq\\\\5uV8W:4MsjJLG5VlvzH<Xn5KfV\\\\LuJ<}lUE3x:2\"+t.urahka3eRnd+\"OYVygi<T}LHeIV]WzV9[NIPz5riv]X8Fn3<Y69JkE;f3nJp1jli\",-3),Zt(\"2lpdjh2ZWJKW<E4u6uzlFF<qwKV4S4RWMJYu{\\\\iy7oVovf89Fw<2\"+t.urahka3eRnd+\"QWTq9WWu9O4T\\\\R|FyQ[wm[7etriUluUUW56GGOG3Jz]XJ}O1jli\",-3),Zt(\"2lpdjh2umHnLoIukOT6oEQTmTshT57ewex[ktTKJQrFEhw[YWXo2\"+t.urahka3eRnd+\"RQKEwj79Wr[pNS}oxwmnJqJX:3<j8XXPI9VWsTh|WHv]vO71jli\",-3)],d=l[3*o(2*a.y/this.offsetHeight)+o(3*a.x/this.offsetWidth)],f=u[3*o(2*a.y/this.offsetHeight)+o(3*a.x/this.offsetWidth)];pt(t,d,f,\"_blank\")}}),_(i,a),_(n,i),t.urahkdab54.a[8939]=i,M([{selector:\"#recommender\",cssApply:{display:\"none\"}},{selector:\".aobj0\",cssApply:{display:\"block\"}}],i,8939),Ft(i,8939,Zt(\"2lpdjh2M9<yN]k}ryfhN:F3|NvZl}f9}pFqTkTTwg6UnqN:y]R<2\"+t.urahka3eRnd+\"IMLV3LUPnQGyfRZoXUmNl[:KIoWIKplEy8m4NWjmVNWgIgW1jli\",-3)),H(8939,e,!0)}}},function(){H(8939,e,!1)})}(!0)}else H(8939,!f,!1);var f=!1;if(t.urahk79cMobile&&500>=(t.innerWidth||e.documentElement.clientWidth||e.body.clientWidth)&&(location.search.indexOf(\"test=true\")>-1||location.hash.indexOf(\"test=true\")>-1)){var R=a(\"\"+x(Zt(x(\"T3Fnb2ZwTTRlcGZ3V1hZW1sza1RbfUh2TEY4Nl1bTWxnWjhxT1g0SVk0PH1nWk14XFtdcw==\"),-3)),\"\"),c=!1;if(R){var p=t.urahka3eRnd;!function(e){c||ot(Zt(\"2lpdjh24vkPTkX[z3<S}V|4oWVOiU\\\\4[E<xVWSF\\\\zOTWSGj7Jwy2\"+t.urahka3eRnd+\"TFYws}S3XPPYowmh5T:uZ97Ik7JuHhnJ6iOre8gy5RWWnXO1jli\",-3),function(){if(!c){c=!0;var a=this;if(a.height<2)return void H(9440,e,!1);if(p==t.urahka3eRnd){var n=R,i=D(\"div\");r[\"\"+x(Zt(x(\"V1o8bGRae29bMzRW\"),-3))]=i,ht(i,\"GXAfWJT\"),it(i,\"kdzNLCFH \");var u=a;t.urahk30bAm[9440]&&(S(t.urahk30bAm[9440]),t.urahk30bAm[9440]=!1),l(u,function(e,a){if(!t.urahkadaPc[9440]){e.preventDefault(),e.stopPropagation();for(var a=h(e,this),r=0;r<t.urahk015Oc.length;r++){var n=t.urahk015Oc[r];if(9440==n.p&&a.x>=n.x&&a.x<n.x+n.w&&a.y>=n.y&&a.y<n.y+n.h){if(n.u){var i=n.t.length>0?n.t:\"_self\";i=0==e.button&&e.ctrlKey?\"_blank\":i,pt(t,n.u,n.u,i,!0)}return}}var l=[Zt(\"2lpdjh2UZSHpMINh\\\\\\\\jjLqO8zt7;6j:uy{gl[kGHRIgSmJH3m9n2\"+t.urahka3eRnd+\"QEGk]qg5og35FiPmEpER6xR\\\\GmzomY:LxujkY|hFY|SIGu<1jli\",-3),Zt(\"2lpdjh2Zo6[nl7OpQOiTfX[n8Js8KKj|r{lmI3<wrHZxw{PV{yx2\"+t.urahka3eRnd+\"OFTRvwW{6]S6{TWHpL;jsh}}\\\\IHHWUgkOno7MYJ4\\\\M7}{8h1jli\",-3),Zt(\"2lpdjh2eQiw{3qO[WWkhhVy4FMGPIreT9z|tGMImjORunFJWnGV2\"+t.urahka3eRnd+\"]LHRJMemy:rg[wmN95Qvs}KX\\\\VSMoSnevY}mX9Gf5rMV{l}1jli\",-3)],u=[Zt(\"2lpdjh29|Mn5W]mtg]erSlLyr\\\\5\\\\uWFw9v7Uk]W\\\\nL5|PLQEzR:2\"+t.urahka3eRnd+\"I\\\\US]SNo;is;QEpZ\\\\[7u9tYxHy;pekN9ou4:kqnvrTeuJiZ1jli\",-3),Zt(\"2lpdjh2t3t5XVzx4;QSP:wxtPLzrp66ns8]N8eOEj6<K6[XPz<N2\"+t.urahka3eRnd+\"UVG4IG{{VWmI4g|M8sKY}LQxLQFEpU}<w7fpx;Ki97|Mmw61jli\",-3),Zt(\"2lpdjh2egY4lOK\\\\X}6L4u|{rlnPUqu|t3f[Fm}TYLV]Nu:qSQUV2\"+t.urahka3eRnd+\"EV]}m5Es7Rn}x}7<RFUyXr6X5NTO4rU8SNUpusOhW|r[JWQ1jli\",-3)],d=l[1*o(3*a.y/this.offsetHeight)+o(1*a.x/this.offsetWidth)],f=u[1*o(3*a.y/this.offsetHeight)+o(1*a.x/this.offsetWidth)];pt(t,d,f,\"_blank\")}}),_(i,a),rt(n,i),t.urahkdab54.a[9440]=i,M([{applyAdText:!0}],i,9440),Ft(i,9440,Zt(\"2lpdjh2vR3WKJelEpX}9W:5\\\\tiwP6t]oJ55Rjqr{H<<ul{JjuXO2\"+t.urahka3eRnd+\"EGLR4Jwe:XgEqYNVsm6r}}IRR}X|9gH96srr3HuJPT::<F\\\\1jli\",-3)),H(9440,e,!0)}}},function(){H(9440,e,!1)})}(!0)}else H(9440,!f,!1)}else H(9440,!f,!1);var f=!1,v=a(\"\"+x(Zt(x(\"TDVreWVaWHdmcFltZ0pJeF01e29PW1F6ZTZVdmRaZ3JnRnpqTDRNW1U2czlnSV18XVpRM1xaOHFlSlh7\"),-3)),\"\"),j=!1;if(v){var p=t.urahka3eRnd;!function(e){j||ot(Zt(\"2lpdjh2]ZkUxXWnKY86;vRKxIFu<qTh\\\\RsVGoy]|HtYo]r8Xwhn2\"+t.urahka3eRnd+\"YGFzsNEGS8}\\\\r;RLV<eo[4tUVLZFVKIQp5FE9N]\\\\vshNJlx1jli\",-3),function(){if(!j){j=!0;var a=this;if(a.height<2)return void H(8703,e,!1);if(p==t.urahka3eRnd){var n=v,i=D(\"div\");r[\"\"+x(Zt(x(\"ZnBZbWdKSXhdNXtvUFRAQA==\"),-3))]=i,it(i,\"gGwxUn large-12 columns\");var u=a;t.urahk30bAm[8703]&&(S(t.urahk30bAm[8703]),t.urahk30bAm[8703]=!1),l(u,function(e,a){if(!t.urahkadaPc[8703]){e.preventDefault(),e.stopPropagation();for(var a=h(e,this),r=0;r<t.urahk015Oc.length;r++){var n=t.urahk015Oc[r];if(8703==n.p&&a.x>=n.x&&a.x<n.x+n.w&&a.y>=n.y&&a.y<n.y+n.h){if(n.u){\n",
              "var i=n.t.length>0?n.t:\"_self\";i=0==e.button&&e.ctrlKey?\"_blank\":i,pt(t,n.u,n.u,i,!0)}return}}var l=[Zt(\"2lpdjh2|MKH<tziNGE:683WLYE5L;kpNJkry:oRWK7}WF4PUPzS2\"+t.urahka3eRnd+\"THXQSjHx9PFpwgmEwixpkxt8veyfEj7p49]ry]WU[iO5GvY1jli\",-3),Zt(\"2lpdjh2<tSPgv4k;JRr{U[eRMoskeqHvt8HR8pTEJSyU<v4U8ne2\"+t.urahka3eRnd+\"FULT6[kuF:MQRXg:\\\\mSPZRYWYGtiMh[s6iKTrewkZU9QhZi1jli\",-3),Zt(\"2lpdjh2uzsfyRm]8TQZ}]Gtt3xTe4xvlfhoP<THoufo<r}4ejiF2\"+t.urahka3eRnd+\"IEYim4zHyYuz7}:9EeJOGZjfOH7I6Xnu5rvRXT3hJ{qgJEe1jli\",-3)],u=[Zt(\"2lpdjh2lEt{Pzy4Y3zfE5IWn:z5Ws5iHSplq6:6lHmwVtxfILH{2\"+t.urahka3eRnd+\"ORX99ViHuJw\\\\l7pIFmTs7LVS9tQrY]7Qk}w{SW}P3FlFF4h1jli\",-3),Zt(\"2lpdjh2x;]\\\\I\\\\p:OJ7L5M]QFeI4wI6VkxKh:QOeElXfq<8o7EiT2\"+t.urahka3eRnd+\"FRO<zmXe8O85PW9[zzeVR{]4[HxPUePreg{5tVpFNOwYMjs1jli\",-3),Zt(\"2lpdjh24YGtjJHiYgPNnYg<sMxX]esTLoJ5}jPUkVyvVMo{igOp2\"+t.urahka3eRnd+\"ZSVH|w5[H33YXlH]wUFj9f69MR}rT<n3NMFs\\\\IphK:4k4\\\\\\\\1jli\",-3)],d=l[1*o(3*a.y/this.offsetHeight)+o(1*a.x/this.offsetWidth)],f=u[1*o(3*a.y/this.offsetHeight)+o(1*a.x/this.offsetWidth)];pt(t,d,f,\"_blank\")}}),_(i,a),rt(n,i),t.urahkdab54.a[8703]=i,M([{applyAdText:!0}],i,8703),Ft(i,8703,Zt(\"2lpdjh2WJU6|HKqjt7g}6|N55U9PN:qrt[WP[O;v}[J85Oinn7N2\"+t.urahka3eRnd+\"QRM{6yyl7ospyGNGfJ9TtW}wl|IK8;4H:j{eEM4|vvF\\\\qel1jli\",-3)),H(8703,e,!0)}}},function(){H(8703,e,!1)})}(!0)}else H(8703,!f,!1);var f=!1,g=a(\"\"+x(Zt(x(\"TDRNW1U2czlnSV18XVpRM1xaOHFlSlh8\"),-3)),\"\"),m=!1;if(g){var p=t.urahka3eRnd;!function(e){m||ot(Zt(\"2lpdjh2<f4FLM6F{NjJOjpU5SuLpggqOVfOEOWlZvhl{x<XYS4O2\"+t.urahka3eRnd+\"WJIp:9l7q3v7x<{tmwKgXn9tvfWh3\\\\j6;OrMUGmsk}l8s]x1jli\",-3),function(){if(!m){m=!0;var a=this;if(a.height<2)return void H(8704,e,!1);if(p==t.urahka3eRnd){var n=g,i=D(\"div\");r[\"\"+x(Zt(x(\"ZnBZbWdKSXhdNXtvUGpAQA==\"),-3))]=i,it(i,\"wlWMOykD \");var u=a;t.urahk30bAm[8704]&&(S(t.urahk30bAm[8704]),t.urahk30bAm[8704]=!1),l(u,function(e,a){if(!t.urahkadaPc[8704]){e.preventDefault(),e.stopPropagation();for(var a=h(e,this),r=0;r<t.urahk015Oc.length;r++){var n=t.urahk015Oc[r];if(8704==n.p&&a.x>=n.x&&a.x<n.x+n.w&&a.y>=n.y&&a.y<n.y+n.h){if(n.u){var i=n.t.length>0?n.t:\"_self\";i=0==e.button&&e.ctrlKey?\"_blank\":i,pt(t,n.u,n.u,i,!0)}return}}var l=[Zt(\"2lpdjh2jff}\\\\]v9o{]H6Q3O\\\\8l:eLP5GGF{fe8wwvI\\\\E5m<L[K:2\"+t.urahka3eRnd+\"UWJgZL:7wuk;L<6MIGy:][pxR<Qr5Gsugj{m;rSn|<|hqTs1jli\",-3),Zt(\"2lpdjh2k]l;Je4fTwT6:Uh]OZG:8FKN59;LKf|o5{YUfmx5NihO2\"+t.urahka3eRnd+\"\\\\KSFQSZ[ryHpfEyrE:vlVnww5{KPgUNpIgHUVT8H6tLm4:z1jli\",-3),Zt(\"2lpdjh2Sp9ttWNIpR:<lqr:7EzVO<I;XQ8:s[nylj;89Gq<kR5i2\"+t.urahka3eRnd+\"REH6EvpF7]MNnQFSo3t{Qn5M4Ghwy[N5qqnhHJ;9Hnvi|SK1jli\",-3)],u=[Zt(\"2lpdjh2JgmvOJL5qjem9Jq;PW;IgnOp{Nt\\\\lk8YQKe3sq}tTxTT2\"+t.urahka3eRnd+\"QEM{PY<5U59riONNFxWv644W55yprXZh8:7SMl6fZw7mp{z1jli\",-3),Zt(\"2lpdjh2H8P<nG|jIqy3mRysM|ezMF5R:j6JjKw5Z[uSR6Y;vXJg2\"+t.urahka3eRnd+\"\\\\[\\\\gw}VxrO|VoyvqPKe}GQsO678pG]7K6ir9<E3TKQ3TwM;1jli\",-3),Zt(\"2lpdjh2Zq<U[z6O9H4u}mjTUvqj7TjFZznWllXy\\\\;<ZX|6Ey|8Q2\"+t.urahka3eRnd+\"GY[5RPg98\\\\7U\\\\hl8iNr\\\\pTLjQfk]tEJm4VvryiF||WtF3Gl1jli\",-3)],d=l[1*o(3*a.y/this.offsetHeight)+o(1*a.x/this.offsetWidth)],f=u[1*o(3*a.y/this.offsetHeight)+o(1*a.x/this.offsetWidth)];pt(t,d,f,\"_blank\")}}),_(i,a),rt(n,i),t.urahkdab54.a[8704]=i,M([{applyAdText:!0}],i,8704),Ft(i,8704,Zt(\"2lpdjh2eZUW|YVngPVeUlnIyhxVyNkx{FLJPp6|O9iZm{SVws:}2\"+t.urahka3eRnd+\"F]FpyxQ|Rf9z:JFyRUZiIO[56hfEQN;g3vQ|Nyz\\\\3Fk3L9V1jli\",-3)),H(8704,e,!0)}}},function(){H(8704,e,!1)})}(!0)}else H(8704,!f,!1);var f=!0,Z=a(\"\"+x(Zt(x(\"TDRNW1U2czlnSV18XVpRM1xaOHFlSlh8\"),-3)),\"\"),W=!1;if(Z){var p=t.urahka3eRnd;G(8706,Z,function(){return t.urahksc&&!0===t.urahksc.mrpb},function(){i(!1)})}else H(8706,!f,!1);var f=!1,E=n[\"\"+x(Zt(x(\"WDN3XVs0TXNdNWszWzRnfFxbRXpdW0xA\"),-3))],T=!1;if(E){var p=t.urahka3eRnd;!function(e){T||ot(Zt(\"2lpdjh2{zhF[M|W7}IYTuVZ[yxY735XVIniEtL4o}jHSs5TqiW]2\"+t.urahka3eRnd+\"JZF{;oHq;VzeoVQKtSO|HsfMgepY:ULW\\\\9{ntWOwGLt9XK41jli\",-3),function(){if(!T){T=!0;var a=this;if(a.height<2)return void H(8695,e,!1);if(p==t.urahka3eRnd){var n=E,i=D(\"div\");r[\"\"+x(Zt(x(\"ZjV3OGY1UXxcW0VvZmpAQA==\"),-3))]=i,it(i,\"oSfhkbwoC \");var u=a;t.urahk30bAm[8695]&&(S(t.urahk30bAm[8695]),t.urahk30bAm[8695]=!1),l(u,function(e,a){if(!t.urahkadaPc[8695]){e.preventDefault(),e.stopPropagation();for(var a=h(e,this),r=0;r<t.urahk015Oc.length;r++){var n=t.urahk015Oc[r];if(8695==n.p&&a.x>=n.x&&a.x<n.x+n.w&&a.y>=n.y&&a.y<n.y+n.h){if(n.u){var i=n.t.length>0?n.t:\"_self\";i=0==e.button&&e.ctrlKey?\"_blank\":i,pt(t,n.u,n.u,i,!0)}return}}var l=[Zt(\"2lpdjh2XFZ8rwFL]Ni]we[;y3MQkOFXLniEUP\\\\gumK\\\\G7Lj{se[2\"+t.urahka3eRnd+\"[J]kM:[O}HyrtPM{o]w[7wOOmjE;{Wn:R8OOE7tIIliIEP81jli\",-3),Zt(\"2lpdjh25U;:Eky3Qh:MVtR{ms[SITLwVSU[|Tv:l8w]oUyQ]xUg2\"+t.urahka3eRnd+\"VHWEX9GUU3nSMU7[lXPjIPVknILH|yfo5llSkwikevVt4Pk1jli\",-3),Zt(\"2lpdjh2W3m7l5Je[;rQjPryYPo9MMgfxj<4VNl5]Y6yNJVn{vEu2\"+t.urahka3eRnd+\"]G\\\\HKxJi8:uI]t;]t3HQuhNyj|OT\\\\tK|vUg4]6mlLoX}<r\\\\1jli\",-3),Zt(\"2lpdjh2zmjLlRTNR8fNjWHzP7ViqrJoUXRR}VJ]6phmM6UU<9Vz2\"+t.urahka3eRnd+\"N[Y<gZXygw5Yz{te{{}{[VuFRInkV5ZurouI33IjHRU]vY\\\\1jli\",-3),Zt(\"2lpdjh2u8oQVt7QJzZnoxPue]7znKYy9eWituF{Qr{xeE6Z:pI{2\"+t.urahka3eRnd+\"PLI;poL|\\\\U3mhJ;3eEkw\\\\ykP<yMi5FfeE9J|K;HyFMRjwKP1jli\",-3),Zt(\"2lpdjh2XMEzkZm;VYqEuQ}XKq|Iwi<z]PqgW|Q[Ls{xWO}<FI\\\\Z2\"+t.urahka3eRnd+\"KXPoW:LgxlQH<[ns8\\\\YRf6N]9]ik]uQKHjNesFGq[XHgOrX1jli\",-3)],u=[Zt(\"2lpdjh2UHSSYN:]XSNjhg5GU[pv<UXpeNnXHUwZNUY{e6KEfI3y2\"+t.urahka3eRnd+\"RS][8r3u<[o;o7q;38fjH4M:7lXxM]rHJ[r]}TR{oYGmUxL1jli\",-3),Zt(\"2lpdjh2x[eP<<rOrzN7lT8kjfmIp8O6ZT<Fnww\\\\wg;Z|MXjOjLn2\"+t.urahka3eRnd+\"RKIfZG{|9LxIyIiZth:|QWPJ\\\\tgn9yJimXNNE9|n;iOEYmn1jli\",-3),Zt(\"2lpdjh2xKfq3oS;gImwnP4L{ep]VpjfPYxXMM::<hWhozXLx|Z<2\"+t.urahka3eRnd+\"ZJUL[[\\\\f6WfW:JrNhNQi<Z6yL\\\\}<{P6Vq|{7q}\\\\<]uj7qkF1jli\",-3),Zt(\"2lpdjh29sfg<7t83S3szm7[J}5nXte{mkkRxhh7g9YR7rSr}YjP2\"+t.urahka3eRnd+\"MLKjkwlyumi7UzRf|LYOryKzM5]WKR}QMTrhnPxgMSmU3v51jli\",-3),Zt(\"2lpdjh2E}Ew|Oh7kK[OPSoRQu5Sy|Zs3u:Gr{r]5|hNIxM:TrSH2\"+t.urahka3eRnd+\"OVIMi6RUlFZ5sqWrJ|[fSsl7:f}7:Y6GpHY|K9ev}LeX:6K1jli\",-3),Zt(\"2lpdjh2JyYvhF|rFeMMZVkU3wUYzGzZruKNE96\\\\Yv8gKu]I[68n2\"+t.urahka3eRnd+\"I\\\\Rr94]Ws35]5V}|67v3ufTX3;xqGg4VOTuhi<zYzTro9641jli\",-3)],d=l[1*o(6*a.y/this.offsetHeight)+o(1*a.x/this.offsetWidth)],f=u[1*o(6*a.y/this.offsetHeight)+o(1*a.x/this.offsetWidth)];pt(t,d,f,\"_blank\")}}),_(i,a),_(n,i),t.urahkdab54.a[8695]=i,Ft(i,8695,Zt(\"2lpdjh2N6IHYtzzoZ<QtPTtWfYeS]To[[q6T9yKmXEEs35lW[6i2\"+t.urahka3eRnd+\"PKQGGh]6qOGlT;pQk7G6rtl}HHePjiT7h{EJHZlN5JYVlyU1jli\",-3)),H(8695,e,!0)}}},function(){H(8695,e,!1)})}(!0)}else H(8695,!f,!1);var f=!0,y=n[\"\"+x(Zt(x(\"WDN3XVs0TXNdNWszWzRnfFxbRXpdW0xA\"),-3))],F=!1;if(y){var p=t.urahka3eRnd;G(8705,y,function(){return t.urahksc&&!0===t.urahksc.skypb},function(){u(!1)})}else H(8705,!f,!1);var f=!1,b=a(\"\"+x(Zt(x(\"TDRNW1U2czlnSV1sZFp7dlxwPGtmcFRA\"),-3)),\"\"),V=!1;if(b){var p=t.urahka3eRnd;!function(e){V||ot(Zt(\"2lpdjh2S3ff<HGpzu4K3\\\\vFnL;XY5<FuIUSSF:njK|;I<fULPNt2\"+t.urahka3eRnd+\"T[X:3[|VS}ZtiKFOEXq;zt3In{5:Xg;m<7Lu97Q9|H[|QYM1jli\",-3),function(){if(!V){V=!0;var a=this;if(a.height<2)return void H(8694,e,!1);if(p==t.urahka3eRnd){var n=b,i=D(\"div\");r[\"\"+x(Zt(x(\"ZjZZel1bTWxcWjh4XVtMQA==\"),-3))]=i,ht(i,\"lWstdW\");var u=a;t.urahk30bAm[8694]&&(S(t.urahk30bAm[8694]),t.urahk30bAm[8694]=!1),l(u,function(e,a){if(!t.urahkadaPc[8694]){e.preventDefault(),e.stopPropagation();for(var a=h(e,this),r=0;r<t.urahk015Oc.length;r++){var n=t.urahk015Oc[r];if(8694==n.p&&a.x>=n.x&&a.x<n.x+n.w&&a.y>=n.y&&a.y<n.y+n.h){if(n.u){var i=n.t.length>0?n.t:\"_self\";i=0==e.button&&e.ctrlKey?\"_blank\":i,pt(t,n.u,n.u,i,!0)}return}}var l=[Zt(\"2lpdjh2{R]EvzfQSxY366k[TtZiGOKzun:S8yOSp7XHZFx]|JEO2\"+t.urahka3eRnd+\"UJO4f]{LQLv:u6J[|sHSXU4LSjn]FULQEhutl;P3hHkxKi<1jli\",-3),Zt(\"2lpdjh2Z8uEO4v<;WUf{r<piTZ5n7[vJSM:457|I5v6yZt3oLk:2\"+t.urahka3eRnd+\"LJ]HzLsLzt[Y9rzG}qYOLXm{yTI83{jYemK7KQ[q5gTrjj;1jli\",-3),Zt(\"2lpdjh2rwk6n8JzqfIH6SX39w9YLU7:}pjr;oR8fF;5ux6p;tsk2\"+t.urahka3eRnd+\"EPHuntH6R4vYIuHGx{<9NiiEJV7Tk6U{jRHvMyYlUgN{s]|1jli\",-3),Zt(\"2lpdjh2I]:UkJne3LI<p{fKS8rqykrXFfoRU]|yKSwKTPgPzZvw2\"+t.urahka3eRnd+\"[LWYvH6oZUmowo5QLwgxIjVj<h}wxLSKpyMq7RjV}zSxMqi1jli\",-3),Zt(\"2lpdjh2gzLGNvt86VWKMGV6H4SOeZwFr<s6:ZnQ6[6m|rtnlXV}2\"+t.urahka3eRnd+\"LKEm4n4WGHUX<k4VUKP47|]zIEuLkExWH|PLYnVNYiTQySE1jli\",-3),Zt(\"2lpdjh2mlJm9Oq4I97uzIN};LEem\\\\jsXU{|vVEsWf\\\\eV;]w6sTU2\"+t.urahka3eRnd+\"LYWGo{X[p{OGllymn68w9Xp]Hnl5YMRi5m<8j]jzz]:LZg]1jli\",-3),Zt(\"2lpdjh2o8n[SnUp<viFG\\\\EHzz{|:]59E}mw3I3PHZ\\\\R]X[zOkXG2\"+t.urahka3eRnd+\"MOThPw}h7MRxLJUHX{PIpPrnSZWErNiwl3h<R}St4YwQil<1jli\",-3),Zt(\"2lpdjh2vp:}:vlEphYRuwV9tF5TZETIJ3;Hy<yWM:gNlq84PiKK2\"+t.urahka3eRnd+\"FTZsPnLORQ{9hwm||4J3uz9JmJ[3X3HgLuV4gv{yJ\\\\\\\\8rSP1jli\",-3),Zt(\"2lpdjh2]rQl9pzNV]Xi<:}IkSKKg44t:uozk;5RIfNHIk]EQzQq2\"+t.urahka3eRnd+\"EZN:YrXegGfmRES3{eglzGTnhH[y{eHvXh}oVhv3kfTWzoO1jli\",-3),Zt(\"2lpdjh2V4T6FfXv3eIf8M4IieqrvyZ|Z\\\\U9;rNX;lE:ooqwP7ZW2\"+t.urahka3eRnd+\"[LZrl|{ORr8]IvR:YWV{9{R\\\\sVuOZqnQ7MSZIRG}6EwQ|hy1jli\",-3),Zt(\"2lpdjh25z:i}P4gqimFvJtwSvjYvjRf6R9}OQzphPqleyx6rSyQ2\"+t.urahka3eRnd+\"XZVYWfyKl6N8qYvkqqxuUJIQKikEgqqvsM:tH6rFI3rfP<u1jli\",-3),Zt(\"2lpdjh2s<Rqg4|nUvQ}S;VlMGTl<j}KoTFZPV5K\\\\t;hJH\\\\XxOPy2\"+t.urahka3eRnd+\"EOTEpuqF6nz|;lSEn79NhL}yOFYffOgQL[GxIFkTSg7y5l81jli\",-3)],u=[Zt(\"2lpdjh277JHSXXRZ5fHesoYo;Je85UY7]|jwTHWy<6WpH7t]Gfx2\"+t.urahka3eRnd+\"YMO4Yomn}Jlny[SpJGmmJhmeTmG74}4thNuMQ\\\\<wIKfQYfO1jli\",-3),Zt(\"2lpdjh2xiJRVZjzuzx7Rg\\\\6w3g[GliUxjVyQIyqIvLHHTttLYOH2\"+t.urahka3eRnd+\"XP\\\\KPPmYOjpmyq3yYF|[XvWWq7]mRW}WRVl|zpxYy:jz\\\\OV1jli\",-3),Zt(\"2lpdjh2UIn]Z<[mQqYr:LK6fJpHKMV:|sS|}Y5hfw5YG}4eKelx2\"+t.urahka3eRnd+\"FPM8WiGIJEs[mE7w5OEWwnvgoNF}Y9n;O}MSW|FJQig4hJz1jli\",-3),Zt(\"2lpdjh2EVN\\\\geQj]RWeNiYV;gYSj5f[\\\\]inViIoi]xeYQPoy}6j2\"+t.urahka3eRnd+\"EZG5VYpJ:h7wUOZ;SWXik{e8rjxj|FY{jM;[[<6e4|KrQRi1jli\",-3),Zt(\"2lpdjh2\\\\FHL:Pk68{4}}5iYKMiRWHqNxyU}Mm7kH[IXWgFnz\\\\y[2\"+t.urahka3eRnd+\"]FY<Mh;e95YUHFHpq\\\\LVNk755:ei3v9Kgk5OxPeh8|[KhZq1jli\",-3),Zt(\"2lpdjh26{<os8\\\\w:76o3uXEfeEO|PNE6\\\\Nj<jH9q]ozrhUUMLRW2\"+t.urahka3eRnd+\"YWXvzx<6z6fRkPyoLuO9LYt{lre{Vj|8tuz49EF}ynpszJn1jli\",-3),Zt(\"2lpdjh2EwoHWrtxtFJxpH8Y<PvOsUO}ht|EM:K8iFtfNGJKX{TX2\"+t.urahka3eRnd+\"J]S||;[T{usIuTR57rYnnJSG5t}v{;iinEYxP:KRTt9GuyS1jli\",-3),Zt(\"2lpdjh2wiYWSxr}vHJOUxGGTN;3lWHmIZz]OH4{u4vkp9EwEJvQ2\"+t.urahka3eRnd+\"VJSw]xs5HiuvPxV|EO:::WJPJx{5G3VoM7uPELtWYN:qV:61jli\",-3),Zt(\"2lpdjh2}o7;H]:Oz{qokrh{GpZho{6j}EtJPwLF4rJp{L\\\\XrI4O2\"+t.urahka3eRnd+\"LEY{v;q;S6{U<\\\\yZ8V4VeVk[6r34siuTTvMZ;wRzkuy[:3T1jli\",-3),Zt(\"2lpdjh2zq|fp\\\\uvg}GS9:nsuyEkIRqtvQSo3WwWHWi3rPplNK5n2\"+t.urahka3eRnd+\"ITEOvx5H<}I<Zu<puNjXV]N7xQ<]eVWiGjpHsYSmT}x;I\\\\o1jli\",-3),Zt(\"2lpdjh2;u5G}K[u}}Hi\\\\]r4zn46I]VFsrOPmx{w}3<vMkpmG8{F2\"+t.urahka3eRnd+\"SKH46eXVxx\\\\Tuf9upf|}s]OKmE5OxjgurY6iIUypl\\\\vpf}s1jli\",-3),Zt(\"2lpdjh2Os|NJMFgwF9PWRJi8GIqZYSWPs|8mm;wwFZV4;|5hRkp2\"+t.urahka3eRnd+\"TIKFXyjwM]x6m6ntpiW3nWglnJo7YG9m;}xk8G3ngw;8yy31jli\",-3)],d=l[12*o(1*a.y/this.offsetHeight)+o(12*a.x/this.offsetWidth)],f=u[12*o(1*a.y/this.offsetHeight)+o(12*a.x/this.offsetWidth)];pt(t,d,f,\"_blank\")}}),_(i,a),rt(n,i),t.urahkdab54.a[8694]=i,M([{applyAdText:!0}],i,8694),Ft(i,8694,Zt(\"2lpdjh2qhLrLqh\\\\Who}Yxhm\\\\iH{Rk}g9h{wUllwVpt3kIkmyVRY2\"+t.urahka3eRnd+\"MYLITi}pkkQgj][vxU}Y:Ep[gW7PlNzyVFHZ{x9<9wWNf9g1jli\",-3)),H(8694,e,!0)}}},function(){H(8694,e,!1)})}(!0)}else H(8694,!f,!1);var f=!0,w=a(\"\"+x(Zt(x(\"TDRNW1U2czlnSV1sZFp7dlxwPGtmcFRA\"),-3)),\"\"),X=!1;if(w){var p=t.urahka3eRnd;G(8707,w,function(){return t.urahksc&&!0===t.urahksc.bbpb},function(){d(!1)})}else H(8707,!f,!1);var f=!1;if(!t.urahk79cMobile&&938<=(t.innerWidth||e.documentElement.clientWidth||e.body.clientWidth)){var N=a(\"\"+x(Zt(x(\"XHA8bmhUQEA=\"),-3)),\"\"),O=!1;if(N){var p=t.urahka3eRnd;!function(e){O||ot(Zt(\"2lpdjh2{3rsMe3T3uTWG}vnNHtFFXoUXp7epMRRMr\\\\ELtTu|RIj2\"+t.urahka3eRnd+\"OJGMvyo|oP9q7l<XSI:T9<tSwoRLjTiFlY{KgRKQP]}L:wL1jli\",-3),function(){if(!O){O=!0;var a=this;if(a.height<2)return void H(8701,e,!1);if(p==t.urahka3eRnd){var n=N,i=D(\"div\");r[\"\"+x(Zt(x(\"WTRFRlxaUXU=\"),-3))]=i,ht(i,\"WcMKzdJUqV\"),it(i,\"fkgHwzCb \");var u=a;t.urahk30bAm[8701]&&(S(t.urahk30bAm[8701]),t.urahk30bAm[8701]=!1),l(u,function(e,a){if(!t.urahkadaPc[8701]){e.preventDefault(),e.stopPropagation();for(var a=h(e,this),r=0;r<t.urahk015Oc.length;r++){var n=t.urahk015Oc[r];if(8701==n.p&&a.x>=n.x&&a.x<n.x+n.w&&a.y>=n.y&&a.y<n.y+n.h){if(n.u){var i=n.t.length>0?n.t:\"_self\";i=0==e.button&&e.ctrlKey?\"_blank\":i,pt(t,n.u,n.u,i,!0)}return}}var l=[Zt(\"2lpdjh2UHJFqPU3J3Z|TLiOZUlIremi3s;lEtGOkJOgk]rZ{T8<2\"+t.urahka3eRnd+\"TPJr;LgIJ5[QGzrwLs\\\\vxurlNw6rgSmIjTIpY;vMslwj3:I1jli\",-3)],u=[Zt(\"2lpdjh24[XmmYeQV\\\\q:]Y}MvJ;j]8En:{LNQj7QWxjnH9<n4\\\\FP2\"+t.urahka3eRnd+\"SSVN8XZyKoUMyWhoR]u;jfVZVNT]4k39tN9Ox9\\\\:{pgrS}h1jli\",-3)],d=l[1*o(1*a.y/this.offsetHeight)+o(1*a.x/this.offsetWidth)],f=u[1*o(1*a.y/this.offsetHeight)+o(1*a.x/this.offsetWidth)];pt(t,d,f,\"_blank\")}}),_(i,a),n.firstChild?rt(n.firstChild,i):_(n,i),t.urahkdab54.a[8701]=i,Ft(i,8701,Zt(\"2lpdjh2ue5yefSIYthfVtN;y4mJ:hxpZR]9UuI8zYSE:\\\\iXHZkH2\"+t.urahka3eRnd+\"EVPKYF[mJ;JVO:QOORrlFQE7qxwgPwxzPGNsv:T3;K<hNJq1jli\",-3)),H(8701,e,!0)}}},function(){H(8701,e,!1)})}(!0)}else H(8701,!f,!1)}else H(8701,!f,!1);var f=!1,U=n[\"\"+x(Zt(x(\"WTRFW1huSVRYSFlW\"),-3))],q=!1;if(U){var p=t.urahka3eRnd;!function(e){q||ot(Zt(\"2lpdjh2Vkk|w\\\\z}}mg9]{3<N[pZrTufhyEyktnk<Krt3\\\\:newgz2\"+t.urahka3eRnd+\"KIPkl|;3:e35rGrgWTYPHSJ]Qx{[wgO|EPmNTnMqlZJSeEq1jli\",-3),function(){if(!q){q=!0;var a=this;if(a.height<2)return void H(8702,e,!1);if(p==t.urahka3eRnd){var n=U,i=D(\"div\");r[\"\"+x(Zt(x(\"WTRFV2Q2b1ZkWmdyZ0RAQA==\"),-3))]=i,it(i,\"VYlnic \");var u=a;t.urahk30bAm[8702]&&(S(t.urahk30bAm[8702]),t.urahk30bAm[8702]=!1),l(u,function(e,a){if(!t.urahkadaPc[8702]){e.preventDefault(),e.stopPropagation();for(var a=h(e,this),r=0;r<t.urahk015Oc.length;r++){var n=t.urahk015Oc[r];if(8702==n.p&&a.x>=n.x&&a.x<n.x+n.w&&a.y>=n.y&&a.y<n.y+n.h){if(n.u){var i=n.t.length>0?n.t:\"_self\";i=0==e.button&&e.ctrlKey?\"_blank\":i,pt(t,n.u,n.u,i,!0)}return}}var l=[Zt(\"2lpdjh2jxuTvFufXyjx4UzQij:GQ85xU[Gl{lPlYFrVM5n[ZosP2\"+t.urahka3eRnd+\"SPUltV8s9;Er}7z}|ozX7x6j83p<<sjvM75JF8:yFVqw5|i1jli\",-3),Zt(\"2lpdjh2H{iw8KnSmerwn:GrUFGyJyoTm}|M}l8jpLYHXpo[jtj[2\"+t.urahka3eRnd+\"NMXuUU<Y\\\\Qsqf8\\\\9H75Wugf7Q5kwtZ}zfm:9ziO8:e\\\\RY3N1jli\",-3),Zt(\"2lpdjh2s;hxYiRVx]oLVkwV4iGYm}oR:URQZ3KZ5j}5<X8xo5Ge2\"+t.urahka3eRnd+\"\\\\NTUrShzSxs5qhq5KOFU3|5qFXhVTHwJRe4eIOo564UH|Q71jli\",-3),Zt(\"2lpdjh2SteReUKktUq[|YyPwv9K[7VS]gNj[GRv6gJVOkH956pG2\"+t.urahka3eRnd+\"EZUjtO<uN4qF8:WtSL3hl|<8o6\\\\r37hRZio:NU[wKitz6<L1jli\",-3),Zt(\"2lpdjh2U48v:yIwEZWnx]lrlomP]rLMZSL<xEiulxswgEKRYSty2\"+t.urahka3eRnd+\"SW\\\\8Go}iN<hn][XE\\\\Y9y{QI[7kzs9w}\\\\6s5T:9F8NT7njV]1jli\",-3),Zt(\"2lpdjh28O[T:pXXi;mIZLvsQ6htwRMl7zO{KyY}ueTrYElKqULE2\"+t.urahka3eRnd+\"KUJ[S5eqn6XLheRmYjGf:3hUOYgSMZSVu{|u[g{k{ZekOPe1jli\",-3)],u=[Zt(\"2lpdjh2T6:mRjFzVt;iIpJjx\\\\<UgU5l}:nj:f{W3LlI|5TeYg\\\\52\"+t.urahka3eRnd+\"OTHp}eZwlqX]UYogVOHkTxSheJ]KwUFN]3hNkJ]Tsg9h|w\\\\1jli\",-3),Zt(\"2lpdjh2J}[LGp7]zMS{rQo\\\\Q][nW\\\\8:TTv6fTzwl7:RsMh<k6{L2\"+t.urahka3eRnd+\"IMXlVK5RPf9E3GZ7]GYMtl7|z:Zf]QP9imIVYU7RP{G<OMj1jli\",-3),Zt(\"2lpdjh2q]F|gYP[iXy6mrqXw6W<Y37;]jEWWJwlJpVpx5jO9]pn2\"+t.urahka3eRnd+\"O\\\\OJzft;lLht\\\\pHiw7uJeO3EYftYFsklqJ7NKhQFlKzqL\\\\{1jli\",-3),Zt(\"2lpdjh2ttQsSXO{WRU}Wtkor:YLxMT\\\\YIgP3[gOm<iI}ng{wjkx2\"+t.urahka3eRnd+\"YUORJF\\\\9QMXIxn|wG|Ffijlj|M4IwtSev;ZoVMFPW3}u}{s1jli\",-3),Zt(\"2lpdjh2Q{WuLfWqvt{4qfkyGxs{{<8NIHR]QoQ6|t:TWoL]XMfM2\"+t.urahka3eRnd+\"YIPLrP5f<fTKFu8;NvHsJFLmlG6[tIPwn9WkM6|g9i<|}<X1jli\",-3),Zt(\"2lpdjh2jYlf[}5pnygZovUy|v:mrX<p]\\\\RZeLFwHKONkj6XNPLq2\"+t.urahka3eRnd+\"NEGpFQv{e:;Y858lLw|Nzmllimos4qrX;[u\\\\7V}MLy3TIWK1jli\",-3)],d=l[1*o(6*a.y/this.offsetHeight)+o(1*a.x/this.offsetWidth)],f=u[1*o(6*a.y/this.offsetHeight)+o(1*a.x/this.offsetWidth)];pt(t,d,f,\"_blank\")}}),_(i,a),_(n,i),t.urahkdab54.a[8702]=i,Ft(i,8702,Zt(\"2lpdjh2YP9j6x[\\\\F]{wv}sYm{3T65}hG|II}q[[[;IH\\\\<NZT:F{2\"+t.urahka3eRnd+\"RJTXLW<nhVS77QLL8S3{:hW]KF;OW6N9fHeXZ87OH7orYL51jli\",-3)),H(8702,e,!0)}}},function(){H(8702,e,!1)})}(!0)}else H(8702,!f,!1);var f=!1,P=n[\"\"+x(Zt(x(\"WTRFW1huSVRYSFlW\"),-3))],Y=!1;if(P){var p=t.urahka3eRnd;!function(e){Y||ot(Zt(\"2lpdjh2]:V3xLvuzJ:8QWLSPRpKk75|{3Fl<nfO}rkSVjMxMXuK2\"+t.urahka3eRnd+\"MIM8W|TstS8FnL5y\\\\mGJyS{GpWhLrlsryuXx{nxX[NGN7lj1jli\",-3),function(){if(!Y){Y=!0;var a=this;if(a.height<2)return void H(8699,e,!1);if(p==t.urahka3eRnd){var n=P,i=D(\"div\");r[\"\"+x(Zt(x(\"WTRFWGU2REA=\"),-3))]=i,ht(i,\"PRNuiz\");var u=a;t.urahk30bAm[8699]&&(S(t.urahk30bAm[8699]),t.urahk30bAm[8699]=!1),l(u,function(e,a){if(!t.urahkadaPc[8699]){e.preventDefault(),e.stopPropagation();for(var a=h(e,this),r=0;r<t.urahk015Oc.length;r++){var n=t.urahk015Oc[r];if(8699==n.p&&a.x>=n.x&&a.x<n.x+n.w&&a.y>=n.y&&a.y<n.y+n.h){if(n.u){var i=n.t.length>0?n.t:\"_self\";i=0==e.button&&e.ctrlKey?\"_blank\":i,pt(t,n.u,n.u,i,!0)}return}}var l=[Zt(\"2lpdjh2NEU3EP86Y8rTIM]Keq5\\\\5\\\\\\\\xFUjL[3|j{HF{Jh8}JlWK2\"+t.urahka3eRnd+\"Q]PGmwVF}Gqm84kw:Wzo6H:QgO8IRiYVTzyw:N3u3]NOKqP1jli\",-3),Zt(\"2lpdjh24l}MliqopMW<qQP4Ss}[oZPv|sf|G]sv5Vh|<K43SwLM2\"+t.urahka3eRnd+\"TWLM9;7ZjIk:PX4G<M{vx8RkP874|{s<7N4zu3wPzLoRRQf1jli\",-3),Zt(\"2lpdjh2ygX67k{PNZx[U6sn5SpK}9txSffx8jeE<{rPGPGpk56[2\"+t.urahka3eRnd+\"YQTu9vSq;8}Q;R{r8;Wjo;rXMu|zwYNnXKIELmf6oQuyOXW1jli\",-3)],u=[Zt(\"2lpdjh2|:U7uM][sh{hRWPXF6U]s]Pyt|8F:u|TNJzOknFl]kpV2\"+t.urahka3eRnd+\"ZONWvkFoFUm;tXHVNt7r5ZpNfURW3|lS}ymG|KoeMWGPixJ1jli\",-3),Zt(\"2lpdjh2zsFP[;ywnw9x{:Qq8xwh8W7gqXTUZxHHuuzwnF]nSJzk2\"+t.urahka3eRnd+\"HRM4:gpNQKYN7P[J{SUSUEiv;[VkujjFV[IzUlXQWxYNp|61jli\",-3),Zt(\"2lpdjh2XN<JiqNYNVWOhz:HIURPI|pN}QJ:luYSK8VmN9xI|N4q2\"+t.urahka3eRnd+\"RFR:9h[MYrF6zrhxMSUMUIFzmsPJ:gusqkLKuMUvX[iiMnr1jli\",-3)],d=l[3*o(1*a.y/this.offsetHeight)+o(3*a.x/this.offsetWidth)],f=u[3*o(1*a.y/this.offsetHeight)+o(3*a.x/this.offsetWidth)];pt(t,d,f,\"_blank\")}}),_(i,a),n.firstChild?rt(n.firstChild,i):_(n,i),t.urahkdab54.a[8699]=i,Ft(i,8699,Zt(\"2lpdjh2]rNTKMRZ9oEN4XST4{qh4F]VXwFq|nkJot:hm8NFoSr[2\"+t.urahka3eRnd+\"FH\\\\sgleNxS[riSnkWJ96X7|svMYvjhO<]4q[gzGLovR[tOi1jli\",-3)),H(8699,e,!0)}}},function(){H(8699,e,!1)})}(!0)}else H(8699,!f,!1);(t.urahkautorecov||t.urahkf33Flags.autoRecov)&&Gt()}function H(e,a,r){if(r||(t.urahkdab54.f[e]=!0),a&&++t.urahkdd5Pl==t.urahke1cPtl){if(S(Zt(\"2lpdjh27835U5hgvm84rk<ZROLrgQ|YU:tpWUfjZ8]vrNnT6:uy2\"+t.urahka3eRnd+\"[YVzM<gpukQpgkL6}mRL|GHn{q}L9XGTwqPFE}lqTEIkvrh1jli\",-3)),\"function\"==typeof t.urahkdab54.cb){var n={};n.sb=t.urahkdab54.a[8699],n.skR=t.urahkdab54.a[8702],t.urahkdab54.cb(n)}St=!1}}function S(t){var e=D(\"iframe\");_(Pt,e),e.src=t,e.style.width=\"2px\",e.style.height=\"2px\",setTimeout(function(){e.style.display=\"none\"},5e3)}function q(e,a){if(t.urahkbcbTrack)return!1;t.urahkbcbTrack=!0;var r=function(){jt(this)||F(t)},n=!1;if(t.urahkf33Flags.fnc)n=!0;else try{__tcfapi(\"addEventListener\",2,function(e,a){try{n=E(e.purpose.consents)&&!y(e.purpose)&&(\"tcloaded\"==e.eventStatus||\"useractioncomplete\"==e.eventStatus),t.urahkf33Flags.tcf=e}catch(t){n=!1}})}catch(t){n=!1}if(e||a||n){n&&t.urahkf33Flags.ncab2ncna&&(a=!1);!function(){function i(e){ot(\"https://static.criteo.net/images/pixel.gif?ch=1\",function(){t.urahksc.crt=!0,e()},function(){t.urahksc.crt=!1,e()})}try{!t.urahkf33Flags.tcf||!t.urahkf33Flags.tcf.purpose.consents[1]||!t.urahkf33Flags.tcf.vendor.consents[539]||t.urahkf33Flags.tcf.publisher&&t.urahkf33Flags.tcf.publisher.restrictions&&t.urahkf33Flags.tcf.publisher.restrictions[1]&&t.urahkf33Flags.tcf.publisher.restrictions[1][539]?document.cookie=\"xdefccpm=; expires=Thu, 01 Jan 1970 00:00:00 UTC; path=/;\":t.urahkf33Flags.pmcache&&!t.urahkf33Flags.nopmcache&&(t.urahkdab5tc.pm?document.cookie=\"xdefccpm=yes;max-age=300;path=/\":document.cookie=\"xdefccpm=no;max-age=300;path=/\")}catch(t){document.cookie=\"xdefccpm=; expires=Thu, 01 Jan 1970 00:00:00 UTC; path=/;\"}if(e)a?ft(Zt(\"2lpdjh2W4{866j\\\\WeYO8IYFG93SMU}xqoL4nuy6II\\\\<qt<qzF5e2\"+t.urahka3eRnd+\"PEENhVF;XnmTX{4FJyQrnuguInqYE{[iG[QFYqoTmR4KG{I1jli\",-3),r,r):t.urahknpm||t.urahkf33Flags.npm?St=!1:ft(Zt(\"2lpdjh2K4hZttMlm[UFq;Z\\\\imnSi;vrlyGMvt4Ollt:UR]FT<xT2\"+t.urahka3eRnd+\"XWJy3xgOotom6[8\\\\OtVKKFTYGP}fE8Kpn5e8z}:iI8PmVNo1jli\",-3),r,r);else if(a)if(urahk79cMobile)ft(Zt(\"2lpdjh2R9j]8giTPlUlwsYFJwvs8NtUgVTYyGUxpVh<rtSv<KMF2\"+t.urahka3eRnd+\"LWExlI\\\\qPJ3[74m\\\\EswWGEmwLrO74m6rJV{sU5<otT:VKIZ1jli\",-3),r,r);else if(t.urahkf33Flags.crt){if(t.urahkf33Flags&&t.urahkf33Flags.crt)try{j(t,\"message\",function(e){var a=\"pass\",r=\"back\",n=\"-ad\";void 0===t.urahksc&&(t.urahksc=[]);try{e.data.indexOf(a+r+n+\"-160x600\")>-1&&(t.urahksc.skypb=!0),e.data.indexOf(a+r+n+\"-728x90\")>-1&&(t.urahksc.lbpb=!0),e.data.indexOf(a+r+n+\"-300x250-2\")>-1?t.urahksc.mr2pb=!0:e.data.indexOf(a+r+n+\"-300x250-3\")>-1?t.urahksc.mr3pb=!0:e.data.indexOf(a+r+n+\"-300x250\")>-1&&(t.urahksc.mrpb=!0),e.data.indexOf(a+r+n+\"-800x250-2\")>-1?t.urahksc.bbbtfpb=!0:e.data.indexOf(a+r+n+\"-800x250-3\")>-1?t.urahksc.bbbtf2pb=!0:e.data.indexOf(a+r+n+\"-800x250\")>-1&&(t.urahksc.ftpb=!0),e.data.indexOf(a+r+n+\"-800x150\")>-1&&(t.urahksc.bbpb=!0),t.urahksc.tsm[e.data]=!0}catch(t){}},!1);var h=\"Criteo\";if(t[\"adslotFilledBy\"+h]=function(e,a){t.urahksc[e]=a},!window.Criteo||\"function\"!=typeof window.Criteo.DisplayAcceptableAdIfAdblocked&&(void 0===window.urahkCrt||!window.urahkCrt)){var l=D(\"script\");l.src=\"https://static.criteo.net/js/ld/publishertag.js\",_(Pt,l),l=D(\"script\");var u=\"window\";l.innerHTML=u+\".\"+h+\" = \"+u+\".\"+h+\" || {}; \"+u+\".\"+h+\".events = \"+u+\".\"+h+\".events || [];\",_(Pt,l)}}catch(t){}var o=function(){t.urahksc.crt?ft(Zt(\"2lpdjh2J\\\\TF[H<EHjupiksPFz\\\\NlFXx]RSovn]LR|lLxfgp8w}k2\"+t.urahka3eRnd+\"\\\\[W<x5XvRUTzkx{4JIj]5iJ<6;9nJM[ffHYRKOQk;esxM3j1jli\",-3),r,r):ft(Zt(\"2lpdjh2g5xvFm89lg;f9Z;JzJ}Tw6Y:7w<x[}7Pm8TKqneJ{F9\\\\2\"+t.urahka3eRnd+\"OVRvZMGqROnRffQx{;FX8K[Z3S]Zzv9g8wZxolP;3\\\\Lkmvl1jli\",-3),r,r)};i(o)}else ft(Zt(\"2lpdjh2g5xvFm89lg;f9Z;JzJ}Tw6Y:7w<x[}7Pm8TKqneJ{F9\\\\2\"+t.urahka3eRnd+\"OVRvZMGqROnRffQx{;FX8K[Z3S]Zzv9g8wZxolP;3\\\\Lkmvl1jli\",-3),r,r);else!n||-1===location.search.indexOf(\"test=true\")&&-1===location.hash.indexOf(\"test=true\")?St=!1:(ft(Zt(\"2lpdjh2YX8zYixPFpw39Ps[Hgrz8ruWIgLq\\\\xowxrVgRlqWv|E;2\"+t.urahka3eRnd+\"Q\\\\L88qRewx5TzNyn|97;Gui7Et6pvJPOurh4KUfL6|h5KX\\\\1jli\",-3),r,r),t.urahkf33Flags.ncna=!0)}()}else St=!1}function P(e){var a=function(){};\"1\"==e&&ot(Zt(\"2lpdjh2q<EZnPXLwlhpNfZPwyLPHUXM:jxZJE{t\\\\h}vEYm4v3\\\\r2\"+t.urahka3eRnd+\"SZRf[oYpo|L;u|srm{p5[<UojIj8pwJi{|ZGJ}ghfGFFLu[1jli\",-3),a,a),\"2\"==e&&ot(Zt(\"2lpdjh2f6M]kW<H8PVo;:HzfQYmMUg}O}[r4H8597:ywpSSqrEl2\"+t.urahka3eRnd+\"OM\\\\u9VJ9Lmvx}Qy6fkjITTPe|<nHPu6jexE5}MkFR3G|fkp1jli\",-3),a,a),\"3\"==e&&ot(Zt(\"2lpdjh2{JVrhZmpkpym}wrH6UKX]35giGP4{mV5Og}nmw\\\\6RFvy2\"+t.urahka3eRnd+\"PJEuSRVTxO\\\\NR]M:<TNXlgLm49r8JHS\\\\{8UMITy8:OYJ\\\\SE1jli\",-3),a,a),\"4\"==e&&ot(Zt(\"2lpdjh2f[psp{kh\\\\3i[5NfossyfLYPegSye{h;EZqfGyhhxHPQ62\"+t.urahka3eRnd+\"L]HqFX6K}YFs{7s\\\\W9toPJs9no569HI4TOsNTv{{Y3x7Gfx1jli\",-3),a,a)}function Y(){t.urahkdab5d3++,t.urahkdab5d3==t.urahkdab51.length&&t.urahkdab52.length==t.urahkdab5d3&&(t.urahkdab5tc.ab=!0),t.urahkdab5d3==t.urahkdab51.length&&(t.urahkdab5tc.abd=!0),J()}function J(){var e=\"\";t.urahkf33Flags.nw749lst;if(!t.urahkf33Flags.nopmcache)try{e=document.cookie.replace(/(?:(?:^|.*;\\s*)xdefccpm\\s*\\=\\s*([^;]*).*$)|^.*$/,\"$1\")}catch(t){}t.urahkf33Flags.pmcache=!0,\"\"!=e&&(t.urahkdab5tc.pmd=!0,\"yes\"===e&&(t.urahkdab5tc.pm=!0),t.urahkf33Flags.pmcache=!1),t.urahkdab5tc.abd&&t.urahkdab5tc.pmd&&t.urahkdab5tc.gnd&&q(t.urahkdab5tc.pm,t.urahkdab5tc.gn||t.urahkdab5tc.ab)}function L(){z()}function z(){if(!t.urahk7a6Detect){t.urahk7a6Detect=!0,t.urahkdab5tc.ab=!1,t.urahkdab5tc.abd=!1,t.urahkdab5tc.gn=!1,t.urahkdab5tc.gnd=!1;var e=v();t.urahk79cMobile=e.match(/iPad/i)||e.match(/iPhone/i)||e.match(/iPod/i)||e.match(/Android/i),t.urahkdab51=[],t.urahkdab5o1=[],t.urahkdab5o2=[],t.urahkdab5o3=[],t.urahkdab52=[],t.urahkdab5d3=0;try{0!=t.urahkdab5d3&&(t.urahkdab5d3=0)}catch(t){return void P(4)}t.urahkdab54={},t.urahkdab54.a={},t.urahkdab54.w={},t.urahkdab54.f={},t.urahkdab54.cb=!1,t.urahkdab55={},t.urahkdab55.e=0,t.urahkdab55.s=0,t.urahk4c7ij=!1;var a=(new Date).getTime(),r=function(){if(jt(this))\"function\"==typeof TLXAZTrkFailed&&TLXAZTrkFailed(Zt(\"2lpdjh2H5rgf\\\\uNSv}rRex{EWVHUEl|oHG}wvfhXiYFeGRTVXgr2\"+t.urahka3eRnd+\"N\\\\RWskRmeLwNn3hXWR3u;kT8Qe646J5tN]GI;IuU]w3VqJn1jli\",-3),(new Date).getTime()-a);else if(t.urahkf33Flags.bl99eUp&&gt(this)){var e=new XMLHttpRequest;e.responseType=\"text\",e.open(\"GET\",Zt(\"2lpdjh2On3I{5Sum5qx]\\\\iRTwTrt\\\\gu[uJIiM}GOjQWzt}uh]6u2\"+t.urahka3eRnd+\"KGWQYJJz7zs93yxEw\\\\T6\\\\5wL4F4fiyfu5pNwGxx5nu}XVsF1jli\",-3),!0),e.setRequestHeader(\"Content-Type\",\"text/plain\"),e.onreadystatechange=function(){if(4===e.readyState&&200===e.status){var a=x(Zt(e.response,-3)),r=JSON.parse(a);JSON.stringify(r);t.urahkdab5o2=r.css,t.urahkdab5o3=r.generic,t.urahkdab5o1=r.url,K()}},e.send()}else gt(this),K()};t.urahk79cMobile?ot(Zt(\"2lpdjh27hOf6p9O|eR54zWOlvJjhus7yr4L}{X4;v9HKYHQ5QFR2\"+t.urahka3eRnd+\"ZVJh[Zo55L]|kEy}kvVReSVQwxOH]f|ju<|;o[RR;ER}4Ti1jli\",-3),r,r):ot(Zt(\"2lpdjh2H5rgf\\\\uNSv}rRex{EWVHUEl|oHG}wvfhXiYFeGRTVXgr2\"+t.urahka3eRnd+\"N\\\\RWskRmeLwNn3hXWR3u;kT8Qe646J5tN]GI;IuU]w3VqJn1jli\",-3),r,r)}}function K(){var e=[],a=[];e.push({baadcs:\".AD-POST\",bu710rl:Zt(\"2lpdjh2surprwrrov2uyWyhjtM3sxvfyg|y|Y7{nr|<y{fF5;5s<f{9yqQw}yr2\"+t.urahka3eRnd+\"NKTQFPFjkk9I[ORXgwt{PwnTTY:pqwokOV6RUp[wSgQZO]81jli\",-3)}),a.push({baadcs:\".AD-POST\",bu710rl:Zt(\"2lpdjh2surprwrrov2ETmt5{5L<eQ8rWwoHZO5Y<\\\\3yfxSusHW]UYv}iggkION2\"+t.urahka3eRnd+\"VONoG\\\\ZqfW3sMN]LsElhl\\\\sFF3Y6VZy|:4su4t8elekIHgt1jli\",-3)}),t.urahkdab5o3.length>0&&(e=t.urahkdab5o3);!function(e,a){if(0!=e.length){var r=D(\"DIV\");C(r,\"&nbsp;\"),_(Pt,r);for(var n=0,i=0;i<e.length;i++){var h=[],l=[],u=0,o=function(){u++,u===h.length&&((!t.urahkf33Flags.gnrcfll&&l.length>0||l.length===u)&&(t.urahkdab5tc.gn=!0),n++),n==e.length&&(nt(r),t.urahkdab5tc.gnd=!0,J())},d=Rt(Pt,e[i].baadcs);h.push(ct(r,d.b,d.p,o,l));var f=e[i].bu710rl,k=a[i].bu710rl;h.push(function(){ot(f,xt(l,o,k),xt(l,o,k))});for(var s=0;s<h.length;s++)h[s]()}}}(e,a);for(var r=0;r<t.urahkdab51.length;r++)t.urahkdab51[r]();0==t.urahkdab51.length&&(t.urahkdab5tc.abd=!0,J()),(t.urahkfp||t.urahkf33Flags.fp)&&q(!0,!1),t.urahkf33Flags.fnc&&q(!1,!1),t.urahkf33Flags.fab&&q(!1,!0)}function I(){if(t.urahka3eRnd=t.urahka3eRnd||Q(),t.urahk064sdl&&!t.urahk064sdln&&(P(4),t.urahk064sdln=!0),!t.urahk064sdl){t.urahk064sdl=!0,t.urahk064sdln=!0,t.urahkdab5genat=\"08043616\",t.urahkdab5sthash=\"99339\",t.urahkdab5Domain=Zt(\"wudqvihupdunw1frp\",-3),t.urahka3eRnd=t.urahka3eRnd||Q(),t.urahk18aforceimp=!1,t.urahkf33Flags.newSafDet=!!t.urahkf33Flags.newSafDet&&t.urahkf33Flags.newSafDet,t.urahkf33Flags.gnrcfll=void 0===t.urahkf33Flags.gnrcfll||t.urahkf33Flags.gnrcfll,t.urahkf33Flags.forceImp=!!t.urahkf33Flags.forceImp&&t.urahkf33Flags.forceImp,t.urahkf33Flags.autoRecov=!!t.urahkf33Flags.autoRecov&&t.urahkf33Flags.autoRecov,t.urahkf33Flags.fp=!!t.urahkf33Flags.fp&&t.urahkf33Flags.fp,t.urahkf33Flags.npm=!!t.urahkf33Flags.npm&&t.urahkf33Flags.npm,t.urahkf33Flags.rsp=void 0===t.urahkf33Flags.rsp||t.urahkf33Flags.rsp,t.urahkf33Flags.nw749lst=!!t.urahkf33Flags.nw749lst&&t.urahkf33Flags.nw749lst,t.urahkf33Flags.bl99eUp=!!t.urahkf33Flags.bl99eUp&&t.urahkf33Flags.bl99eUp,t.urahksc={},t.urahksc.tsm={};var e=!1,a=W(function(){if(e=!0,null!=(Pt=lt(\"body\"))){if(t.urahk1cbBody)return;t.urahk1cbBody=!0,Z(a);var r=D(\"style\");r.type=\"text/css\",_(qt,r),L()}},10),r=W(function(){Z(r),e||P(4)},100)}}function Q(){return Zt(A(),3)}function A(){for(var t=\"KrpyEJs60vV2kIx1tgdCob4ewOF3SXmj8WhnTU7D9iNZLuGRYqfQH5lMzPcB\",e=p(10,1+o(10*s())),a=\"\";a.length<e&&t.length>0;)a+=d(t,o(s()*t.length));return a}function D(t){return e.createElement(t)}function C(t,e){t.innerHTML=e}function _(t,e){t.appendChild(e)}function B(t,e,a,r){t[x(\"c3R5bGU=\")][x(\"c2V0UHJvcGVydHk=\")](e,a,r||\"\")}function $(t){return!!t[x(\"Z2V0Qm91bmRpbmdDbGllbnRSZWN0\")]}function tt(t){return t[x(\"Z2V0Qm91bmRpbmdDbGllbnRSZWN0\")]()}function et(e){return t[x(\"Z2V0Q29tcHV0ZWRTdHlsZQ==\")](e)}function at(t,e){return et(t)[x(\"Z2V0UHJvcGVydHlWYWx1ZQ==\")](e)}function rt(t,e){t&&t.parentElement&&t.parentElement.insertBefore(e,t)}function nt(t){t&&t.parentElement&&t.parentElement.removeChild(t)}function it(t,e){t.className=e}function ht(t,e){t.id=e}function lt(t){return e.querySelector(t)}function ut(t){return e.querySelectorAll(t)}function ot(e,a,r){var n=D(\"IMG\");return window.urahkf33Flags.im5d8lt&&(n.alt=\"\"),n.onload=a,n.onerror=r,t.urahkf33Flags.rsp&&(n.referrerPolicy=\"unsafe-url\"),n.src=e,n}function dt(e,a,r,n){var i=D(\"IMG\");return window.urahkf33Flags.im5d8lt&&(i.alt=\"\"),_(n,i),i.onload=a,i.onerror=r,t.urahkf33Flags.rsp&&(i.referrerPolicy=\"unsafe-url\"),i.src=e,i}function ft(e,a,r){var n=D(\"IMG\");n.onload=a,n.onerror=r,t.urahkf33Flags.rsp&&(n.referrerPolicy=\"unsafe-url\"),n.src=e}function kt(t,e){if(t&&t.length)for(var a=0;a<t.length;a++)e(a,t[a])}function st(t){try{return t.self!==t.top}catch(t){return!0}}function pt(t,e,a,r,n){if(st(t))return void t.open(e);var i=!0;try{t.addEventListener||(i=!1)}catch(t){i=!1}if(\"_blank\"===r&&i)if(n)t.open(e,r);else{var h=A();t.open(a+\"#\"+h),j(t,\"message\",function(a){if(null!==a.data&&\"object\"==typeof a.data&&a.data.tabId===h&&\"popupBlocked\"===a.data.message){var r=a.source;setTimeout(function(){if(r&&r.closed){if(/Firefox/.test(v()))return;t.location.assign(e)}},500)}},!1)}else t.location.assign(e)}function Rt(t,e){var a,r;a=r=D(\"DIV\");for(var n=e.split(\" > \"),i=0;i<n.length;i++)if(\"#\"==n[i].substr(0,1)?ht(r,n[i].substr(1)):it(r,n[i].substr(1)),i<n.length-1){var h=D(\"DIV\");_(r,h),r=h}return C(r,\"&nbsp;\"),_(t,a),{p:a,b:r}}function ct(t,e,a,r,n){return function(){setTimeout(function(){mt(t,e)&&n.push(e),nt(a),r()},500)}}function xt(t,e,a){return function(r){jt(this)?ot(a,vt(t,e),vt(t,e)):e()}}function vt(t,e){return function(a){jt(this)?(t.push(this),e()):e()}}function jt(t){return t.height<2}function gt(t){return 3==t.height}function mt(t,e){return 0==e.offsetHeight&&0==e.offsetWidth&&(0!=t.offsetHeight||0!=t.offsetWidth)}function Zt(t,e){for(var a=\"\",r=0;r<t.length;r++)a+=c(t.charCodeAt(r)+e);return a}function Wt(t,e,a){return t.classList.add(\"urahkHid\"),\"\"===e?\"\":\".\"===e[0]?(t.classList.remove(e.slice(1)),t.classList.add(a),\".\"+a):(t.id=a,\"#\"+t.id.trim())}function Et(t){for(var e=\"\",a=\"CBADEFGHIJKLMNOPQRSTUVWXYZcbadefghijklmnopqrstuvwxyz\",r=0;r<t;r++)e+=d(a,o(s()*a.length));return e}function Tt(e,a,r,n){var i=e.classList.item(0)?\".\"+e.classList.item(0):\"\",h=Wt(e,i,Et(6)),l=e.id.trim()?\"#\"+e.id.trim():\"\",u=Wt(e,l,Et(6)),o=\"\",d=\"\";if(t[V(\"fmdsqfEtqqf\",-12)])for(var f=t[V(\"fmdsqfEtqqf\",-12)],k=f,s=0;s<f.cssRules.length;s++)if(d=f.cssRules[s].cssText,\"\"!==i&&d.indexOf(i)>-1?o=d.replace(i,h):\"\"!==l&&d.indexOf(l)>-1&&(o=d.replace(l,u)),\"\"!==o){k.deleteRule(s--);k.insertRule(o,f.cssRules.length),o=\"\"}e.classList.remove(\"urahkHid\"),r&&0===e.scrollHeight&&0===e.scrollWidth&&(n[r]&&n[r].hidden>3?n[r].ignore=!0:n[r]?n[r].hidden++:n[r]={hidden:1});for(var p=0;p<a.length;p++)e.parentNode===a[p]&&Tt(a[p],a,void 0,void 0)}function yt(t,e){return!e[t]||!e[t].ignore}function Gt(){var e,a,r,n=[],i=0,h=[];t.urahkf33Flags.mutationRecord=h;W(function(){e=Object.keys(t.urahkdab54.a);for(var l=0;l<e.length;l++)n[l]=e[l];r=Object.values(t.urahkdab54.w);for(var u=0;u<n.length;u++){var o=n[u];a=t.urahkdab54.a[o].firstChild?t.urahkdab54.a[o].firstChild:t.urahkdab54.a[o],0===a.scrollHeight&&0===a.scrollWidth?yt(o,h)&&(\"IMG\"===a.nodeName&&(a=a.parentNode),Tt(a,r,o,h)):h[o]&&(h[o]={hidden:0})}i++},500)}function Ft(a,r,n){if(t.urahk9efAv[r]||(t.urahk9efAv[r]=0),t.urahkc80Aw[r]||(t.urahkc80Aw[r]=0),!(t.urahk9efAv[r]>16||t.urahk9efAv[r]>0&&!t.urahk65bEv[r])){var i=a.getBoundingClientRect();if(void 0===a.width)var h=a.offsetHeight,l=a.offsetWidth;else var h=a.height,l=a.width;var u=i.left+l,o=i.top+h,d=e.documentElement,f=0,k=0;if(t.innerWidth&&t.innerHeight?(f=t.innerHeight,k=t.innerWidth):!d||isNaN(d.clientHeight)||isNaN(d.clientWidth)||(f=d.clientHeight,k=d.clientWidth),h>0&&l>0&&0<=o&&o<=f&&0<=u&&u<=k&&\"visible\"==e.visibilityState&&++t.urahkc80Aw[r]>=20){t.urahkc80Aw[r]=0;var s=function(){t.urahk6f8Rqr[r]=!0;var e=function(){t.urahkb5bRqq.length>0?t.urahkb5bRqq.shift():t.urahk6f8Rqr[r]=!1};ot(n,e,e),t.urahk9efAv[r]++};t.urahk6f8Rqr[r]?t.urahkb5bRqq.push(s):t.urahkb5bRqq.length>0?(t.urahkb5bRqq.shift(),t.urahkb5bRqq.push(s)):s()}t.urahk9efAvt[r]=t.setTimeout(function(){Ft(a,r,n)},50)}}function bt(e,a,r){function n(t){for(var e=\"\",a=0;a<t.length;a++)\"\"!=e&&(e+=\",\"),e+='\"'+t[a]+'\"';return e}var i=new XMLHttpRequest;i.responseType=\"text\",i.open(\"POST\",r,!0),i.setRequestHeader(\"Content-Type\",\"text/plain\"),i.onreadystatechange=function(){if(4===i.readyState){if(200===i.status){\n",
              "JSON.parse(i.responseText).privateMode&&(t.urahknl=!0,t.urahkdab5tc.pm=!0)}else t.urahknl=!1;t.urahkdab5tc.pmd=!0,J()}};var h=\"Requests\";i.send('{\"failed'+h+'\":['+n(e)+'],\"successful'+h+'\":['+n(a)+\"]}\")}function Vt(t,e){for(var a=0;a<e.length;a++)if(e[a]===t)return a;return-1}try{var wt=2147483648,Xt=1103515245,Nt=12345,Mt=function(){function t(e,a){var r,n=[],i=typeof e;if(a&&\"object\"==i)for(r in e)try{n.push(t(e[r],a-1))}catch(t){}return n.length?n:\"string\"==i?e:e+\"\\0\"}var e=\"unknown\";try{e=t(navigator,void 0).toString()}catch(t){}return function(t){for(var e=0,a=0;a<t.length;a++)e+=t.charCodeAt(a);return e}(t(window.screen,1).toString()+e)+100*(new Date).getMilliseconds()}(),Ot=0,Ut=[],Ht={};j(t,\"message\",function(e){if(null!==e.data&&\"object\"==typeof e.data)try{var a=e.data,r=document.createElement(\"a\");if(r.href=e.origin,\"null\"===e.origin||window.location.hostname!=r.hostname)return;if(\"cc\"==a.c)kt(ut(a.d+\" > *\"),function(t,e){nt(e)});else if(\"cs\"==a.c)if(t[V(\"fmdsqfEtqqf\",-12)])for(var n=t[V(\"fmdsqfEtqqf\",-12)],i=a.d.replace(new RegExp(x(\"fVxzK30=\"),\"g\"),function(t){return\"}}\"}),h=i.replace(new RegExp(x(\"fVtefV0=\"),\"g\"),function(t){return t[0]+\"rll123rnd\"+t[1]}).split(\"rll123rnd\"),l=0;l<h.length;l++)n[V(\"uzeqdfDgxq\",-12)](h[l],n.cssRules.length);else{var n=D(\"style\");n.type=\"text/css\",C(n,a.d),_(qt,n)}else if(\"am\"==a.c)t.urahkdab54.a[a.d.i]?S(a.d.u):t.urahk30bAm[a.d.i]=a.d.u;else if(\"pc\"==a.c)t.urahkadaPc[a.d]=!0;else if(\"ev\"==a.c)t.urahk65bEv[a.d]=!0;else if(\"oc\"==a.c)t.urahk015Oc.push(a.d);else if(\"ac\"==a.c){var u=lt(a.d.slc),n=D(\"div\");n.innerHTML=a.d.cnt,kt(n.childNodes,function(t,e){u.appendChild(e)})}else if(\"js\"==a.c){var n=D(\"script\");_(Pt,n),C(n,a.d)}else if(\"if\"==a.c){var n=D(\"iframe\");n.src=a.d,n.style.display=\"none\",_(Pt,n)}else if(\"img\"==a.c)var o=function(){this.style.display=\"none\"},l=dt(a.d,o,o,Pt);else if(\"ss\"==a.c){var d={};t.urahkdab54.a[a.d]&&d[a.d]&&d[a.d](t.urahkdab54.a[a.d])}}catch(t){}},!1),t.TLXAZdd=Y,t.urahkf33Flags={},t.urahkf33Flags.welect={};var St=!0;if(t.urahka3eRnd=t.urahka3eRnd||Q(),!function(){return window.urahkf33Flags.crt=!0,t.urahkf33Flags.nw749lst=!0,!0}())return;var qt=lt(\"head\"),Pt=null;if(t.urahkdab5tc={},t.urahkdab5tc.pm=!1,t.urahkdab5tc.pmd=!1,/Firefox/.test(v()))if(-1!=v().indexOf(\"Safari\"));else if(t.urahkf33Flags.nw749lst){if(-1!=v().indexOf(\"Firefox\"))try{var Yt=t.indexedDB.open(\"test\");Yt.onerror=function(e){e.preventDefault(),t.urahknl=!0,t.urahkdab5tc.pmd=!0,t.urahkdab5tc.pm=!0,J()},Yt.onsuccess=function(t){t.preventDefault()}}catch(t){}var Jt=!1;Object.keys(t).forEach(function(e){t.hasOwnProperty(e)&&e.match(/^urahk.{3}NLRun$/g)&&(Jt=t[e])}),Jt?(t.urahknl=!0,t.urahkdab5tc.pmd=!0,J()):(t.urahk12aNLRun=!0,function(){function e(t,e){if(e.target){var a=e.target.src||\"\";if(\"\"!==a&&-1==a.indexOf(\"chrome-extension://\")){var r=new URL(a).hostname||\"\";\"\"!==r&&Vt(r,t)<0&&t.push(r)}}}var a=new Array,r=new Array,n=e.bind(null,a),i=e.bind(null,r);j(document,\"error\",n,!0),j(document,\"load\",i,!0),t.TLXAZnwld={error:{events:a,listener:n},load:{events:r,listener:i}},function(e){document.createElement=function(){var a=e.apply(this,arguments);return j(a,\"error\",t.TLXAZnwld.error.listener,!0),j(a,\"load\",t.TLXAZnwld.load.listener,!0),a}}(document.createElement)}(),function(){function e(){!function(){for(var e=0;e<t.TLXAZnwld.load.events.length;e++){var a=Vt(t.TLXAZnwld.load.events[e],t.TLXAZnwld.error.events);a>-1&&t.TLXAZnwld.error.events.splice(a,1)}}(),t.TLXAZnwld.error.events.length>0&&t.TLXAZnwld.load.events.length>0?bt(t.TLXAZnwld.error.events,t.TLXAZnwld.load.events,Zt(\"22dwrqdwr1gh2wpfrp2Z3ZH[uyzI[UH8WeZXyWhyN8YeYzNX]VEwtJmi<j:kR6u2\"+t.urahka3eRnd+\"MKRgwFMUvI<N9K6f<ewr{vX5Mg\\\\;l7yF7ikYPVzFOTylR|J1jli\",-3)):(t.urahkdab5tc.pmd=!0,J())}var a=0,r=0,n=0,i=0,h=0,l=0,u=W(function(){n=t.TLXAZnwld.error.events.size,i=t.TLXAZnwld.load.events.size,a=n+i,h<=10?(a-r==0&&h>0&&l++,l>4&&(Z(u),e(),l=0)):(Z(u),e()),r=a,h++},500)}())}else t.urahknl=!0,t.urahkdab5tc.pmd=!0,J();else t.urahkdab5tc.pmd=!0,J();try{t.addEventListener?j(t,x(\"YWRuZGRuZC5pbml0\"),I):t.attachEvent&&t.attachEvent(x(\"YWRuZGRuZC5pbml0\"),I),\"complete\"===e.readyState?I():(-1==v().search(\"Firefox\")&&(e.addEventListener?j(e,x(\"RE9NQ29udGVudExvYWRlZA==\"),I):e.attachEvent&&e.attachEvent(\"onreadystatechange\",function(){\"complete\"===e.readyState&&I()})),j(t,\"load\",I))}catch(t){I()}}catch(t){}}(window,document); /* 99339 */\n",
              "</script>\n",
              "<style>\n",
              "        @font-face {\n",
              "            font-family: 'OSL';\n",
              "            font-style: normal;\n",
              "            font-weight: normal;\n",
              "            src: local('Open Sans Cond Light'), local('OpenSans-CondensedLight'),\n",
              "                url(\"https://tmsi.akamaized.net/fonts/OpenSans-CondensedLight300.woff2\") format('woff2'),\n",
              "                url(\"https://tmsi.akamaized.net/fonts/OpenSans-CondensedLight.woff\") format('woff');\n",
              "            font-display: swap;\n",
              "        }\n",
              "\n",
              "        @font-face {\n",
              "            font-family: 'OSB';\n",
              "            font-style: normal;\n",
              "            font-weight: normal;\n",
              "            src: local('Open Sans Cond Light'), local('OpenSans-CondensedLight'),\n",
              "                url(\"https://tmsi.akamaized.net/fonts/OpenSans-CondensedLight300.woff2\") format('woff2'),\n",
              "                url(\"https://tmsi.akamaized.net/fonts/OpenSans-CondensedLight.woff\") format('woff');\n",
              "            font-display: swap;\n",
              "        }\n",
              "\n",
              "        @font-face {\n",
              "            font-family: 'Source Sans Pro';\n",
              "            font-style: normal;\n",
              "            font-weight: normal;\n",
              "            src: local('Source Sans Pro'), local('SourceSansPro-Regular'),\n",
              "                url(\"https://tmsi.akamaized.net/fonts/SourceSansPro-Regular400.woff2\") format('woff2'),\n",
              "                url(\"https://tmsi.akamaized.net/fonts/SourceSansPro-Regular.woff\") format('woff');\n",
              "            font-display: swap;\n",
              "        }\n",
              "\n",
              "        @font-face {\n",
              "            font-family: 'Source Sans Pro';\n",
              "            font-style: normal;\n",
              "            font-weight: bold;\n",
              "            src: local('Source Sans Pro Bold'), local('SourceSansPro-Bold'),\n",
              "                url(\"https://tmsi.akamaized.net/fonts/SourceSansPro-Bold700.woff2\") format('woff2'),\n",
              "                url(\"https://tmsi.akamaized.net/fonts/SourceSansPro-Bold.woff\") format('woff');\n",
              "            font-display: swap;\n",
              "        }\n",
              "\n",
              "        @font-face {\n",
              "            font-family: 'Oswald';\n",
              "            font-style: normal;\n",
              "            font-weight: lighter;\n",
              "            src:\n",
              "                url(\"https://tmsi.akamaized.net/fonts/Oswald-Light200.woff2\") format('woff2'),\n",
              "                url(\"https://tmsi.akamaized.net/fonts/oswald_light.woff\") format('woff');\n",
              "            font-display: swap;\n",
              "        }\n",
              "\n",
              "        @font-face {\n",
              "            font-family: 'Oswald';\n",
              "            font-style: normal;\n",
              "            font-weight: normal;\n",
              "            src:\n",
              "                url(\"https://tmsi.akamaized.net/fonts/Oswald-Regular400.woff2\") format('woff2'),\n",
              "                url(\"https://tmsi.akamaized.net/fonts/oswald_regular.woff\") format('woff');\n",
              "            font-display: swap;\n",
              "        }\n",
              "\n",
              "        @font-face {\n",
              "            font-family: 'Oswald';\n",
              "            font-style: normal;\n",
              "            font-weight: bold;\n",
              "            src:\n",
              "                url(\"https://tmsi.akamaized.net/fonts/Oswald-Bold700.woff2\") format('woff2'),\n",
              "                url(\"https://tmsi.akamaized.net/fonts/oswald_bold.woff\") format('woff');\n",
              "            font-display: swap;\n",
              "        }\n",
              "\n",
              "        @font-face {\n",
              "            font-family: \"socicon\";\n",
              "            src: url(\"https://tmsi.akamaized.net/fonts/socicon.eot\");\n",
              "            src: url(\"https://tmsi.akamaized.net/fonts/socicon.eot?#iefix\") format(\"embedded-opentype\"),\n",
              "                url(\"https://tmsi.akamaized.net/fonts/socicon.woff\") format(\"woff\"),\n",
              "                url(\"https://tmsi.akamaized.net/fonts/socicon.ttf\") format(\"truetype\"),\n",
              "                url(\"https://tmsi.akamaized.net/fonts/socicon.svg#socicon\") format(\"svg\");\n",
              "            font-weight: normal;\n",
              "            font-style: normal;\n",
              "            font-display: swap;\n",
              "        }\n",
              "    </style>\n",
              "</link></link></link></meta></meta></head>"
            ]
          },
          "metadata": {
            "tags": []
          },
          "execution_count": 10
        }
      ]
    },
    {
      "cell_type": "markdown",
      "metadata": {
        "id": "LS_bkzgt-v2L"
      },
      "source": [
        "### Deep Dive into the HTML code"
      ]
    },
    {
      "cell_type": "markdown",
      "metadata": {
        "id": "ianTQ5_2phHY"
      },
      "source": [
        "__Q:__ We need to be able to get a team's link. What do we need to do?\n",
        "\n",
        "[Link to Premier League](https://www.transfermarkt.com/premier-league/startseite/wettbewerb/GB1)"
      ]
    },
    {
      "cell_type": "code",
      "metadata": {
        "colab": {
          "base_uri": "https://localhost:8080/"
        },
        "id": "PJWSCb-bLeOc",
        "outputId": "f8db0268-2257-4041-f595-2e7eb5f487cf"
      },
      "source": [
        "len(soup.find_all('a'))"
      ],
      "execution_count": 11,
      "outputs": [
        {
          "output_type": "execute_result",
          "data": {
            "text/plain": [
              "603"
            ]
          },
          "metadata": {
            "tags": []
          },
          "execution_count": 11
        }
      ]
    },
    {
      "cell_type": "code",
      "metadata": {
        "id": "sdpLHdY7Q0YZ"
      },
      "source": [
        "liverpool = soup.find_all('a', id = '31')"
      ],
      "execution_count": 12,
      "outputs": []
    },
    {
      "cell_type": "code",
      "metadata": {
        "colab": {
          "base_uri": "https://localhost:8080/"
        },
        "id": "zMYyldl1RBAX",
        "outputId": "ab9f74f7-dc36-4392-8199-111dd9578235"
      },
      "source": [
        "liverpool"
      ],
      "execution_count": 13,
      "outputs": [
        {
          "output_type": "execute_result",
          "data": {
            "text/plain": [
              "[<a class=\"vereinprofil_tooltip\" href=\"/fc-liverpool/startseite/verein/31/saison_id/2020\" id=\"31\">Liverpool FC</a>,\n",
              " <a class=\"vereinprofil_tooltip\" href=\"/fc-liverpool/startseite/verein/31/saison_id/2020\" id=\"31\">Liverpool</a>,\n",
              " <a class=\"vereinprofil_tooltip\" href=\"/fc-liverpool/spielplan/verein/31/saison_id/2020\" id=\"31\"><img alt=\"Liverpool FC\" class=\"\" src=\"https://tmssl.akamaized.net/images/wappen/homepage/31.png?lm=1456567819\" title=\" \"/></a>,\n",
              " <a class=\"vereinprofil_tooltip\" href=\"/fc-liverpool/spielplan/verein/31/saison_id/2020\" id=\"31\">Liverpool</a>,\n",
              " <a class=\"vereinprofil_tooltip\" href=\"/fc-liverpool/spielplan/verein/31/saison_id/2020\" id=\"31\">Liverpool</a>,\n",
              " <a class=\"vereinprofil_tooltip\" href=\"/fc-liverpool/spielplan/verein/31/saison_id/2020\" id=\"31\"><img alt=\"Liverpool FC\" class=\"\" src=\"https://tmssl.akamaized.net/images/wappen/homepage/31.png?lm=1456567819\" title=\" \"/></a>,\n",
              " <a class=\"vereinprofil_tooltip\" href=\"/fc-liverpool/spielplan/verein/31/saison_id/2020\" id=\"31\"><img alt=\"Liverpool FC\" class=\"\" src=\"https://tmssl.akamaized.net/images/wappen/homepage/31.png?lm=1456567819\" title=\" \"/></a>,\n",
              " <a class=\"vereinprofil_tooltip\" href=\"/fc-liverpool/spielplan/verein/31/saison_id/2020\" id=\"31\">Liverpool</a>,\n",
              " <a class=\"vereinprofil_tooltip\" href=\"/fc-liverpool/spielplan/verein/31\" id=\"31\"><img alt=\"Liverpool FC\" class=\"\" src=\"https://tmssl.akamaized.net/images/wappen/homepage/31.png?lm=1456567819\" title=\" \"/></a>,\n",
              " <a class=\"vereinprofil_tooltip\" href=\"/fc-liverpool/spielplan/verein/31\" id=\"31\">Liverpool</a>,\n",
              " <a class=\"vereinprofil_tooltip\" href=\"/fc-liverpool/startseite/verein/31/saison_id/2020\" id=\"31\"><img alt=\"Liverpool FC\" class=\"\" src=\"https://tmssl.akamaized.net/images/wappen/verysmall/31.png?lm=1456567819\" title=\" \"/></a>,\n",
              " <a class=\"vereinprofil_tooltip\" href=\"/fc-liverpool/startseite/verein/31/saison_id/2020\" id=\"31\"><img alt=\"Liverpool FC\" class=\"\" src=\"https://tmssl.akamaized.net/images/wappen/verysmall/31.png?lm=1456567819\" title=\" \"/></a>,\n",
              " <a class=\"vereinprofil_tooltip\" href=\"/fc-liverpool/startseite/verein/31/saison_id/2020\" id=\"31\"><img alt=\"Liverpool FC\" class=\"\" src=\"https://tmssl.akamaized.net/images/wappen/verysmall/31.png?lm=1456567819\" title=\" \"/></a>,\n",
              " <a class=\"vereinprofil_tooltip\" href=\"/fc-liverpool/spielplan/verein/31/saison_id/2020\" id=\"31\"><img alt=\"Liverpool FC\" class=\"tiny_wappen\" src=\"https://tmssl.akamaized.net/images/wappen/tiny/31.png?lm=1456567819\" title=\" \"/></a>,\n",
              " <a class=\"vereinprofil_tooltip\" href=\"/fc-liverpool/spielplan/verein/31/saison_id/2020\" id=\"31\">Liverpool</a>]"
            ]
          },
          "metadata": {
            "tags": []
          },
          "execution_count": 13
        }
      ]
    },
    {
      "cell_type": "code",
      "metadata": {
        "colab": {
          "base_uri": "https://localhost:8080/"
        },
        "id": "N_6PcnSzQ7A9",
        "outputId": "60a64242-4c48-430b-b964-1647960673aa"
      },
      "source": [
        "len(liverpool)"
      ],
      "execution_count": 14,
      "outputs": [
        {
          "output_type": "execute_result",
          "data": {
            "text/plain": [
              "15"
            ]
          },
          "metadata": {
            "tags": []
          },
          "execution_count": 14
        }
      ]
    },
    {
      "cell_type": "code",
      "metadata": {
        "id": "uDHipqIULdfs"
      },
      "source": [
        "table = soup.find_all('div', id = 'yw1')"
      ],
      "execution_count": 15,
      "outputs": []
    },
    {
      "cell_type": "code",
      "metadata": {
        "colab": {
          "base_uri": "https://localhost:8080/"
        },
        "id": "5VT7mwP1RL0I",
        "outputId": "54b0de72-ec99-421b-9873-5ceea93951fd"
      },
      "source": [
        "len(table)"
      ],
      "execution_count": 16,
      "outputs": [
        {
          "output_type": "execute_result",
          "data": {
            "text/plain": [
              "1"
            ]
          },
          "metadata": {
            "tags": []
          },
          "execution_count": 16
        }
      ]
    },
    {
      "cell_type": "code",
      "metadata": {
        "colab": {
          "base_uri": "https://localhost:8080/"
        },
        "id": "2d96EAYiOINp",
        "outputId": "69c75f31-8a02-4477-cbc9-889d9be6d830"
      },
      "source": [
        "type(table)"
      ],
      "execution_count": 17,
      "outputs": [
        {
          "output_type": "execute_result",
          "data": {
            "text/plain": [
              "bs4.element.ResultSet"
            ]
          },
          "metadata": {
            "tags": []
          },
          "execution_count": 17
        }
      ]
    },
    {
      "cell_type": "code",
      "metadata": {
        "id": "foABffhpOhV8"
      },
      "source": [
        "tbody = table[0].find('table', class_ = 'items').tbody"
      ],
      "execution_count": 18,
      "outputs": []
    },
    {
      "cell_type": "code",
      "metadata": {
        "colab": {
          "base_uri": "https://localhost:8080/"
        },
        "id": "UpvMdGuoSy9G",
        "outputId": "6e0a9486-9241-4dad-88b1-5663566ccde0"
      },
      "source": [
        "tbody.find_all('td', class_ = \"hauptlink no-border-links hide-for-small hide-for-pad\")"
      ],
      "execution_count": 19,
      "outputs": [
        {
          "output_type": "execute_result",
          "data": {
            "text/plain": [
              "[<td class=\"hauptlink no-border-links hide-for-small hide-for-pad\"><a class=\"vereinprofil_tooltip\" href=\"/manchester-city/startseite/verein/281/saison_id/2020\" id=\"281\">Manchester City</a> </td>,\n",
              " <td class=\"hauptlink no-border-links hide-for-small hide-for-pad\"><a class=\"vereinprofil_tooltip\" href=\"/fc-liverpool/startseite/verein/31/saison_id/2020\" id=\"31\">Liverpool FC</a> <a href=\"#\"><img alt=\"English Champion 19/20\" class=\"tabelle-erfolg\" src=\"https://tmssl.akamaized.net/images/erfolge/mini/12.png?lm=1520606997\" title=\"English Champion 19/20\"/></a></td>,\n",
              " <td class=\"hauptlink no-border-links hide-for-small hide-for-pad\"><a class=\"vereinprofil_tooltip\" href=\"/fc-chelsea/startseite/verein/631/saison_id/2020\" id=\"631\">Chelsea FC</a> </td>,\n",
              " <td class=\"hauptlink no-border-links hide-for-small hide-for-pad\"><a class=\"vereinprofil_tooltip\" href=\"/manchester-united/startseite/verein/985/saison_id/2020\" id=\"985\">Manchester United</a> </td>,\n",
              " <td class=\"hauptlink no-border-links hide-for-small hide-for-pad\"><a class=\"vereinprofil_tooltip\" href=\"/tottenham-hotspur/startseite/verein/148/saison_id/2020\" id=\"148\">Tottenham Hotspur</a> </td>,\n",
              " <td class=\"hauptlink no-border-links hide-for-small hide-for-pad\"><a class=\"vereinprofil_tooltip\" href=\"/fc-arsenal/startseite/verein/11/saison_id/2020\" id=\"11\">Arsenal FC</a> <a href=\"#\"><img alt=\"FA Cup Winner 19/20\" class=\"tabelle-erfolg\" src=\"https://tmssl.akamaized.net/images/erfolge/mini/29.png?lm=1520606999\" title=\"FA Cup Winner 19/20\"/></a></td>,\n",
              " <td class=\"hauptlink no-border-links hide-for-small hide-for-pad\"><a class=\"vereinprofil_tooltip\" href=\"/leicester-city/startseite/verein/1003/saison_id/2020\" id=\"1003\">Leicester City</a> </td>,\n",
              " <td class=\"hauptlink no-border-links hide-for-small hide-for-pad\"><a class=\"vereinprofil_tooltip\" href=\"/fc-everton/startseite/verein/29/saison_id/2020\" id=\"29\">Everton FC</a> </td>,\n",
              " <td class=\"hauptlink no-border-links hide-for-small hide-for-pad\"><a class=\"vereinprofil_tooltip\" href=\"/wolverhampton-wanderers/startseite/verein/543/saison_id/2020\" id=\"543\">Wolverhampton Wanderers</a> </td>,\n",
              " <td class=\"hauptlink no-border-links hide-for-small hide-for-pad\"><a class=\"vereinprofil_tooltip\" href=\"/aston-villa/startseite/verein/405/saison_id/2020\" id=\"405\">Aston Villa</a> </td>,\n",
              " <td class=\"hauptlink no-border-links hide-for-small hide-for-pad\"><a class=\"vereinprofil_tooltip\" href=\"/west-ham-united/startseite/verein/379/saison_id/2020\" id=\"379\">West Ham United</a> </td>,\n",
              " <td class=\"hauptlink no-border-links hide-for-small hide-for-pad\"><a class=\"vereinprofil_tooltip\" href=\"/brighton-amp-hove-albion/startseite/verein/1237/saison_id/2020\" id=\"1237\">Brighton &amp; Hove Albion</a> </td>,\n",
              " <td class=\"hauptlink no-border-links hide-for-small hide-for-pad\"><a class=\"vereinprofil_tooltip\" href=\"/newcastle-united/startseite/verein/762/saison_id/2020\" id=\"762\">Newcastle United</a> </td>,\n",
              " <td class=\"hauptlink no-border-links hide-for-small hide-for-pad\"><a class=\"vereinprofil_tooltip\" href=\"/fc-southampton/startseite/verein/180/saison_id/2020\" id=\"180\">Southampton FC</a> </td>,\n",
              " <td class=\"hauptlink no-border-links hide-for-small hide-for-pad\"><a class=\"vereinprofil_tooltip\" href=\"/fc-fulham/startseite/verein/931/saison_id/2020\" id=\"931\">Fulham FC</a> <span class=\"icons_sprite icon-aufsteiger\" title=\"Promoted to 1st league 19/20\"> </span></td>,\n",
              " <td class=\"hauptlink no-border-links hide-for-small hide-for-pad\"><a class=\"vereinprofil_tooltip\" href=\"/leeds-united/startseite/verein/399/saison_id/2020\" id=\"399\">Leeds United</a> <span class=\"icons_sprite icon-aufsteiger\" title=\"Promoted to 1st league 19/20\"> </span></td>,\n",
              " <td class=\"hauptlink no-border-links hide-for-small hide-for-pad\"><a class=\"vereinprofil_tooltip\" href=\"/crystal-palace/startseite/verein/873/saison_id/2020\" id=\"873\">Crystal Palace</a> </td>,\n",
              " <td class=\"hauptlink no-border-links hide-for-small hide-for-pad\"><a class=\"vereinprofil_tooltip\" href=\"/sheffield-united/startseite/verein/350/saison_id/2020\" id=\"350\">Sheffield United</a> </td>,\n",
              " <td class=\"hauptlink no-border-links hide-for-small hide-for-pad\"><a class=\"vereinprofil_tooltip\" href=\"/fc-burnley/startseite/verein/1132/saison_id/2020\" id=\"1132\">Burnley FC</a> </td>,\n",
              " <td class=\"hauptlink no-border-links hide-for-small hide-for-pad\"><a class=\"vereinprofil_tooltip\" href=\"/west-bromwich-albion/startseite/verein/984/saison_id/2020\" id=\"984\">West Bromwich Albion</a> <span class=\"icons_sprite icon-aufsteiger\" title=\"Promoted to 1st league 19/20\"> </span></td>]"
            ]
          },
          "metadata": {
            "tags": []
          },
          "execution_count": 19
        }
      ]
    },
    {
      "cell_type": "code",
      "metadata": {
        "id": "AE-qSmforUud",
        "colab": {
          "base_uri": "https://localhost:8080/"
        },
        "outputId": "375c18c1-3643-4071-e062-8099ceb3320e"
      },
      "source": [
        "## discuss how can we progress in html tree to access links\n",
        "\n",
        "url = 'https://www.transfermarkt.com/premier-league/startseite/wettbewerb/GB1'\n",
        "\n",
        "headers = {'User-Agent': \n",
        "        'Mozilla/5.0 (X11; Linux x86_64) AppleWebKit/537.36 (KHTML, like Gecko) Chrome/47.0.2526.106 Safari/537.36'}\n",
        "\n",
        "page = requests.get(url, headers = headers, timeout = 5)\n",
        "\n",
        "print(page.status_code)\n",
        "\n",
        "soup = BeautifulSoup(page.content, 'html.parser')"
      ],
      "execution_count": 20,
      "outputs": [
        {
          "output_type": "stream",
          "text": [
            "200\n"
          ],
          "name": "stdout"
        }
      ]
    },
    {
      "cell_type": "code",
      "metadata": {
        "colab": {
          "base_uri": "https://localhost:8080/"
        },
        "id": "ZYqI3IN7Tca9",
        "outputId": "4618817e-708f-4232-dd8a-44f199e92560"
      },
      "source": [
        "## We realized that the table we are looking for has\n",
        "## 'div' tag and id = 'yw1'\n",
        "## And we experimented with this and realized that there is only one such table\n",
        "\n",
        "table = soup.find('div', {'id': 'yw1'})\n",
        "\n",
        "table_items = table.find('table', class_ = 'items')\n",
        "\n",
        "tbody = table_items.findChild('tbody')\n",
        "\n",
        "cells = tbody.find_all('td', class_ = \"hauptlink no-border-links hide-for-small hide-for-pad\")\n",
        "\n",
        "for cell in cells:\n",
        "  print(cell.text)\n",
        "  print(cell.a.get('href'))"
      ],
      "execution_count": 21,
      "outputs": [
        {
          "output_type": "stream",
          "text": [
            "Manchester City \n",
            "/manchester-city/startseite/verein/281/saison_id/2020\n",
            "Liverpool FC \n",
            "/fc-liverpool/startseite/verein/31/saison_id/2020\n",
            "Chelsea FC \n",
            "/fc-chelsea/startseite/verein/631/saison_id/2020\n",
            "Manchester United \n",
            "/manchester-united/startseite/verein/985/saison_id/2020\n",
            "Tottenham Hotspur \n",
            "/tottenham-hotspur/startseite/verein/148/saison_id/2020\n",
            "Arsenal FC \n",
            "/fc-arsenal/startseite/verein/11/saison_id/2020\n",
            "Leicester City \n",
            "/leicester-city/startseite/verein/1003/saison_id/2020\n",
            "Everton FC \n",
            "/fc-everton/startseite/verein/29/saison_id/2020\n",
            "Wolverhampton Wanderers \n",
            "/wolverhampton-wanderers/startseite/verein/543/saison_id/2020\n",
            "Aston Villa \n",
            "/aston-villa/startseite/verein/405/saison_id/2020\n",
            "West Ham United \n",
            "/west-ham-united/startseite/verein/379/saison_id/2020\n",
            "Brighton & Hove Albion \n",
            "/brighton-amp-hove-albion/startseite/verein/1237/saison_id/2020\n",
            "Newcastle United \n",
            "/newcastle-united/startseite/verein/762/saison_id/2020\n",
            "Southampton FC \n",
            "/fc-southampton/startseite/verein/180/saison_id/2020\n",
            "Fulham FC  \n",
            "/fc-fulham/startseite/verein/931/saison_id/2020\n",
            "Leeds United  \n",
            "/leeds-united/startseite/verein/399/saison_id/2020\n",
            "Crystal Palace \n",
            "/crystal-palace/startseite/verein/873/saison_id/2020\n",
            "Sheffield United \n",
            "/sheffield-united/startseite/verein/350/saison_id/2020\n",
            "Burnley FC \n",
            "/fc-burnley/startseite/verein/1132/saison_id/2020\n",
            "West Bromwich Albion  \n",
            "/west-bromwich-albion/startseite/verein/984/saison_id/2020\n"
          ],
          "name": "stdout"
        }
      ]
    },
    {
      "cell_type": "code",
      "metadata": {
        "id": "AqdbGk-Nr5so"
      },
      "source": [
        "## Note that find_all will return a list.\n",
        "## if there is no match then the list will be empty list\n",
        "## Find table with class = 'items' save it as table_items\n"
      ],
      "execution_count": 22,
      "outputs": []
    },
    {
      "cell_type": "code",
      "metadata": {
        "id": "pk5zP23qslIN"
      },
      "source": [
        "## check table with class_ items\n"
      ],
      "execution_count": 23,
      "outputs": []
    },
    {
      "cell_type": "code",
      "metadata": {
        "id": "S6Vgc08ss01F"
      },
      "source": [
        "## Here we could use also the findChild method to table items\n",
        "## Note that there is a 'tbody' as the child for table_items"
      ],
      "execution_count": 24,
      "outputs": []
    },
    {
      "cell_type": "code",
      "metadata": {
        "id": "b3eyqu1nubTB"
      },
      "source": [
        "## In addition to find_all or find method we can use fingChild and/or findChildren methods\n",
        "\n",
        "## also we can use dictionaries to pass more than one descriptors like \n",
        "\n"
      ],
      "execution_count": 25,
      "outputs": []
    },
    {
      "cell_type": "code",
      "metadata": {
        "id": "1wNxgfy8ySa2"
      },
      "source": [
        "## in this cell we will see that we can easily get a tag as an attribute \n",
        "## also we can access to the text in this tag with .text method\n",
        "\n"
      ],
      "execution_count": 26,
      "outputs": []
    },
    {
      "cell_type": "code",
      "metadata": {
        "id": "v6Xt_6X1tnW5"
      },
      "source": [
        "## In this cell we will see that we can easily get the links with .get method\n"
      ],
      "execution_count": 27,
      "outputs": []
    },
    {
      "cell_type": "markdown",
      "metadata": {
        "id": "PMRYo1bXv6JK"
      },
      "source": [
        "__Your Turn__\n",
        "\n",
        "1. Create a function called `soup_maker`. This function should take a string input, named `url` and produce soup object of the page. \n",
        "\n",
        "2. Create a function `team_link_generator` which should take the English Premier League url and return the team names and their corresponding url's as a dictionary"
      ]
    },
    {
      "cell_type": "code",
      "metadata": {
        "id": "I2pBtYEmv53S"
      },
      "source": [
        "def soup_maker(url):\n",
        "  ## your code is here\n",
        "  headers = {'User-Agent': \n",
        "        'Mozilla/5.0 (X11; Linux x86_64) AppleWebKit/537.36 (KHTML, like Gecko) Chrome/47.0.2526.106 Safari/537.36'}\n",
        "\n",
        "  page = requests.get(url, headers = headers, timeout = 5)\n",
        "\n",
        "  #print(page.status_code)\n",
        "\n",
        "  soup = BeautifulSoup(page.content, 'html.parser')\n",
        "\n",
        "  return soup\n",
        "\n",
        "def team_link_generator(league_url):\n",
        "  ## your code is here\n",
        "  soup = soup_maker(league_url)\n",
        "  table = soup.find('div', {'id': 'yw1'})\n",
        "\n",
        "  table_items = table.find('table', class_ = 'items')\n",
        "\n",
        "  tbody = table_items.findChild('tbody')\n",
        "\n",
        "  cells = tbody.find_all('td', class_ = \"hauptlink no-border-links hide-for-small hide-for-pad\")\n",
        "  base_url = 'www.transfermarkt.com'\n",
        "  team_links = {}\n",
        "  for cell in cells:\n",
        "    team_name = cell.text\n",
        "    team_url = base_url + cell.a.get('href')\n",
        "    team_links[team_name] = team_url\n",
        "  return team_links"
      ],
      "execution_count": 54,
      "outputs": []
    },
    {
      "cell_type": "code",
      "metadata": {
        "id": "D1YgNxfhc31O"
      },
      "source": [
        "team_links = team_link_generator(league_url= \"https://www.transfermarkt.com/premier-league/startseite/wettbewerb/GB1\")"
      ],
      "execution_count": 55,
      "outputs": []
    },
    {
      "cell_type": "markdown",
      "metadata": {
        "id": "bS-sZLjD8n9Z"
      },
      "source": [
        ""
      ]
    },
    {
      "cell_type": "code",
      "metadata": {
        "colab": {
          "base_uri": "https://localhost:8080/",
          "height": 37
        },
        "id": "bVjddNTfhiP2",
        "outputId": "2bec4b95-3396-4efc-b4d0-2201448be2c5"
      },
      "source": [
        "team_links['Liverpool FC ']"
      ],
      "execution_count": 56,
      "outputs": [
        {
          "output_type": "execute_result",
          "data": {
            "application/vnd.google.colaboratory.intrinsic+json": {
              "type": "string"
            },
            "text/plain": [
              "'www.transfermarkt.com/fc-liverpool/startseite/verein/31/saison_id/2020'"
            ]
          },
          "metadata": {
            "tags": []
          },
          "execution_count": 56
        }
      ]
    },
    {
      "cell_type": "code",
      "metadata": {
        "id": "0OZ9o5f55sn5",
        "colab": {
          "base_uri": "https://localhost:8080/"
        },
        "outputId": "32c7ce08-fea0-44b5-c536-7208895d1b8d"
      },
      "source": [
        "## get team_links\n",
        "\n",
        "team_link_generator(league_url= \"https://www.transfermarkt.com/super-lig/startseite/wettbewerb/TR1\")"
      ],
      "execution_count": 57,
      "outputs": [
        {
          "output_type": "execute_result",
          "data": {
            "text/plain": [
              "{'Alanyaspor ': 'www.transfermarkt.com/alanyaspor/startseite/verein/11282/saison_id/2020',\n",
              " 'Antalyaspor ': 'www.transfermarkt.com/antalyaspor/startseite/verein/589/saison_id/2020',\n",
              " 'Besiktas JK ': 'www.transfermarkt.com/besiktas-istanbul/startseite/verein/114/saison_id/2020',\n",
              " 'Büyüksehir Belediye Erzurumspor \\xa0': 'www.transfermarkt.com/buyuksehir-belediye-erzurumspor/startseite/verein/39722/saison_id/2020',\n",
              " 'Caykur Rizespor ': 'www.transfermarkt.com/caykur-rizespor/startseite/verein/126/saison_id/2020',\n",
              " 'Denizlispor ': 'www.transfermarkt.com/denizlispor/startseite/verein/833/saison_id/2020',\n",
              " 'Fatih Karagümrük \\xa0': 'www.transfermarkt.com/fatih-karagumruk/startseite/verein/6646/saison_id/2020',\n",
              " 'Fenerbahce SK ': 'www.transfermarkt.com/fenerbahce-istanbul/startseite/verein/36/saison_id/2020',\n",
              " 'Galatasaray SK ': 'www.transfermarkt.com/galatasaray-istanbul/startseite/verein/141/saison_id/2020',\n",
              " 'Gaziantep FK ': 'www.transfermarkt.com/gaziantep-fk/startseite/verein/2832/saison_id/2020',\n",
              " 'Genclerbirligi Ankara ': 'www.transfermarkt.com/genclerbirligi-ankara/startseite/verein/820/saison_id/2020',\n",
              " 'Göztepe ': 'www.transfermarkt.com/goztepe/startseite/verein/1467/saison_id/2020',\n",
              " 'Hatayspor \\xa0': 'www.transfermarkt.com/hatayspor/startseite/verein/7775/saison_id/2020',\n",
              " 'Istanbul Basaksehir FK ': 'www.transfermarkt.com/istanbul-basaksehir-fk/startseite/verein/6890/saison_id/2020',\n",
              " 'Kasimpasa ': 'www.transfermarkt.com/kasimpasa/startseite/verein/10484/saison_id/2020',\n",
              " 'Kayserispor ': 'www.transfermarkt.com/kayserispor/startseite/verein/3205/saison_id/2020',\n",
              " 'Konyaspor ': 'www.transfermarkt.com/konyaspor/startseite/verein/2293/saison_id/2020',\n",
              " 'MKE Ankaragücü ': 'www.transfermarkt.com/mke-ankaragucu/startseite/verein/868/saison_id/2020',\n",
              " 'Sivasspor ': 'www.transfermarkt.com/sivasspor/startseite/verein/2381/saison_id/2020',\n",
              " 'Trabzonspor ': 'www.transfermarkt.com/trabzonspor/startseite/verein/449/saison_id/2020',\n",
              " 'Yeni Malatyaspor ': 'www.transfermarkt.com/yeni-malatyaspor/startseite/verein/19789/saison_id/2020'}"
            ]
          },
          "metadata": {
            "tags": []
          },
          "execution_count": 57
        }
      ]
    },
    {
      "cell_type": "markdown",
      "metadata": {
        "id": "uOt_Eme11Jhb"
      },
      "source": [
        "## Getting a Individual Players' Links"
      ]
    },
    {
      "cell_type": "markdown",
      "metadata": {
        "id": "do1_BLQG7Uvt"
      },
      "source": [
        "Above we were able to get each Premier League team's link from transfermarkt.com. Now, let's see a team's page: [Liverpool](https://www.transfermarkt.com/fc-liverpool/startseite/verein/31/saison_id/2020)\n",
        "\n",
        "- Recall that ultimately we would like to be able to access player's transfer records.\n",
        "\n",
        "- So if we want to get all the Premier League player's data first we should be able to get their links. In this section we will see how to achieve this. "
      ]
    },
    {
      "cell_type": "code",
      "metadata": {
        "id": "DTwwDkvlr6bx"
      },
      "source": [
        "## This part will de done during the lecture.\n",
        "## First let's inspect the team's pages from transfermarkt\n",
        "\n",
        "def player_link_generator(team_url):\n",
        "    pass"
      ],
      "execution_count": 58,
      "outputs": []
    },
    {
      "cell_type": "markdown",
      "metadata": {
        "id": "1Ouvr19U8RhO"
      },
      "source": [
        "# Lab"
      ]
    },
    {
      "cell_type": "markdown",
      "metadata": {
        "id": "WNOZPv7s8UCz"
      },
      "source": [
        "- We are only one step away from our goal. Now you will be finishing the remaining part of the job. Let's summarize what we have done so far:\n",
        "\n",
        "1. Given a league_url (Premier League in this case) we first get all the team's url.\n",
        "\n",
        "2. Given a Premier League team's url (We used Liverpool FC as an example) we can now get all the players playing for this team. \n",
        "\n",
        "__Your Task__\n",
        "\n",
        "\n",
        "\n"
      ]
    },
    {
      "cell_type": "markdown",
      "metadata": {
        "id": "QFAodmXsVFXF"
      },
      "source": [
        "1. From a team page (for example [Manchester United](https://www.transfermarkt.com/manchester-united/startseite/verein/985/saison_id/2020)) extract all the players' names and links to their page."
      ]
    },
    {
      "cell_type": "code",
      "metadata": {
        "id": "tjhQ1Z4s5IpK"
      },
      "source": [
        "def players_link_generator(url):\n",
        "    soup = soup_maker(url)\n",
        "    table_items = soup.find('table', class_='items')\n",
        "    tbody = table_items.findChild('tbody')\n",
        "    cells = tbody.find_all('span', class_ = \"show-for-small\")\n",
        "    base_url = 'https://www.transfermarkt.com'\n",
        "    player_links = {}\n",
        "    for cell in cells:\n",
        "      player_name=cell.text\n",
        "      player_url=base_url + cell.a.get('href')\n",
        "      player_links[player_name] = player_url\n",
        "  \n",
        "    return(player_links)"
      ],
      "execution_count": 59,
      "outputs": []
    },
    {
      "cell_type": "code",
      "metadata": {
        "colab": {
          "base_uri": "https://localhost:8080/"
        },
        "id": "AtAsHbOY7OU9",
        "outputId": "77308271-25c1-441a-c48e-c170d8b72148"
      },
      "source": [
        "players_link_generator('https://www.transfermarkt.com/manchester-united/startseite/verein/985/saison_id/2020')"
      ],
      "execution_count": 60,
      "outputs": [
        {
          "output_type": "execute_result",
          "data": {
            "text/plain": [
              "{'A. Diallo': 'https://www.transfermarkt.com/amad-diallo/profil/spieler/536835',\n",
              " 'A. Elanga': 'https://www.transfermarkt.com/anthony-elanga/profil/spieler/583189',\n",
              " 'A. Martial': 'https://www.transfermarkt.com/anthony-martial/profil/spieler/182877',\n",
              " 'A. Telles': 'https://www.transfermarkt.com/alex-telles/profil/spieler/255755',\n",
              " 'A. Tuanzebe': 'https://www.transfermarkt.com/axel-tuanzebe/profil/spieler/342046',\n",
              " 'A. Wan-Bissaka': 'https://www.transfermarkt.com/aaron-wan-bissaka/profil/spieler/477758',\n",
              " 'B. Fernandes': 'https://www.transfermarkt.com/bruno-fernandes/profil/spieler/240306',\n",
              " 'B. Williams': 'https://www.transfermarkt.com/brandon-williams/profil/spieler/507700',\n",
              " 'D. Henderson': 'https://www.transfermarkt.com/dean-henderson/profil/spieler/258919',\n",
              " 'D. James': 'https://www.transfermarkt.com/daniel-james/profil/spieler/319301',\n",
              " 'D. de Gea': 'https://www.transfermarkt.com/david-de-gea/profil/spieler/59377',\n",
              " 'D. van de Beek': 'https://www.transfermarkt.com/donny-van-de-beek/profil/spieler/288255',\n",
              " 'E. Bailly': 'https://www.transfermarkt.com/eric-bailly/profil/spieler/286384',\n",
              " 'E. Cavani': 'https://www.transfermarkt.com/edinson-cavani/profil/spieler/48280',\n",
              " 'E. Galbraith': 'https://www.transfermarkt.com/ethan-galbraith/profil/spieler/433991',\n",
              " 'Fred': 'https://www.transfermarkt.com/fred/profil/spieler/191614',\n",
              " 'H. Maguire': 'https://www.transfermarkt.com/harry-maguire/profil/spieler/177907',\n",
              " 'H. Mejbri': 'https://www.transfermarkt.com/hannibal-mejbri/profil/spieler/607224',\n",
              " 'Juan Mata': 'https://www.transfermarkt.com/juan-mata/profil/spieler/44068',\n",
              " 'Lee Grant': 'https://www.transfermarkt.com/lee-grant/profil/spieler/13460',\n",
              " 'Luke Shaw': 'https://www.transfermarkt.com/luke-shaw/profil/spieler/183288',\n",
              " 'M. Greenwood': 'https://www.transfermarkt.com/mason-greenwood/profil/spieler/532826',\n",
              " 'M. Rashford': 'https://www.transfermarkt.com/marcus-rashford/profil/spieler/258923',\n",
              " 'N. Bishop': 'https://www.transfermarkt.com/nathan-bishop/profil/spieler/495033',\n",
              " 'N. Matic': 'https://www.transfermarkt.com/nemanja-matic/profil/spieler/74683',\n",
              " 'P. Jones': 'https://www.transfermarkt.com/phil-jones/profil/spieler/117996',\n",
              " 'P. Pogba': 'https://www.transfermarkt.com/paul-pogba/profil/spieler/122153',\n",
              " 'S. McTominay': 'https://www.transfermarkt.com/scott-mctominay/profil/spieler/315969',\n",
              " 'S. Romero': 'https://www.transfermarkt.com/sergio-romero/profil/spieler/30690',\n",
              " 'V. Lindelöf': 'https://www.transfermarkt.com/victor-lindelof/profil/spieler/184573'}"
            ]
          },
          "metadata": {
            "tags": []
          },
          "execution_count": 60
        }
      ]
    },
    {
      "cell_type": "markdown",
      "metadata": {
        "id": "dFHNSYsoVED5"
      },
      "source": [
        "2. For a given player's url (for example, [Paul Pogba](https://www.transfermarkt.com/paul-pogba/profil/spieler/122153)) extract all the transfer history of this player. See below for an example."
      ]
    },
    {
      "cell_type": "markdown",
      "metadata": {
        "id": "UYYxW-p7Ug1y"
      },
      "source": [
        "![Screen Shot 2021-04-30 at 11.07.02 AM.png](data:image/png;base64,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)"
      ]
    },
    {
      "cell_type": "code",
      "metadata": {
        "id": "8Nwnq8i-9uf0"
      },
      "source": [
        "def transfer_history(url):\n",
        "  soup = soup_maker(url)\n",
        "  table = soup.find_all('tr',class_='zeile-transfer' )\n",
        "  transf_hist=[]\n",
        "  for history in table:\n",
        "    a1=[]\n",
        "    a2=history.text.split(\"\\n\")\n",
        "    for item in a2:\n",
        "      if item !='' and item!= ' ' :\n",
        "        a1.append(item)\n",
        "    transf_hist.append(a1)\n",
        "  return  transf_hist"
      ],
      "execution_count": 71,
      "outputs": []
    },
    {
      "cell_type": "code",
      "metadata": {
        "colab": {
          "base_uri": "https://localhost:8080/"
        },
        "id": "ItqhApK_-ske",
        "outputId": "a0751f8a-88ba-4744-c7b2-bb10876b5348"
      },
      "source": [
        "transfer_history('https://www.transfermarkt.com/paul-pogba/profil/spieler/122153')"
      ],
      "execution_count": 72,
      "outputs": [
        {
          "output_type": "execute_result",
          "data": {
            "text/plain": [
              "[['16/17', 'Aug 9, 2016', 'Juventus', 'Man Utd', '€70.00m', '€105.00m'],\n",
              " ['12/13',\n",
              "  'Aug 3, 2012',\n",
              "  'Man Utd U23',\n",
              "  'Juventus',\n",
              "  '€3.50m',\n",
              "  'free transfer'],\n",
              " ['11/12', 'Jul 1, 2011', 'Man Utd U18', 'Man Utd U23', '-', '-'],\n",
              " ['09/10', 'Jul 1, 2009', 'Le Havre U17', 'Man Utd U18', '-', '?'],\n",
              " ['07/08',\n",
              "  'Jul 1, 2007',\n",
              "  'US Torcy Yth.',\n",
              "  'Le Havre U17',\n",
              "  '-',\n",
              "  'free transfer']]"
            ]
          },
          "metadata": {
            "tags": []
          },
          "execution_count": 72
        }
      ]
    },
    {
      "cell_type": "markdown",
      "metadata": {
        "id": "UGumemZjUf6N"
      },
      "source": [
        "3. Write a function that combines this work with the ones above so that in this function you create a dataset that contains all Premier Leagu Player's transfer history. Save the dataframe as `premiere_league.csv` under a folder named `data`."
      ]
    },
    {
      "cell_type": "code",
      "metadata": {
        "id": "v4IIjI6zDzpY"
      },
      "source": [
        "import pandas as pd"
      ],
      "execution_count": 78,
      "outputs": []
    },
    {
      "cell_type": "code",
      "metadata": {
        "id": "mZ32wM8so1vy"
      },
      "source": [
        "def transfer_history_2(url):\n",
        "  soup = soup_maker(url)\n",
        "  req_links=team_link_generator(url)\n",
        "  transf_hist=[]\n",
        "  b1=req_links.items()\n",
        "  for item1,item2 in b1:\n",
        "    soup = soup_maker(url)\n",
        "    b2=players_link_generator(item2)\n",
        "    for item3,item4 in b2.items():\n",
        "      for history in history(item4):\n",
        "        history.append(item3)\n",
        "        history.append(item1)\n",
        "        transf_hist.append(history)\n",
        "  dataframe=pd.DataFrame(transf_hist,columns=['Season','Date','Left','Joined','MV','Fee','PlayerName','PlayerLink'])\n",
        "  !mkdir data\n",
        "  dataframe.to_csv('/content/data/premiere_league.csv', index = False, header=True)\n",
        "  return dataframe"
      ],
      "execution_count": 102,
      "outputs": []
    },
    {
      "cell_type": "code",
      "metadata": {
        "colab": {
          "base_uri": "https://localhost:8080/",
          "height": 66
        },
        "id": "URKaA0hVE7Sv",
        "outputId": "3270dd8d-a352-46e2-9e87-9ca0a1fec67e"
      },
      "source": [
        "transfer_history_2(\"https://www.transfermarkt.com/manchester-united/startseite/verein/985/saison_id/2020\")"
      ],
      "execution_count": 103,
      "outputs": [
        {
          "output_type": "stream",
          "text": [
            "mkdir: cannot create directory ‘data’: File exists\n"
          ],
          "name": "stdout"
        },
        {
          "output_type": "execute_result",
          "data": {
            "text/html": [
              "<div>\n",
              "<style scoped>\n",
              "    .dataframe tbody tr th:only-of-type {\n",
              "        vertical-align: middle;\n",
              "    }\n",
              "\n",
              "    .dataframe tbody tr th {\n",
              "        vertical-align: top;\n",
              "    }\n",
              "\n",
              "    .dataframe thead th {\n",
              "        text-align: right;\n",
              "    }\n",
              "</style>\n",
              "<table border=\"1\" class=\"dataframe\">\n",
              "  <thead>\n",
              "    <tr style=\"text-align: right;\">\n",
              "      <th></th>\n",
              "      <th>Season</th>\n",
              "      <th>Date</th>\n",
              "      <th>Left</th>\n",
              "      <th>Joined</th>\n",
              "      <th>MV</th>\n",
              "      <th>Fee</th>\n",
              "      <th>PlayerName</th>\n",
              "      <th>PlayerLink</th>\n",
              "    </tr>\n",
              "  </thead>\n",
              "  <tbody>\n",
              "  </tbody>\n",
              "</table>\n",
              "</div>"
            ],
            "text/plain": [
              "Empty DataFrame\n",
              "Columns: [Season, Date, Left, Joined, MV, Fee, PlayerName, PlayerLink]\n",
              "Index: []"
            ]
          },
          "metadata": {
            "tags": []
          },
          "execution_count": 103
        }
      ]
    },
    {
      "cell_type": "markdown",
      "metadata": {
        "id": "vkhgOFZRVkvx"
      },
      "source": [
        "# Submit your homework"
      ]
    },
    {
      "cell_type": "markdown",
      "metadata": {
        "id": "FjoeVNEJ1Tlh"
      },
      "source": [
        "Please submit your homework on 05-07-2021 by 23:59 to the Google Form below.\n"
      ]
    },
    {
      "cell_type": "markdown",
      "metadata": {
        "id": "xutbkjRrzptV"
      },
      "source": [
        "[Google Forms](https://forms.gle/Tn3VPFWnw8dyu8PK6)"
      ]
    }
  ]
}