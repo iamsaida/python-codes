{
 "cells": [
  {
   "cell_type": "code",
   "execution_count": null,
   "metadata": {
    "id": "xpRn-BwA3znB"
   },
   "outputs": [],
   "source": [
    "#finger exercise 3.3(1)\n",
    "x=-25\n",
    "epsilon=0.01\n",
    "numGuesses = 0 \n",
    "low = 0.0\n",
    "high = max(1.0, x)\n",
    "ans = (high + low) / 2.0\n",
    "\n",
    "while abs(ans**2 - x) >= epsilon:\n",
    "  print('low=', low, 'high=', high, 'ans=', ans)\n",
    "  numGuesses += 1 \n",
    "  if ans**2 < x:\n",
    "    low = ans\n",
    "  else:\n",
    "    high = ans\n",
    "  ans = (high + low)/2.0\n",
    "print('numGuesses =', numGuesses)\n",
    "print(ans, 'is close to square root of', x)"
   ]
  },
  {
   "cell_type": "markdown",
   "metadata": {
    "id": "6Frbgpgx5XCN"
   },
   "source": [
    "If 25 is replaced by -25, it runs an infinity loop with values low=0.0 high=0.0 ans=0.0\n",
    "As there is no real square root of -25, we can not get the answer with this code\n"
   ]
  },
  {
   "cell_type": "markdown",
   "metadata": {
    "id": "kpF23cUE42up"
   },
   "source": []
  },
  {
   "cell_type": "code",
   "execution_count": null,
   "metadata": {
    "colab": {
     "base_uri": "https://localhost:8080/"
    },
    "id": "Ps4uMDR_4ff5",
    "outputId": "3fe6066b-f39e-43af-ab0f-d0ce2745ba19"
   },
   "outputs": [
    {
     "name": "stdout",
     "output_type": "stream",
     "text": [
      "low= 0.0 high= 25 ans= 12.5\n",
      "low= 0.0 high= 12.5 ans= 6.25\n",
      "low= 0.0 high= 6.25 ans= 3.125\n",
      "low= 0.0 high= 3.125 ans= 1.5625\n",
      "low= 1.5625 high= 3.125 ans= 2.34375\n",
      "low= 2.34375 high= 3.125 ans= 2.734375\n",
      "low= 2.734375 high= 3.125 ans= 2.9296875\n",
      "low= 2.734375 high= 2.9296875 ans= 2.83203125\n",
      "low= 2.83203125 high= 2.9296875 ans= 2.880859375\n",
      "low= 2.880859375 high= 2.9296875 ans= 2.9052734375\n",
      "low= 2.9052734375 high= 2.9296875 ans= 2.91748046875\n",
      "low= 2.91748046875 high= 2.9296875 ans= 2.923583984375\n",
      "low= 2.923583984375 high= 2.9296875 ans= 2.9266357421875\n",
      "low= 2.923583984375 high= 2.9266357421875 ans= 2.92510986328125\n",
      "numGuesses = 14\n",
      "2.924346923828125 is close to cube root of 25\n"
     ]
    }
   ],
   "source": [
    "#finger exercise 3.3(2)\n",
    "x=25\n",
    "epsilon=0.01\n",
    "numGuesses = 0 \n",
    "low = 0.0\n",
    "high = max(1.0, x)\n",
    "ans = (high + low) / 2.0\n",
    "\n",
    "while abs(ans**3 - x) >= epsilon:\n",
    "  print('low=', low, 'high=', high, 'ans=', ans)\n",
    "  numGuesses += 1 \n",
    "  if ans**3 < x:\n",
    "    low = ans\n",
    "  else:\n",
    "    high = ans\n",
    "  ans = (high + low)/2.0\n",
    "print('numGuesses =', numGuesses)\n",
    "print(ans, 'is close to cube root of', x)"
   ]
  },
  {
   "cell_type": "markdown",
   "metadata": {
    "id": "PA_0bLYY6jFG"
   },
   "source": [
    "We need to replace the value of ans(pow 2) with ans(pow 3) in order to obtain the nearest cube root of given number"
   ]
  }
 ],
 "metadata": {
  "colab": {
   "collapsed_sections": [],
   "name": "SaidaBabu_Garlapati_Data690_HW2(2).ipynb",
   "provenance": []
  },
  "kernelspec": {
   "display_name": "Python 3",
   "language": "python",
   "name": "python3"
  },
  "language_info": {
   "codemirror_mode": {
    "name": "ipython",
    "version": 3
   },
   "file_extension": ".py",
   "mimetype": "text/x-python",
   "name": "python",
   "nbconvert_exporter": "python",
   "pygments_lexer": "ipython3",
   "version": "3.8.5"
  }
 },
 "nbformat": 4,
 "nbformat_minor": 4
}
