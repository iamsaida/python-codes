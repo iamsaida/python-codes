{
 "cells": [
  {
   "cell_type": "code",
   "execution_count": 681,
   "metadata": {},
   "outputs": [],
   "source": [
    "import datetime\n",
    "class PizzaOrder():\n",
    "    def __init__(self, name):\n",
    "        self.name = name\n",
    "        try:\n",
    "            last_blank = name.index(' ')\n",
    "            self.last_name = name[last_blank+1:]\n",
    "            self.first_name = name[:last_blank+1]\n",
    "        except:\n",
    "            self.first_name = name\n",
    "            self.last_name = 'None'\n",
    "        \n",
    "    def get_first_name(self):\n",
    "        return self.first_name\n",
    "    \n",
    "    def get_last_name(self):\n",
    "        return self.last_name\n",
    "    \n",
    "    def get_date(self,date):\n",
    "        self.date = date\n",
    "        return self.date\n",
    "    \n",
    "    def get_cost(self,cost):\n",
    "        self.cost = cost\n",
    "        return self.cost"
   ]
  },
  {
   "cell_type": "code",
   "execution_count": 682,
   "metadata": {},
   "outputs": [],
   "source": [
    "def Order(name,yy,mm,dd,cost):\n",
    "    Customer=PizzaOrder(name)\n",
    "    order_dict={\n",
    "        'First name of the Customer':Customer.get_first_name(),\n",
    "        'Last name of the Customer':Customer.get_last_name(),\n",
    "        'Order Date':str(Customer.get_date(datetime.date(yy,mm,dd))),\n",
    "        'Order amount':Customer.get_cost(cost)\n",
    "    }\n",
    "    return order_dict"
   ]
  },
  {
   "cell_type": "code",
   "execution_count": 683,
   "metadata": {},
   "outputs": [],
   "source": [
    "from collections import OrderedDict \n",
    "from operator import getitem \n",
    "def order_robot():\n",
    "    dict={\n",
    "             'c1':Order('Saida Babu',2020,12,23,20),\n",
    "             'c2':Order('Ram Charan',2020,3,14,14),\n",
    "             'c3':Order('Sai Tej',2021,7,26,89),\n",
    "             'c4':Order('John Abraham',2021,3,3,144),\n",
    "             'c5':Order('Salina Jones',2020,4,15,55),\n",
    "             'c6':Order('Priya Selvis',2020,8,21,287),\n",
    "             'c7':Order('Kom Thomas',2021,2,28,126),\n",
    "             'c8':Order('Wille Johnson',2020,12,25,86),\n",
    "             'c9':Order('Seria Ville',2020,11,27,184),\n",
    "             'c10':Order('Dine Kurian',2021,1,5,241)\n",
    "        }\n",
    "    sorted_dict = OrderedDict(sorted(dict.items(), \n",
    "       key = lambda x: getitem(x[1], 'Order amount')))\n",
    "    print('Sorted Order (based on amount) is :\\n')\n",
    "    for k,v in sorted_dict.items():\n",
    "        print(k,v,'\\n')"
   ]
  },
  {
   "cell_type": "code",
   "execution_count": 684,
   "metadata": {},
   "outputs": [
    {
     "name": "stdout",
     "output_type": "stream",
     "text": [
      "Sorted Order (based on amount) is :\n",
      "\n",
      "c2 {'First name of the Customer': 'Ram ', 'Last name of the Customer': 'Charan', 'Order Date': '2020-03-14', 'Order amount': 14} \n",
      "\n",
      "c1 {'First name of the Customer': 'Saida ', 'Last name of the Customer': 'Babu', 'Order Date': '2020-12-23', 'Order amount': 20} \n",
      "\n",
      "c5 {'First name of the Customer': 'Salina ', 'Last name of the Customer': 'Jones', 'Order Date': '2020-04-15', 'Order amount': 55} \n",
      "\n",
      "c8 {'First name of the Customer': 'Wille ', 'Last name of the Customer': 'Johnson', 'Order Date': '2020-12-25', 'Order amount': 86} \n",
      "\n",
      "c3 {'First name of the Customer': 'Sai ', 'Last name of the Customer': 'Tej', 'Order Date': '2021-07-26', 'Order amount': 89} \n",
      "\n",
      "c7 {'First name of the Customer': 'Kom ', 'Last name of the Customer': 'Thomas', 'Order Date': '2021-02-28', 'Order amount': 126} \n",
      "\n",
      "c4 {'First name of the Customer': 'John ', 'Last name of the Customer': 'Abraham', 'Order Date': '2021-03-03', 'Order amount': 144} \n",
      "\n",
      "c9 {'First name of the Customer': 'Seria ', 'Last name of the Customer': 'Ville', 'Order Date': '2020-11-27', 'Order amount': 184} \n",
      "\n",
      "c10 {'First name of the Customer': 'Dine ', 'Last name of the Customer': 'Kurian', 'Order Date': '2021-01-05', 'Order amount': 241} \n",
      "\n",
      "c6 {'First name of the Customer': 'Priya ', 'Last name of the Customer': 'Selvis', 'Order Date': '2020-08-21', 'Order amount': 287} \n",
      "\n"
     ]
    }
   ],
   "source": [
    "order_robot()"
   ]
  },
  {
   "cell_type": "code",
   "execution_count": null,
   "metadata": {},
   "outputs": [],
   "source": []
  }
 ],
 "metadata": {
  "kernelspec": {
   "display_name": "Python 3",
   "language": "python",
   "name": "python3"
  },
  "language_info": {
   "codemirror_mode": {
    "name": "ipython",
    "version": 3
   },
   "file_extension": ".py",
   "mimetype": "text/x-python",
   "name": "python",
   "nbconvert_exporter": "python",
   "pygments_lexer": "ipython3",
   "version": "3.8.5"
  }
 },
 "nbformat": 4,
 "nbformat_minor": 4
}
