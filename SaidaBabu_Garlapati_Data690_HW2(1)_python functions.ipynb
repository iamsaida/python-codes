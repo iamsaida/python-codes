{
 "cells": [
  {
   "cell_type": "code",
   "execution_count": 130,
   "metadata": {
    "cellView": "code",
    "colab": {
     "base_uri": "https://localhost:8080/"
    },
    "id": "vvIQvDf6K2a_",
    "outputId": "6489db1f-b3fb-4c8a-da5d-235ae37afdd8"
   },
   "outputs": [
    {
     "name": "stdout",
     "output_type": "stream",
     "text": [
      "Enter an integer: 64\n",
      "root is 4 and power is 3\n",
      "root is 8 and power is 2\n",
      "root is 64 and power is 1\n"
     ]
    }
   ],
   "source": [
    "#finger exercise 3.1\n",
    "x = int(input(\"Enter an integer: \"))\n",
    "root = 0\n",
    "while root< abs(x):\n",
    " root += 1\n",
    " for pwr in range(1,6):\n",
    "  if root ** pwr == x and x>0:\n",
    "     print('root is',root,'and power is',pwr)\n",
    "  elif (-root) ** pwr == x and x<0:\n",
    "    print('root is',-root,'and power is',pwr) \n",
    "if not found:\n",
    "  print('No combination possible')    "
   ]
  },
  {
   "cell_type": "code",
   "execution_count": 97,
   "metadata": {
    "colab": {
     "base_uri": "https://localhost:8080/"
    },
    "id": "W2LNrq5uXUif",
    "outputId": "6091fe03-3e60-4b6c-9dd2-96b9f6bef10f"
   },
   "outputs": [
    {
     "name": "stdout",
     "output_type": "stream",
     "text": [
      "6.753\n"
     ]
    }
   ],
   "source": [
    "#finger exercise 3.2\n",
    "series='1.23,2.4,3.123'\n",
    "sum=0\n",
    "new_series=series.split(',')\n",
    "for number in new_series:\n",
    "  sum+=float(number)\n",
    "print(sum)  "
   ]
  },
  {
   "cell_type": "code",
   "execution_count": 112,
   "metadata": {
    "colab": {
     "base_uri": "https://localhost:8080/"
    },
    "id": "2O98vS9_l0hh",
    "outputId": "b5b2b3dd-12b2-44c9-c81b-4e2bf460db55"
   },
   "outputs": [
    {
     "name": "stdout",
     "output_type": "stream",
     "text": [
      "Find the square root of: 3\n",
      "Sqaure root of 3 is 1.7321428571428572 by Newton Raphson method\n",
      "Number of Guesses by Newton Raphson method is :  2\n",
      "Sqaure root of 3 is 1.732177734375 by Bisection method\n",
      "Number of Guesses by Bisection method is :  11\n",
      "Newton Raphson method is more efficient\n"
     ]
    }
   ],
   "source": [
    "#finger exercise 3.5\n",
    "number = int(input(\"Find the square root of: \"))\n",
    "epsilon = 0.001\n",
    "ans_NR= number/2\n",
    "numGuesses_NR=0\n",
    "low = 0.0\n",
    "high = max(1.0, number)\n",
    "ans_Bis=(high + low)/2.0\n",
    "numGuesses_Bis=0\n",
    "while abs(ans_NR*ans_NR - number) >= epsilon:\n",
    "    ans_NR = ans_NR - (((ans_NR ** 2) - number) / (2 * ans_NR))\n",
    "    numGuesses_NR +=1\n",
    "print ('Sqaure root of',number,'is',ans_NR,'by Newton Raphson method')\n",
    "print ('Number of Guesses by Newton Raphson method is : ',numGuesses_NR)    \n",
    "while abs(ans_Bis**2 - number) >= epsilon:\n",
    "        numGuesses_Bis +=1\n",
    "        if ans_Bis**2 < number:\n",
    "            low = ans_Bis\n",
    "        else:\n",
    "            high = ans_Bis\n",
    "        ans_Bis = (high+low)/2.0\n",
    "print ('Sqaure root of',number,'is',ans_Bis,'by Bisection method')\n",
    "print('Number of Guesses by Bisection method is : ',numGuesses_Bis)\n",
    "if numGuesses_NR<numGuesses_Bis:\n",
    "  print('Newton Raphson method is more efficient')\n",
    "else:\n",
    "  print('Bisection method is more efficient')  "
   ]
  },
  {
   "cell_type": "code",
   "execution_count": 99,
   "metadata": {
    "colab": {
     "base_uri": "https://localhost:8080/"
    },
    "id": "A1C8F0AMbowl",
    "outputId": "d1b779bd-df3f-4e6c-bfe7-0dca09b7eca1"
   },
   "outputs": [
    {
     "data": {
      "text/plain": [
       "True"
      ]
     },
     "execution_count": 99,
     "metadata": {
      "tags": []
     },
     "output_type": "execute_result"
    }
   ],
   "source": [
    "#finger exercise 4.1.1\n",
    "def isIn(string1,string2):\n",
    "  if string1 in string2:\n",
    "    return True\n",
    "  elif string2 in string1:\n",
    "    return True\n",
    "  else:\n",
    "    return False \n",
    "\n",
    "isIn('data690','690')"
   ]
  }
 ],
 "metadata": {
  "colab": {
   "collapsed_sections": [],
   "name": "SaidaBabu_Garlapati_Data690_HW2(1).ipynb",
   "provenance": []
  },
  "kernelspec": {
   "display_name": "Python 3",
   "language": "python",
   "name": "python3"
  },
  "language_info": {
   "codemirror_mode": {
    "name": "ipython",
    "version": 3
   },
   "file_extension": ".py",
   "mimetype": "text/x-python",
   "name": "python",
   "nbconvert_exporter": "python",
   "pygments_lexer": "ipython3",
   "version": "3.8.5"
  }
 },
 "nbformat": 4,
 "nbformat_minor": 4
}
