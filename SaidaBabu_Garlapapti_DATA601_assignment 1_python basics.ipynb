{
 "cells": [
  {
   "cell_type": "markdown",
   "metadata": {
    "id": "isPJEwx3yJug"
   },
   "source": [
    "#DATA 601 HW1\n",
    "\n",
    "Due to: 02/09/2021 at 23:59 pm\n",
    "\n",
    "- Please read the directions carefully. \n",
    "\n",
    "- You have to follow the directions in part-I to be able to sucessfully work on the questions in part-II.\n",
    "\n",
    "- After you're done please submit your work to the form provided to you at the end of this notebook.\n"
   ]
  },
  {
   "cell_type": "markdown",
   "metadata": {
    "id": "hkkPVegJJsgO"
   },
   "source": [
    "## Before You Start\n",
    "\n",
    "- Make sure that you are using Google Chrome for smooth experience.\n",
    "\n",
    "- Make sure that you create a copy of this notebook. You can follow the following steps to create a copy of this notebook."
   ]
  },
  {
   "cell_type": "markdown",
   "metadata": {
    "id": "bigzn3kySgAR"
   },
   "source": [
    "1. Go to file:\n",
    "\n",
    "<img src=\"https://raw.githubusercontent.com/mguner/Python_Assessment/main/images/colab_file.jpg\" width=\"500px\"/>"
   ]
  },
  {
   "cell_type": "markdown",
   "metadata": {
    "id": "vDFLjsOiMIBa"
   },
   "source": [
    "2. Save a copy of the notebook to your Google Drive\n",
    "\n",
    "<img src=\"https://raw.githubusercontent.com/mguner/Python_Assessment/main/images/save_a_copy.jpg\" width=\"350px\"/>"
   ]
  },
  {
   "cell_type": "markdown",
   "metadata": {
    "id": "wuQDUvB5Sxtx"
   },
   "source": [
    "3. Rename the notebook with you name and last name as it is shown below. For example, if your name is George Evans then you should name the file as `GeorgeEvans.ipynb`\n",
    "\n",
    "<img src=\"https://raw.githubusercontent.com/mguner/Python_Assessment/main/images/rename.jpg\" width=\"350px\"/>"
   ]
  },
  {
   "cell_type": "markdown",
   "metadata": {
    "id": "fNdkOsDCuK15"
   },
   "source": [
    "## PART-I Set-up\n",
    "\n",
    " **Note:** \n",
    "When you run the cell below you will get a warning you can click `RUN ANYWAY` button to move to continue working on this notebook.\n",
    "\n",
    "<img src=\"https://raw.githubusercontent.com/mguner/Python_Assessment/main/images/run_anyway.png\" width=\"550px\"/>"
   ]
  },
  {
   "cell_type": "code",
   "execution_count": null,
   "metadata": {
    "id": "172KiY2tQUxT"
   },
   "outputs": [],
   "source": [
    "## Students should run this cell!\n",
    "\n",
    "! git clone https://github.com/mguner/Python_Assessment.git"
   ]
  },
  {
   "cell_type": "code",
   "execution_count": null,
   "metadata": {
    "id": "RoQgZePa8io1"
   },
   "outputs": [],
   "source": [
    "## Students should run this cell before start assessment\n",
    "import pickle\n",
    "import numpy as np\n",
    "\n",
    "\n",
    "with open('Python_Assessment/data/data.pickle', 'rb') as f:\n",
    "    # The protocol version used is detected automatically, so we do not\n",
    "    # have to specify it.\n",
    "    data = pickle.load(f)"
   ]
  },
  {
   "cell_type": "code",
   "execution_count": null,
   "metadata": {
    "id": "Pf5fPCBuCJ6w"
   },
   "outputs": [],
   "source": [
    "## Students should run this cell before start assessment\n",
    "seed = int(input(\"Enter the last four digit of you student Id\\n\"))\n",
    "np.random.seed(seed)\n",
    "RANDOM_STATES = [1101,1102, 1103, 1104]\n",
    "RANDOM_STATE = np.random.choice(RANDOM_STATES, )\n",
    "print(\"Your code is %d\"%RANDOM_STATE)"
   ]
  },
  {
   "cell_type": "markdown",
   "metadata": {
    "id": "fvwlMx9n5dYZ"
   },
   "source": [
    "**Please read this section!!**\n",
    "\n",
    "Below we will create three lists that you will be working with. These lists contains names, last names and their batting averages. Here is more specific description of the data with only three players. Suppose we only have three baseball players in our data:\n",
    "\n",
    "- player-1: Ryan Zimmerman, average: 0.264\n",
    "\n",
    "- player-2: Whit Merrifield, average: 0.304\n",
    "\n",
    "- player-3: Evan Gattis, average: 0.226 \n",
    "\n",
    "in this case the lists would contain:\n",
    "```python\n",
    "first_names = ['Ryan', 'Whit', 'Evan']\n",
    "last_name = ['Zimmerman', 'Merrifield', 'Gattis']\n",
    "averages = [0.264, 0.304, 226]\n",
    "\n",
    "## note that the order is preserved so you can assume that this will be the case throughout this assessment.\n",
    "```"
   ]
  },
  {
   "cell_type": "code",
   "execution_count": null,
   "metadata": {
    "id": "5U3R_xnkt7iE"
   },
   "outputs": [],
   "source": [
    "## Students should run this before moving to next section\n",
    "\n",
    "first_names = data[RANDOM_STATE]['first_names']\n",
    "last_names = data[RANDOM_STATE]['last_names']\n",
    "averages = data[RANDOM_STATE]['averages']"
   ]
  },
  {
   "cell_type": "markdown",
   "metadata": {
    "id": "PD4oK9T7yV98"
   },
   "source": [
    "## Part-II: Assessment\n",
    "\n"
   ]
  },
  {
   "cell_type": "markdown",
   "metadata": {
    "id": "l8xWuJQB9Wwv"
   },
   "source": [
    "#### Question\n",
    "\n",
    "Print the names of every other player (e.g. Name1, Name3, Name5, ...)\n",
    "\n",
    "```python\n",
    "## if first_names were\n",
    "['Ryan', 'Whit', 'Evan', 'John', 'Mike ]\n",
    "\n",
    "## Answer would look like\n",
    "['Ryan', 'Evan', 'Mike']\n",
    "```"
   ]
  },
  {
   "cell_type": "code",
   "execution_count": 1,
   "metadata": {
    "colab": {
     "base_uri": "https://localhost:8080/"
    },
    "id": "2UuleIgW-HLN",
    "outputId": "a43b0c54-c561-4877-930a-0a0d348235ae"
   },
   "outputs": [
    {
     "name": "stdout",
     "output_type": "stream",
     "text": [
      "['Ryan', 'Evan', 'Mike']\n"
     ]
    }
   ],
   "source": [
    "first_names=['Ryan', 'Whit', 'Evan', 'John', 'Mike']\r\n",
    "print(first_names[ : :2])"
   ]
  },
  {
   "cell_type": "markdown",
   "metadata": {
    "id": "aQXYJTY66FW6"
   },
   "source": [
    "#### Question\n",
    "\n",
    "What is the length of the list `first_names`?"
   ]
  },
  {
   "cell_type": "code",
   "execution_count": 2,
   "metadata": {
    "colab": {
     "base_uri": "https://localhost:8080/"
    },
    "id": "E9iV8ME15-GC",
    "outputId": "a0aca8a1-1647-491a-e240-bd02f5fbe667"
   },
   "outputs": [
    {
     "name": "stdout",
     "output_type": "stream",
     "text": [
      "5\n"
     ]
    }
   ],
   "source": [
    "first_names=['Ryan', 'Whit', 'Evan', 'John', 'Mike']\n",
    "print(len(first_names))\n"
   ]
  },
  {
   "cell_type": "markdown",
   "metadata": {
    "id": "aZ5pdDx_zIuS"
   },
   "source": [
    "#### Question\n",
    "\n",
    "Note that in the list `first_names` there are white spaces in each string. Write a code that get rids of these white spaces and save the new list as `first_names` again. Demo:\n",
    "\n",
    "```python\n",
    "# Currently the list first_names\n",
    "[' Ryan', ' Whit', ' Evan']\n",
    "# After you write the code first_names should look like:\n",
    "['Ryan', 'Whit', 'Evan']\n",
    "```\n"
   ]
  },
  {
   "cell_type": "code",
   "execution_count": 3,
   "metadata": {
    "colab": {
     "base_uri": "https://localhost:8080/"
    },
    "id": "CS9VGny49OVo",
    "outputId": "b178e1a5-c7fb-4ff2-84fd-43c804b1c93c"
   },
   "outputs": [
    {
     "name": "stdout",
     "output_type": "stream",
     "text": [
      "['Ryan', 'Whit', 'Evan']\n"
     ]
    }
   ],
   "source": [
    "first_names=[' Ryan', ' Whit', ' Evan']\r\n",
    "converted_list=[]\r\n",
    "for name in first_names:\r\n",
    "  converted_name=name.strip(\" \")\r\n",
    "  converted_list.append(converted_name)\r\n",
    "print(converted_list)"
   ]
  },
  {
   "cell_type": "markdown",
   "metadata": {
    "id": "UaME2dLdGJg7"
   },
   "source": [
    "#### Question\n",
    "Create a new list from `first_names` and `last_names` that combines first names and last names the players. Demo:\n",
    "\n",
    "\n",
    "```python\n",
    "# Currently first_names\n",
    "['Ryan', 'Whit', 'Evan']\n",
    "\n",
    "# Currently last_names\n",
    "['Zimmerman', 'Merrifield', 'Gattis']\n",
    "\n",
    "# result should be a list with the name players and it should look like this:\n",
    "['Ryan Zimmerman', 'Whit Merrifield', 'Evan Gattis']\n",
    "```"
   ]
  },
  {
   "cell_type": "code",
   "execution_count": 13,
   "metadata": {
    "colab": {
     "base_uri": "https://localhost:8080/"
    },
    "id": "3BOHZIm09Kc6",
    "outputId": "60c07c8d-3c54-4f8a-9eab-3ab345c0b650"
   },
   "outputs": [
    {
     "name": "stdout",
     "output_type": "stream",
     "text": [
      "['Ryan Zimmerman', 'Whit Merrifield', 'Evan Gattis']\n"
     ]
    }
   ],
   "source": [
    "first_names=['Ryan', 'Whit', 'Evan']\r\n",
    "last_names=['Zimmerman', 'Merrifield', 'Gattis']\r\n",
    "converted_list=[]\r\n",
    "lastname_count=0\r\n",
    "for first_name in first_names:\r\n",
    "  converted_list.append(f\"{first_name} {last_names[lastname_count]}\")\r\n",
    "  lastname_count+=1\r\n",
    "print(converted_list)    "
   ]
  },
  {
   "cell_type": "markdown",
   "metadata": {
    "id": "2T3bHzjFHshi"
   },
   "source": [
    "#### Question\n",
    "\n",
    "Find all the players whose last name starts with the letter \"M\". (Hint: you might want to use `.split()` method which splits the strings into list of strings from white spaces)"
   ]
  },
  {
   "cell_type": "code",
   "execution_count": 65,
   "metadata": {
    "colab": {
     "base_uri": "https://localhost:8080/"
    },
    "id": "gOZWpQXyYkmm",
    "outputId": "9c7c83cd-6a6c-45ce-8f61-9483c1449b19"
   },
   "outputs": [
    {
     "name": "stdout",
     "output_type": "stream",
     "text": [
      "['Whit Merrifield']\n"
     ]
    }
   ],
   "source": [
    "names=['Ryan Zimmerman', 'Whit Merrifield', 'Evan Gattis']\r\n",
    "converted_list=[] \r\n",
    "for name in names:\r\n",
    "   words=name.split(\" \")\r\n",
    "   for word in words:\r\n",
    "     if word.startswith(\"M\"):\r\n",
    "       converted_list.append(name)\r\n",
    "print(converted_list)\r\n",
    "  "
   ]
  },
  {
   "cell_type": "markdown",
   "metadata": {
    "id": "nmNt3u6iJPMy"
   },
   "source": [
    "#### Question \n",
    "\n",
    "Write a function that for a given name it would return all the players whose first names are this name. Example:\n",
    "\n",
    "```python\n",
    "## Name the function as find_player\n",
    "\n",
    "find_player('Evan')\n",
    "\n",
    "## should return:\n",
    "\n",
    "['Evan Gattis', 'Evan Longoria']\n",
    "```\n"
   ]
  },
  {
   "cell_type": "code",
   "execution_count": 66,
   "metadata": {
    "colab": {
     "base_uri": "https://localhost:8080/"
    },
    "id": "YVccrRtR388M",
    "outputId": "69987df4-c87b-4ef2-8047-910439ece4e9"
   },
   "outputs": [
    {
     "name": "stdout",
     "output_type": "stream",
     "text": [
      "['Evan Gattis', 'Evan Longoria']\n"
     ]
    }
   ],
   "source": [
    "def find_player(given_name):\r\n",
    "  names=['Ryan Zimmerman', 'Whit Merrifield', 'Evan Gattis', 'Evan Longoria']\r\n",
    "  converted_list=[] \r\n",
    "  for name in names:\r\n",
    "   words=name.split(\" \")\r\n",
    "   for word in words:\r\n",
    "     if word.startswith(given_name):\r\n",
    "       converted_list.append(name)\r\n",
    "  print(converted_list)\r\n",
    "find_player('Evan')  "
   ]
  },
  {
   "cell_type": "markdown",
   "metadata": {
    "id": "SL9Ven59NrS2"
   },
   "source": [
    "Use the function you write above to find all the players with the first name \"Mike\"."
   ]
  },
  {
   "cell_type": "code",
   "execution_count": null,
   "metadata": {
    "id": "9zz_h4MLN4pl"
   },
   "outputs": [],
   "source": [
    "## your answer is here"
   ]
  },
  {
   "cell_type": "markdown",
   "metadata": {
    "id": "24S-j7WxEXic"
   },
   "source": [
    "Question: \n",
    "\n",
    "What is the maximum average batting score in your list and which player has the maximum? (Hint: Remember that the average batting scores of the players are stored in the list named `averages`)"
   ]
  },
  {
   "cell_type": "code",
   "execution_count": 81,
   "metadata": {
    "colab": {
     "base_uri": "https://localhost:8080/"
    },
    "id": "_u9GpObj5sAO",
    "outputId": "66165e55-51ce-40dd-ff21-253398101dd5"
   },
   "outputs": [
    {
     "name": "stdout",
     "output_type": "stream",
     "text": [
      " Virat is having the Maximum average of 98.9\n"
     ]
    }
   ],
   "source": [
    " batsmen=['Ryan', 'Whit', 'Evan', 'John', 'Mike','Virat','Mahi','Dwan']\r\n",
    " averages=[28.9,36.7,52.1,97.6,62.5,98.9,71.8,98.6]\r\n",
    " maximum_average=0\r\n",
    " average_count=0\r\n",
    " for batsman in batsmen:\r\n",
    "  if averages[average_count]>maximum_average:\r\n",
    "     maximum_average=averages[average_count]\r\n",
    "     batsman_maxavg=batsman\r\n",
    "  average_count+=1 \r\n",
    "print(f\" {batsman_maxavg} is having the Maximum average of {maximum_average}\")"
   ]
  },
  {
   "cell_type": "markdown",
   "metadata": {
    "id": "DvpxWIICKPxG"
   },
   "source": [
    "#### Question\n",
    "\n",
    "Suppose we have a list of lists which contains faculty names and their codes. We want you to create a function that takes such data and convert it to a dictionary of names and their codes.\n",
    "\n",
    "- note that the length of the list is not fixed. So your code should be working efficiently even if we give you a list that contains the names of 100 faculty. \n",
    "\n",
    "__example__\n",
    "\n",
    "```python\n",
    "faculty_list =  [['Murat Guner', 1111], ['Ergun Simsek', 1112], ['Philip Bogden', 1113]]\n",
    "\n",
    "faculty_dictionary= your_function(faculty_list)\n",
    "\n",
    "faculty_dictionary \n",
    "\n",
    "{'Murat Guner': 1111, 'Ergun Simsek': 1112, 'Philip Bogden': 1113 }\n",
    "```\n",
    "\n"
   ]
  },
  {
   "cell_type": "code",
   "execution_count": 22,
   "metadata": {
    "colab": {
     "base_uri": "https://localhost:8080/"
    },
    "id": "cepP582FL2QY",
    "outputId": "76fd7a56-83e8-4ad5-a1ec-a6d01c795c84"
   },
   "outputs": [
    {
     "name": "stdout",
     "output_type": "stream",
     "text": [
      "faculty dictionary = {'Murat Guner': 1111, 'Ergun Simsek': 1112, 'Philip Bogden': 1113}\n"
     ]
    }
   ],
   "source": [
    "def my_fuction(list):\r\n",
    "  dict={}\r\n",
    "  for sub_list in list:\r\n",
    "   dict[sub_list[0]] = sub_list[1]\r\n",
    "  print(f'faculty dictionary = {dict}')\r\n",
    "faculty_list =  [['Murat Guner', 1111], ['Ergun Simsek', 1112], ['Philip Bogden', 1113]]\r\n",
    "faculty_dictionary= my_fuction(faculty_list)\r\n",
    "\r\n",
    "  \r\n"
   ]
  },
  {
   "cell_type": "markdown",
   "metadata": {
    "id": "IUhrpa8EJkfK"
   },
   "source": [
    "## How to submit your work\n",
    "\n",
    "1. Save your work.\n",
    "\n",
    "<img src=\"https://raw.githubusercontent.com/mguner/Python_Assessment/main/images/save_your_work.jpg\" width = 300/>"
   ]
  },
  {
   "cell_type": "markdown",
   "metadata": {
    "id": "UqFSumvRV0-w"
   },
   "source": [
    "2. Download the notebook to your computer. \n",
    "\n",
    "You will be asked to submit this notebook at step-5\n",
    "\n",
    "<img src=\"https://raw.githubusercontent.com/mguner/Python_Assessment/main/images/download_notebook.jpg\" width = 300/>\n",
    "\n"
   ]
  },
  {
   "cell_type": "markdown",
   "metadata": {
    "id": "ouXyhImfWmmO"
   },
   "source": [
    "3. Click the share button on the upper right corner\n",
    "\n",
    "<img src=\"https://raw.githubusercontent.com/mguner/Python_Assessment/main/images/share.jpg\" width = 550/>"
   ]
  },
  {
   "cell_type": "markdown",
   "metadata": {
    "id": "t1olpDGjWRVX"
   },
   "source": [
    "4. Copy the link:\n",
    "\n",
    "You will be asked to share this link later at step-5.\n",
    "\n",
    "<img src=\"https://raw.githubusercontent.com/mguner/Python_Assessment/main/images/copy_link.jpg\" width = 350/>"
   ]
  },
  {
   "cell_type": "markdown",
   "metadata": {
    "id": "tSlvSlhYW_kq"
   },
   "source": [
    "5. Submit your work to google forms. Please make sure that you log in with your umbc account.\n",
    "\n",
    "[Click here to go to submission form](https://forms.gle/Xa4qnmid7yJ2xs7s5)\n",
    "\n"
   ]
  }
 ],
 "metadata": {
  "colab": {
   "collapsed_sections": [],
   "name": "SaidaBabu_Garlapapti_DATA601_HW1.ipynb",
   "provenance": [],
   "toc_visible": true
  },
  "kernelspec": {
   "display_name": "Python 3",
   "language": "python",
   "name": "python3"
  },
  "language_info": {
   "codemirror_mode": {
    "name": "ipython",
    "version": 3
   },
   "file_extension": ".py",
   "mimetype": "text/x-python",
   "name": "python",
   "nbconvert_exporter": "python",
   "pygments_lexer": "ipython3",
   "version": "3.8.5"
  }
 },
 "nbformat": 4,
 "nbformat_minor": 4
}
