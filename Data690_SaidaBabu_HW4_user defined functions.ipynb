{
 "cells": [
  {
   "cell_type": "code",
   "execution_count": 11,
   "metadata": {},
   "outputs": [],
   "source": [
    "def isBigger(x,y):\n",
    "  \"\"\" x and y parameters are assumed to be integer values\n",
    "    returns True if x is greater than y, False otherwise\n",
    "  \"\"\"\n",
    "  return x > y"
   ]
  },
  {
   "cell_type": "markdown",
   "metadata": {},
   "source": [
    "Other Test Cases \n",
    "\n",
    " x type      y type      Condition            Example           Result\n",
    " \n",
    "Positive  | string  | type(x)!=type(y)    |x=2, y='float'    | False |\n",
    "\n",
    "string    | Negative| type(x)!=type(y)    |x='float', y=-5    | False |\n",
    "\n",
    "float     | Positive| type(x)!=type(y)    |x=0.5, y=5       | False |\n",
    "\n",
    "Negative  | float   | type(x)!=type(y)    |x=-2, y=2.5      | False |\n",
    "\n",
    "Positive  | Positive| (x-y)!=0 and x/y>1  |x=5, y=2         | True  |"
   ]
  },
  {
   "cell_type": "markdown",
   "metadata": {},
   "source": [
    "Block-Box Testing"
   ]
  },
  {
   "cell_type": "code",
   "execution_count": 12,
   "metadata": {},
   "outputs": [],
   "source": [
    "def sqrt(x, epsilon):\n",
    "  \"\"\"Assumes x, epsilon floats\n",
    "      x >= 0\n",
    "      epsilon > 0\n",
    "    Returns result such that \n",
    "      x-epsilon <= result*result <= x\n",
    "      +epsilon\"\"\""
   ]
  },
  {
   "cell_type": "markdown",
   "metadata": {},
   "source": [
    "| x             |     epsilon          |    Outputs |\n",
    "|:-------:|:-------:|:----:|\n",
    "|2.0   |0.1   |Returns Result|\n",
    "|0.1   |0.01  |Returns Result|\n",
    "|2     |0.1   |Returns error as x must be in float |\n",
    "|2.0   |1     |Returns error as epsilon must be float |\n",
    "|'int' |0.1   |Returns error as x is string|\n",
    "|2.0   |'int' |Returns error as epsilon is string|\n",
    "|[2,5] |0.1   |Returns error as x is a list |\n",
    "|2.0   |{2:5} |Returns error as epsilon is a dictonary |\n",
    "|-2.0  |0.1   |Returns error as x must be greater than zero|\n",
    "|2.0   |-0.1  |Returns error as epsilon must be a positve float value|"
   ]
  },
  {
   "cell_type": "markdown",
   "metadata": {},
   "source": [
    "\"\"\"\n",
    "Finger Excercise 7.1\n",
    "\n",
    "def sumDigits(s):\n",
    "\n",
    "Assumes s is a string\n",
    "\n",
    "Returns the sum of the decimal digits in s\n",
    "\n",
    "For example, if s is 'a2b3c' it returns 5\"\"\"\n",
    "\n"
   ]
  },
  {
   "cell_type": "code",
   "execution_count": 13,
   "metadata": {},
   "outputs": [],
   "source": [
    "def sumDigits(s):\n",
    "  while True:\n",
    "    try:\n",
    "      sum=0\n",
    "      for i in s:\n",
    "        if i.isalpha():\n",
    "          continue\n",
    "        else:\n",
    "          sum+=int(i)\n",
    "      return sum\n",
    "    except ValueError:\n",
    "      print('Check Characters')\n",
    "      break"
   ]
  },
  {
   "cell_type": "code",
   "execution_count": 14,
   "metadata": {},
   "outputs": [
    {
     "data": {
      "text/plain": [
       "24"
      ]
     },
     "execution_count": 14,
     "metadata": {},
     "output_type": "execute_result"
    }
   ],
   "source": [
    "sumDigits(\"sa129sh345\")"
   ]
  },
  {
   "cell_type": "code",
   "execution_count": 15,
   "metadata": {},
   "outputs": [
    {
     "name": "stdout",
     "output_type": "stream",
     "text": [
      "Check Characters\n"
     ]
    }
   ],
   "source": [
    "sumDigits(\"gfh@#$\")"
   ]
  },
  {
   "cell_type": "code",
   "execution_count": null,
   "metadata": {},
   "outputs": [],
   "source": []
  }
 ],
 "metadata": {
  "kernelspec": {
   "display_name": "Python 3",
   "language": "python",
   "name": "python3"
  },
  "language_info": {
   "codemirror_mode": {
    "name": "ipython",
    "version": 3
   },
   "file_extension": ".py",
   "mimetype": "text/x-python",
   "name": "python",
   "nbconvert_exporter": "python",
   "pygments_lexer": "ipython3",
   "version": "3.8.5"
  }
 },
 "nbformat": 4,
 "nbformat_minor": 4
}
