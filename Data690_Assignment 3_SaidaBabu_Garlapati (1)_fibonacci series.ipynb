{
 "cells": [
  {
   "cell_type": "markdown",
   "metadata": {},
   "source": [
    "# 1)Create a new module that has:\n",
    "\n",
    "    1)myFibonacci() function that implements Fibonacci series using recursion.\n",
    "    2)When the module is imported, set a global variable that is used to count the number of recursions function makes. \n",
    "    3)printNumRecursions() function to return the number of total recursions made in myFibonacci() function"
   ]
  },
  {
   "cell_type": "code",
   "execution_count": 23,
   "metadata": {},
   "outputs": [],
   "source": [
    "number= 0\n",
    "def myFibonacci(p):\n",
    "    global number\n",
    "    number+=1\n",
    "    if p==0 or p==1:\n",
    "        return 1\n",
    "    else:\n",
    "        return myFibonacci(p-1)+myFibonacci(p-2)\n",
    "def printNumRecursions(q):\n",
    "    global number\n",
    "    number= 0\n",
    "    print(\"The fibonacci value is:\", myFibonacci(q))\n",
    "    print(\"The number of total recurssions made are:\", number)"
   ]
  },
  {
   "cell_type": "code",
   "execution_count": 24,
   "metadata": {},
   "outputs": [
    {
     "name": "stdout",
     "output_type": "stream",
     "text": [
      "Enter the number: 39\n",
      "102334155\n",
      "The fibonacci value is: 102334155\n",
      "The number of total recurssions made are: 204668309\n",
      "None\n"
     ]
    }
   ],
   "source": [
    "num= int(input(\"Enter the number: \"))\n",
    "print(myFibonacci(num))\n",
    "print(printNumRecursions(num))"
   ]
  },
  {
   "cell_type": "markdown",
   "metadata": {},
   "source": [
    "# 2) Modify applyToEach() to use Python map() function"
   ]
  },
  {
   "cell_type": "code",
   "execution_count": 25,
   "metadata": {},
   "outputs": [
    {
     "name": "stdout",
     "output_type": "stream",
     "text": [
      "1\n",
      "3.5\n",
      "4.7\n",
      "0\n",
      "1\n",
      "5.5\n",
      "6.7\n"
     ]
    }
   ],
   "source": [
    "def applyToEach(value):\n",
    "    return abs(value)\n",
    "for numb in map(applyToEach,[-1,-3.5,-4.7,0,1,5.5,6.7]):\n",
    "    print(numb)"
   ]
  }
 ],
 "metadata": {
  "kernelspec": {
   "display_name": "Python 3",
   "language": "python",
   "name": "python3"
  },
  "language_info": {
   "codemirror_mode": {
    "name": "ipython",
    "version": 3
   },
   "file_extension": ".py",
   "mimetype": "text/x-python",
   "name": "python",
   "nbconvert_exporter": "python",
   "pygments_lexer": "ipython3",
   "version": "3.8.5"
  }
 },
 "nbformat": 4,
 "nbformat_minor": 4
}
