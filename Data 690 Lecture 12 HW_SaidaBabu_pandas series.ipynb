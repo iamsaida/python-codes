{
 "cells": [
  {
   "cell_type": "code",
   "execution_count": 2,
   "metadata": {},
   "outputs": [],
   "source": [
    "import pandas as pd\n",
    "import numpy as np"
   ]
  },
  {
   "cell_type": "markdown",
   "metadata": {},
   "source": [
    "NOTE: This assignment is adapted from: https://github.com/ajcr/100-pandas-puzzles/blob/master/100-pandas-puzzles.ipynb"
   ]
  },
  {
   "cell_type": "markdown",
   "metadata": {},
   "source": [
    "1. Given a list of states = ['VA', 'MD', 'NY', 'NJ', 'TX'] and arbitrarary census data = list(range(10)), construct a MultiIndex object from the product of the two lists. Use it to index a ``Series`` of random numbers. Call this Series s.\n",
    "\n",
    "**Note you will have multiply indexed series with state name as the 1st level of index and census data (0 to 9) as the 2nd level index**"
   ]
  },
  {
   "cell_type": "code",
   "execution_count": 3,
   "metadata": {},
   "outputs": [],
   "source": [
    "states = ['VA', 'MD', 'NY', 'NJ', 'TX'] \n",
    "census_data = list(range(10))"
   ]
  },
  {
   "cell_type": "code",
   "execution_count": 4,
   "metadata": {},
   "outputs": [
    {
     "name": "stdout",
     "output_type": "stream",
     "text": [
      "[range(0, 10)]\n"
     ]
    }
   ],
   "source": [
    "print([(range(10))])"
   ]
  },
  {
   "cell_type": "code",
   "execution_count": 5,
   "metadata": {},
   "outputs": [],
   "source": [
    "idx = pd.MultiIndex.from_product([states,census_data])"
   ]
  },
  {
   "cell_type": "code",
   "execution_count": 6,
   "metadata": {},
   "outputs": [
    {
     "data": {
      "text/plain": [
       "MultiIndex([('VA', 0),\n",
       "            ('VA', 1),\n",
       "            ('VA', 2),\n",
       "            ('VA', 3),\n",
       "            ('VA', 4),\n",
       "            ('VA', 5),\n",
       "            ('VA', 6),\n",
       "            ('VA', 7),\n",
       "            ('VA', 8),\n",
       "            ('VA', 9),\n",
       "            ('MD', 0),\n",
       "            ('MD', 1),\n",
       "            ('MD', 2),\n",
       "            ('MD', 3),\n",
       "            ('MD', 4),\n",
       "            ('MD', 5),\n",
       "            ('MD', 6),\n",
       "            ('MD', 7),\n",
       "            ('MD', 8),\n",
       "            ('MD', 9),\n",
       "            ('NY', 0),\n",
       "            ('NY', 1),\n",
       "            ('NY', 2),\n",
       "            ('NY', 3),\n",
       "            ('NY', 4),\n",
       "            ('NY', 5),\n",
       "            ('NY', 6),\n",
       "            ('NY', 7),\n",
       "            ('NY', 8),\n",
       "            ('NY', 9),\n",
       "            ('NJ', 0),\n",
       "            ('NJ', 1),\n",
       "            ('NJ', 2),\n",
       "            ('NJ', 3),\n",
       "            ('NJ', 4),\n",
       "            ('NJ', 5),\n",
       "            ('NJ', 6),\n",
       "            ('NJ', 7),\n",
       "            ('NJ', 8),\n",
       "            ('NJ', 9),\n",
       "            ('TX', 0),\n",
       "            ('TX', 1),\n",
       "            ('TX', 2),\n",
       "            ('TX', 3),\n",
       "            ('TX', 4),\n",
       "            ('TX', 5),\n",
       "            ('TX', 6),\n",
       "            ('TX', 7),\n",
       "            ('TX', 8),\n",
       "            ('TX', 9)],\n",
       "           )"
      ]
     },
     "execution_count": 6,
     "metadata": {},
     "output_type": "execute_result"
    }
   ],
   "source": [
    "idx"
   ]
  },
  {
   "cell_type": "code",
   "execution_count": 7,
   "metadata": {},
   "outputs": [],
   "source": [
    "s = pd.Series(np.random.rand(50), index=idx)\n",
    "s.index.names = ['states', 'census_data']"
   ]
  },
  {
   "cell_type": "code",
   "execution_count": 8,
   "metadata": {},
   "outputs": [
    {
     "data": {
      "text/plain": [
       "states  census_data\n",
       "VA      0              0.319820\n",
       "        1              0.059553\n",
       "        2              0.348858\n",
       "        3              0.605063\n",
       "        4              0.159991\n",
       "        5              0.649780\n",
       "        6              0.750688\n",
       "        7              0.334231\n",
       "        8              0.139600\n",
       "        9              0.512875\n",
       "MD      0              0.680739\n",
       "        1              0.812097\n",
       "        2              0.047935\n",
       "        3              0.060000\n",
       "        4              0.987395\n",
       "        5              0.598277\n",
       "        6              0.888713\n",
       "        7              0.392956\n",
       "        8              0.722681\n",
       "        9              0.296465\n",
       "NY      0              0.523071\n",
       "        1              0.802465\n",
       "        2              0.940535\n",
       "        3              0.992856\n",
       "        4              0.250233\n",
       "        5              0.150345\n",
       "        6              0.864836\n",
       "        7              0.566309\n",
       "        8              0.235924\n",
       "        9              0.817388\n",
       "NJ      0              0.250820\n",
       "        1              0.132675\n",
       "        2              0.420251\n",
       "        3              0.280361\n",
       "        4              0.006761\n",
       "        5              0.617936\n",
       "        6              0.505290\n",
       "        7              0.074817\n",
       "        8              0.483883\n",
       "        9              0.057345\n",
       "TX      0              0.355646\n",
       "        1              0.010145\n",
       "        2              0.422393\n",
       "        3              0.247591\n",
       "        4              0.061275\n",
       "        5              0.511792\n",
       "        6              0.679135\n",
       "        7              0.560256\n",
       "        8              0.768894\n",
       "        9              0.339553\n",
       "dtype: float64"
      ]
     },
     "execution_count": 8,
     "metadata": {},
     "output_type": "execute_result"
    }
   ],
   "source": [
    "s"
   ]
  },
  {
   "cell_type": "markdown",
   "metadata": {},
   "source": [
    "2. Check whether the index of s is lexicographically sorted. If not, apply sorting to ensure that you can use index slicing. "
   ]
  },
  {
   "cell_type": "code",
   "execution_count": 9,
   "metadata": {},
   "outputs": [
    {
     "data": {
      "text/plain": [
       "states  census_data\n",
       "MD      0              0.680739\n",
       "        1              0.812097\n",
       "        2              0.047935\n",
       "        3              0.060000\n",
       "        4              0.987395\n",
       "        5              0.598277\n",
       "        6              0.888713\n",
       "        7              0.392956\n",
       "        8              0.722681\n",
       "        9              0.296465\n",
       "NJ      0              0.250820\n",
       "        1              0.132675\n",
       "        2              0.420251\n",
       "        3              0.280361\n",
       "        4              0.006761\n",
       "        5              0.617936\n",
       "        6              0.505290\n",
       "        7              0.074817\n",
       "        8              0.483883\n",
       "        9              0.057345\n",
       "NY      0              0.523071\n",
       "        1              0.802465\n",
       "        2              0.940535\n",
       "        3              0.992856\n",
       "        4              0.250233\n",
       "        5              0.150345\n",
       "        6              0.864836\n",
       "        7              0.566309\n",
       "        8              0.235924\n",
       "        9              0.817388\n",
       "TX      0              0.355646\n",
       "        1              0.010145\n",
       "        2              0.422393\n",
       "        3              0.247591\n",
       "        4              0.061275\n",
       "        5              0.511792\n",
       "        6              0.679135\n",
       "        7              0.560256\n",
       "        8              0.768894\n",
       "        9              0.339553\n",
       "VA      0              0.319820\n",
       "        1              0.059553\n",
       "        2              0.348858\n",
       "        3              0.605063\n",
       "        4              0.159991\n",
       "        5              0.649780\n",
       "        6              0.750688\n",
       "        7              0.334231\n",
       "        8              0.139600\n",
       "        9              0.512875\n",
       "dtype: float64"
      ]
     },
     "execution_count": 9,
     "metadata": {},
     "output_type": "execute_result"
    }
   ],
   "source": [
    "df=s.sort_index()\n",
    "df"
   ]
  },
  {
   "cell_type": "markdown",
   "metadata": {},
   "source": [
    "3. Select the labels 1, 3 and 6 from the second level of the MultiIndexed ``Series``."
   ]
  },
  {
   "cell_type": "code",
   "execution_count": 10,
   "metadata": {},
   "outputs": [
    {
     "data": {
      "text/plain": [
       "states  census_data\n",
       "VA      1              0.059553\n",
       "        3              0.605063\n",
       "        6              0.750688\n",
       "MD      1              0.812097\n",
       "        3              0.060000\n",
       "        6              0.888713\n",
       "NY      1              0.802465\n",
       "        3              0.992856\n",
       "        6              0.864836\n",
       "NJ      1              0.132675\n",
       "        3              0.280361\n",
       "        6              0.505290\n",
       "TX      1              0.010145\n",
       "        3              0.247591\n",
       "        6              0.679135\n",
       "dtype: float64"
      ]
     },
     "execution_count": 10,
     "metadata": {},
     "output_type": "execute_result"
    }
   ],
   "source": [
    "s.loc[:,[1,3,6]]"
   ]
  },
  {
   "cell_type": "markdown",
   "metadata": {},
   "source": [
    "4. Slice the ``DataFrame`` df; slice up to 4th state of the first level and from label 8 onwards for the second level."
   ]
  },
  {
   "cell_type": "code",
   "execution_count": 11,
   "metadata": {},
   "outputs": [
    {
     "ename": "NameError",
     "evalue": "name 'df1' is not defined",
     "output_type": "error",
     "traceback": [
      "\u001b[0;31m---------------------------------------------------------------------------\u001b[0m",
      "\u001b[0;31mNameError\u001b[0m                                 Traceback (most recent call last)",
      "\u001b[0;32m<ipython-input-11-1ba6c39fb33e>\u001b[0m in \u001b[0;36m<module>\u001b[0;34m\u001b[0m\n\u001b[0;32m----> 1\u001b[0;31m \u001b[0mdf1\u001b[0m\u001b[0;34m.\u001b[0m\u001b[0mloc\u001b[0m\u001b[0;34m[\u001b[0m\u001b[0mslice\u001b[0m\u001b[0;34m(\u001b[0m\u001b[0;32mNone\u001b[0m\u001b[0;34m,\u001b[0m \u001b[0;34m'TX'\u001b[0m\u001b[0;34m)\u001b[0m\u001b[0;34m,\u001b[0m \u001b[0mslice\u001b[0m\u001b[0;34m(\u001b[0m\u001b[0;36m8\u001b[0m\u001b[0;34m,\u001b[0m \u001b[0;32mNone\u001b[0m\u001b[0;34m)\u001b[0m\u001b[0;34m]\u001b[0m\u001b[0;34m\u001b[0m\u001b[0;34m\u001b[0m\u001b[0m\n\u001b[0m",
      "\u001b[0;31mNameError\u001b[0m: name 'df1' is not defined"
     ]
    }
   ],
   "source": [
    "df1.loc[slice(None, 'TX'), slice(8, None)]"
   ]
  },
  {
   "cell_type": "markdown",
   "metadata": {},
   "source": [
    " 5. Sum the values in s for each label in the first level (you should have Series giving you a total for labels 'VA', 'MD', 'NY', 'NJ' and 'TX')."
   ]
  },
  {
   "cell_type": "code",
   "execution_count": 64,
   "metadata": {},
   "outputs": [
    {
     "data": {
      "text/plain": [
       "states\n",
       "VA    6.260260\n",
       "MD    3.952969\n",
       "NY    5.735083\n",
       "NJ    4.856743\n",
       "TX    5.454764\n",
       "dtype: float64"
      ]
     },
     "execution_count": 64,
     "metadata": {},
     "output_type": "execute_result"
    }
   ],
   "source": [
    "s.sum(level=0)"
   ]
  },
  {
   "cell_type": "markdown",
   "metadata": {},
   "source": [
    "6. Using unstack, create a ``DataFrame`` from s. States index will become new columns. "
   ]
  },
  {
   "cell_type": "code",
   "execution_count": 65,
   "metadata": {},
   "outputs": [
    {
     "data": {
      "text/html": [
       "<div>\n",
       "<style scoped>\n",
       "    .dataframe tbody tr th:only-of-type {\n",
       "        vertical-align: middle;\n",
       "    }\n",
       "\n",
       "    .dataframe tbody tr th {\n",
       "        vertical-align: top;\n",
       "    }\n",
       "\n",
       "    .dataframe thead th {\n",
       "        text-align: right;\n",
       "    }\n",
       "</style>\n",
       "<table border=\"1\" class=\"dataframe\">\n",
       "  <thead>\n",
       "    <tr style=\"text-align: right;\">\n",
       "      <th>census_data</th>\n",
       "      <th>0</th>\n",
       "      <th>1</th>\n",
       "      <th>2</th>\n",
       "      <th>3</th>\n",
       "      <th>4</th>\n",
       "      <th>5</th>\n",
       "      <th>6</th>\n",
       "      <th>7</th>\n",
       "      <th>8</th>\n",
       "      <th>9</th>\n",
       "    </tr>\n",
       "    <tr>\n",
       "      <th>states</th>\n",
       "      <th></th>\n",
       "      <th></th>\n",
       "      <th></th>\n",
       "      <th></th>\n",
       "      <th></th>\n",
       "      <th></th>\n",
       "      <th></th>\n",
       "      <th></th>\n",
       "      <th></th>\n",
       "      <th></th>\n",
       "    </tr>\n",
       "  </thead>\n",
       "  <tbody>\n",
       "    <tr>\n",
       "      <th>MD</th>\n",
       "      <td>0.004736</td>\n",
       "      <td>0.225534</td>\n",
       "      <td>0.122955</td>\n",
       "      <td>0.144170</td>\n",
       "      <td>0.832277</td>\n",
       "      <td>0.007586</td>\n",
       "      <td>0.765477</td>\n",
       "      <td>0.865452</td>\n",
       "      <td>0.535275</td>\n",
       "      <td>0.449506</td>\n",
       "    </tr>\n",
       "    <tr>\n",
       "      <th>NJ</th>\n",
       "      <td>0.882239</td>\n",
       "      <td>0.477858</td>\n",
       "      <td>0.576666</td>\n",
       "      <td>0.216333</td>\n",
       "      <td>0.297818</td>\n",
       "      <td>0.665780</td>\n",
       "      <td>0.127950</td>\n",
       "      <td>0.503850</td>\n",
       "      <td>0.901952</td>\n",
       "      <td>0.206297</td>\n",
       "    </tr>\n",
       "    <tr>\n",
       "      <th>NY</th>\n",
       "      <td>0.669725</td>\n",
       "      <td>0.324777</td>\n",
       "      <td>0.892692</td>\n",
       "      <td>0.139505</td>\n",
       "      <td>0.852372</td>\n",
       "      <td>0.265436</td>\n",
       "      <td>0.572674</td>\n",
       "      <td>0.977931</td>\n",
       "      <td>0.346269</td>\n",
       "      <td>0.693702</td>\n",
       "    </tr>\n",
       "    <tr>\n",
       "      <th>TX</th>\n",
       "      <td>0.147391</td>\n",
       "      <td>0.688484</td>\n",
       "      <td>0.126208</td>\n",
       "      <td>0.020539</td>\n",
       "      <td>0.323900</td>\n",
       "      <td>0.918788</td>\n",
       "      <td>0.956073</td>\n",
       "      <td>0.795782</td>\n",
       "      <td>0.868681</td>\n",
       "      <td>0.608918</td>\n",
       "    </tr>\n",
       "    <tr>\n",
       "      <th>VA</th>\n",
       "      <td>0.588654</td>\n",
       "      <td>0.605746</td>\n",
       "      <td>0.081478</td>\n",
       "      <td>0.813184</td>\n",
       "      <td>0.898041</td>\n",
       "      <td>0.372915</td>\n",
       "      <td>0.752910</td>\n",
       "      <td>0.299773</td>\n",
       "      <td>0.975025</td>\n",
       "      <td>0.872534</td>\n",
       "    </tr>\n",
       "  </tbody>\n",
       "</table>\n",
       "</div>"
      ],
      "text/plain": [
       "census_data         0         1         2         3         4         5  \\\n",
       "states                                                                    \n",
       "MD           0.004736  0.225534  0.122955  0.144170  0.832277  0.007586   \n",
       "NJ           0.882239  0.477858  0.576666  0.216333  0.297818  0.665780   \n",
       "NY           0.669725  0.324777  0.892692  0.139505  0.852372  0.265436   \n",
       "TX           0.147391  0.688484  0.126208  0.020539  0.323900  0.918788   \n",
       "VA           0.588654  0.605746  0.081478  0.813184  0.898041  0.372915   \n",
       "\n",
       "census_data         6         7         8         9  \n",
       "states                                               \n",
       "MD           0.765477  0.865452  0.535275  0.449506  \n",
       "NJ           0.127950  0.503850  0.901952  0.206297  \n",
       "NY           0.572674  0.977931  0.346269  0.693702  \n",
       "TX           0.956073  0.795782  0.868681  0.608918  \n",
       "VA           0.752910  0.299773  0.975025  0.872534  "
      ]
     },
     "execution_count": 65,
     "metadata": {},
     "output_type": "execute_result"
    }
   ],
   "source": [
    "df=s.unstack()\n",
    "df"
   ]
  }
 ],
 "metadata": {
  "kernelspec": {
   "display_name": "Python 3",
   "language": "python",
   "name": "python3"
  },
  "language_info": {
   "codemirror_mode": {
    "name": "ipython",
    "version": 3
   },
   "file_extension": ".py",
   "mimetype": "text/x-python",
   "name": "python",
   "nbconvert_exporter": "python",
   "pygments_lexer": "ipython3",
   "version": "3.8.5"
  }
 },
 "nbformat": 4,
 "nbformat_minor": 4
}
